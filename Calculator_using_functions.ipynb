{
  "nbformat": 4,
  "nbformat_minor": 0,
  "metadata": {
    "colab": {
      "name": "Calculator_using_functions.ipynb",
      "provenance": [],
      "collapsed_sections": [],
      "authorship_tag": "ABX9TyNWc2Z7cGFsheD/y4qiDAo1"
    },
    "kernelspec": {
      "name": "python3",
      "display_name": "Python 3"
    },
    "language_info": {
      "name": "python"
    }
  },
  "cells": [
    {
      "cell_type": "markdown",
      "source": [
        "***Python program to make a simple calculator that can add, subtract, multiply and divide.***"
      ],
      "metadata": {
        "id": "T0lmST-d2vUE"
      }
    },
    {
      "cell_type": "code",
      "execution_count": null,
      "metadata": {
        "colab": {
          "base_uri": "https://localhost:8080/"
        },
        "id": "YjdeARIP2jJm",
        "outputId": "2eccf5e7-5098-4aa9-b305-ec6b11e4a596"
      },
      "outputs": [
        {
          "output_type": "stream",
          "name": "stdout",
          "text": [
            "Select the choice of operation from following\n",
            "1. Addition\n",
            "2.Substraction\n",
            "3. Multiplication\n",
            "4. Division\n",
            "Enter your choice from 1 to 4:  4\n",
            "Enter first no. :90\n",
            "Enter second no. :5\n",
            "Division of two nos 90.0 & 5.0 is 18.0\n"
          ]
        }
      ],
      "source": [
        "def addition(N1, N2):\n",
        "      return N1 + N2\n",
        "def susbtraction(N1, N2):\n",
        "      return N1 - N2\n",
        "def Product(N1, N2):\n",
        "      return N1 * N2\n",
        "def division(N1, N2):\n",
        "      return N1/N2\n",
        "\n",
        "print(\"Select the choice of operation from following\")\n",
        "print(\"1. Addition\")\n",
        "print(\"2.Substraction\")\n",
        "print(\"3. Multiplication\")\n",
        "print(\"4. Division\")\n",
        "\n",
        "choice = int ( input(\"Enter your choice from 1 to 4:  \"))\n",
        "N1 = float(input(\"Enter first no. :\"))\n",
        "N2 = float(input(\"Enter second no. :\"))\n",
        "\n",
        "if choice == 1:\n",
        "      print(\"Sum of two nos {0} & {1} is {2}\".format(N1, N2, addition(N1, N2) ))\n",
        "elif choice == 2:\n",
        "      print(\"Substraction of two nos {0} & {1} is {2}\".format(N1, N2,  susbtraction(N1, N2) ))\n",
        "elif choice == 3:\n",
        "      print(\" Product of two nos {0} & {1} is {2}\".format(N1, N2,   Product(N1, N2) ))\n",
        "elif choice == 4:\n",
        "      print(\"Division of two nos {0} & {1} is {2}\".format(N1, N2, division(N1, N2) ))\n",
        "else:\n",
        "      print(\"Invalid Choice, please try again from 1 to 4\")\n",
        "\n",
        "\n",
        "\n",
        "\n"
      ]
    },
    {
      "cell_type": "markdown",
      "source": [
        "***Recurssive Function**\n",
        "Finding Factorial of a number"
      ],
      "metadata": {
        "id": "z_X6gNwKEIcB"
      }
    },
    {
      "cell_type": "code",
      "source": [
        "def factorial(num):\n",
        "       return 1 if num == 1 else (num*factorial(num-1))"
      ],
      "metadata": {
        "id": "qvkYw8KeEmjw"
      },
      "execution_count": null,
      "outputs": []
    },
    {
      "cell_type": "code",
      "source": [
        "num = int(input(\"Enter number: \"))\n",
        "print(\"Factorial:  \" , factorial(num))"
      ],
      "metadata": {
        "colab": {
          "base_uri": "https://localhost:8080/"
        },
        "id": "nRcVx-mNTOgi",
        "outputId": "5dd5416c-5d35-4327-c268-5a8836cc8d90"
      },
      "execution_count": null,
      "outputs": [
        {
          "output_type": "stream",
          "name": "stdout",
          "text": [
            "Enter number: 5\n",
            "Factorial:   120\n"
          ]
        }
      ]
    },
    {
      "cell_type": "code",
      "source": [
        ""
      ],
      "metadata": {
        "id": "RsXeKE7LUTgq"
      },
      "execution_count": null,
      "outputs": []
    }
  ]
}