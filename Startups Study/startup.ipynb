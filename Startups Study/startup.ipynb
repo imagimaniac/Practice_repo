{
 "cells": [
  {
   "cell_type": "markdown",
   "metadata": {},
   "source": [
    "# Exploratory Data Analysis\n",
    "## EDA of Startup dataset from Kaggle"
   ]
  },
  {
   "cell_type": "markdown",
   "metadata": {},
   "source": []
  },
  {
   "cell_type": "code",
   "execution_count": 258,
   "metadata": {},
   "outputs": [],
   "source": [
    "# Importing Required Modules\n",
    "\n",
    "import numpy as np\n",
    "import pandas as pd\n",
    "import matplotlib as plt\n",
    "import seaborn as sns\n"
   ]
  },
  {
   "cell_type": "code",
   "execution_count": 220,
   "metadata": {},
   "outputs": [
    {
     "name": "stdout",
     "output_type": "stream",
     "text": [
      "(1209, 10)\n"
     ]
    },
    {
     "data": {
      "text/html": [
       "<div>\n",
       "<style scoped>\n",
       "    .dataframe tbody tr th:only-of-type {\n",
       "        vertical-align: middle;\n",
       "    }\n",
       "\n",
       "    .dataframe tbody tr th {\n",
       "        vertical-align: top;\n",
       "    }\n",
       "\n",
       "    .dataframe thead th {\n",
       "        text-align: right;\n",
       "    }\n",
       "</style>\n",
       "<table border=\"1\" class=\"dataframe\">\n",
       "  <thead>\n",
       "    <tr style=\"text-align: right;\">\n",
       "      <th></th>\n",
       "      <th>Company/Brand</th>\n",
       "      <th>Founded</th>\n",
       "      <th>Headquarters</th>\n",
       "      <th>Sector</th>\n",
       "      <th>What it does</th>\n",
       "      <th>Founder/s</th>\n",
       "      <th>Investor/s</th>\n",
       "      <th>Amount</th>\n",
       "      <th>Stage</th>\n",
       "      <th>Date</th>\n",
       "    </tr>\n",
       "  </thead>\n",
       "  <tbody>\n",
       "    <tr>\n",
       "      <th>1202</th>\n",
       "      <td>Agri10x</td>\n",
       "      <td>2018.0</td>\n",
       "      <td>Pune</td>\n",
       "      <td>AgriTech</td>\n",
       "      <td>Agri10x integrates the entire Agri value-chain...</td>\n",
       "      <td>Abhijith Naraparaju, Pankajj P. Ghode, Sundeep...</td>\n",
       "      <td>Omnivore</td>\n",
       "      <td>Undisclosed</td>\n",
       "      <td>Seed</td>\n",
       "      <td>Jan-2021</td>\n",
       "    </tr>\n",
       "    <tr>\n",
       "      <th>886</th>\n",
       "      <td>Unbox Robotics</td>\n",
       "      <td>2019.0</td>\n",
       "      <td>Bangalore</td>\n",
       "      <td>AI startup</td>\n",
       "      <td>Unbox Robotics builds on-demand AI-driven ware...</td>\n",
       "      <td>Pramod Ghadge, Shahid Memon</td>\n",
       "      <td>BEENEXT, Entrepreneur First</td>\n",
       "      <td>$1,200,000</td>\n",
       "      <td>Pre-series A</td>\n",
       "      <td>Apr-2021</td>\n",
       "    </tr>\n",
       "    <tr>\n",
       "      <th>904</th>\n",
       "      <td>ixamBee</td>\n",
       "      <td>2016.0</td>\n",
       "      <td>New Delhi</td>\n",
       "      <td>EdTech</td>\n",
       "      <td>ixamBee is to provide best online learning exp...</td>\n",
       "      <td>Chandraprakash Joshi</td>\n",
       "      <td>Mumbai Angels, Narendra Shyamsukha</td>\n",
       "      <td>$300,000</td>\n",
       "      <td>Seed</td>\n",
       "      <td>Apr-2021</td>\n",
       "    </tr>\n",
       "    <tr>\n",
       "      <th>867</th>\n",
       "      <td>Rubix Data Sciences</td>\n",
       "      <td>2018.0</td>\n",
       "      <td>Mumbai</td>\n",
       "      <td>IT startup</td>\n",
       "      <td>Rubix Data Sciences focuses on simplifying dec...</td>\n",
       "      <td>Mohan Ramaswamy</td>\n",
       "      <td>NaN</td>\n",
       "      <td>$800,000</td>\n",
       "      <td>Seed</td>\n",
       "      <td>May-2021</td>\n",
       "    </tr>\n",
       "    <tr>\n",
       "      <th>592</th>\n",
       "      <td>ixigo</td>\n",
       "      <td>2007.0</td>\n",
       "      <td>Gurugram</td>\n",
       "      <td>IT</td>\n",
       "      <td>AI-based travel app offering seamless planning...</td>\n",
       "      <td>Rajnish Kumar, Aloke Bajpai</td>\n",
       "      <td>GIC, Infoedge</td>\n",
       "      <td>$53,000,000</td>\n",
       "      <td>NaN</td>\n",
       "      <td>Jul-2021</td>\n",
       "    </tr>\n",
       "  </tbody>\n",
       "</table>\n",
       "</div>"
      ],
      "text/plain": [
       "            Company/Brand  Founded Headquarters      Sector  \\\n",
       "1202              Agri10x   2018.0         Pune    AgriTech   \n",
       "886        Unbox Robotics   2019.0    Bangalore  AI startup   \n",
       "904               ixamBee   2016.0    New Delhi      EdTech   \n",
       "867   Rubix Data Sciences   2018.0       Mumbai  IT startup   \n",
       "592                 ixigo   2007.0     Gurugram          IT   \n",
       "\n",
       "                                           What it does  \\\n",
       "1202  Agri10x integrates the entire Agri value-chain...   \n",
       "886   Unbox Robotics builds on-demand AI-driven ware...   \n",
       "904   ixamBee is to provide best online learning exp...   \n",
       "867   Rubix Data Sciences focuses on simplifying dec...   \n",
       "592   AI-based travel app offering seamless planning...   \n",
       "\n",
       "                                              Founder/s  \\\n",
       "1202  Abhijith Naraparaju, Pankajj P. Ghode, Sundeep...   \n",
       "886                         Pramod Ghadge, Shahid Memon   \n",
       "904                                Chandraprakash Joshi   \n",
       "867                                     Mohan Ramaswamy   \n",
       "592                         Rajnish Kumar, Aloke Bajpai   \n",
       "\n",
       "                              Investor/s       Amount         Stage     Date   \n",
       "1202                            Omnivore  Undisclosed          Seed  Jan-2021  \n",
       "886          BEENEXT, Entrepreneur First   $1,200,000  Pre-series A  Apr-2021  \n",
       "904   Mumbai Angels, Narendra Shyamsukha     $300,000          Seed  Apr-2021  \n",
       "867                                  NaN     $800,000          Seed  May-2021  \n",
       "592                        GIC, Infoedge  $53,000,000           NaN  Jul-2021  "
      ]
     },
     "execution_count": 220,
     "metadata": {},
     "output_type": "execute_result"
    }
   ],
   "source": [
    "df = pd.read_csv(\"IndianStartup.csv\")\n",
    "print(df.shape)\n",
    "df.sample(5)"
   ]
  },
  {
   "cell_type": "code",
   "execution_count": 221,
   "metadata": {},
   "outputs": [
    {
     "name": "stdout",
     "output_type": "stream",
     "text": [
      "<class 'pandas.core.frame.DataFrame'>\n",
      "RangeIndex: 1209 entries, 0 to 1208\n",
      "Data columns (total 10 columns):\n",
      " #   Column         Non-Null Count  Dtype  \n",
      "---  ------         --------------  -----  \n",
      " 0   Company/Brand  1209 non-null   object \n",
      " 1   Founded        1208 non-null   float64\n",
      " 2   Headquarters   1208 non-null   object \n",
      " 3   Sector         1209 non-null   object \n",
      " 4   What it does   1209 non-null   object \n",
      " 5   Founder/s      1205 non-null   object \n",
      " 6   Investor/s     1147 non-null   object \n",
      " 7   Amount         1206 non-null   object \n",
      " 8   Stage          781 non-null    object \n",
      " 9   Date           1209 non-null   object \n",
      "dtypes: float64(1), object(9)\n",
      "memory usage: 94.6+ KB\n"
     ]
    }
   ],
   "source": [
    "df.info()"
   ]
  },
  {
   "cell_type": "markdown",
   "metadata": {},
   "source": [
    "##### The amount column is of Objects type with string type content such as '$' and ','. We need to replace them by '', and convert it to numerica value such as float or integer"
   ]
  },
  {
   "cell_type": "code",
   "execution_count": 222,
   "metadata": {},
   "outputs": [
    {
     "data": {
      "text/plain": [
       "Company/Brand      0\n",
       "Founded            1\n",
       "Headquarters       1\n",
       "Sector             0\n",
       "What it does       0\n",
       "Founder/s          4\n",
       "Investor/s        62\n",
       "Amount             3\n",
       "Stage            428\n",
       "Date               0\n",
       "dtype: int64"
      ]
     },
     "execution_count": 222,
     "metadata": {},
     "output_type": "execute_result"
    }
   ],
   "source": [
    "df.isna().sum()"
   ]
  },
  {
   "cell_type": "markdown",
   "metadata": {},
   "source": [
    "Stage as of now not clear whether usefule feature or not. But removing 428 rows just because of one feature is not present wont be afforadble."
   ]
  },
  {
   "cell_type": "code",
   "execution_count": 223,
   "metadata": {},
   "outputs": [],
   "source": [
    "df[\"Current Year\"] = 2021"
   ]
  },
  {
   "cell_type": "code",
   "execution_count": 224,
   "metadata": {},
   "outputs": [],
   "source": [
    "df[\"Years_Old\"] = df[\"Current Year\"] - df[\"Founded\"]"
   ]
  },
  {
   "cell_type": "code",
   "execution_count": 225,
   "metadata": {},
   "outputs": [
    {
     "data": {
      "text/html": [
       "<div>\n",
       "<style scoped>\n",
       "    .dataframe tbody tr th:only-of-type {\n",
       "        vertical-align: middle;\n",
       "    }\n",
       "\n",
       "    .dataframe tbody tr th {\n",
       "        vertical-align: top;\n",
       "    }\n",
       "\n",
       "    .dataframe thead th {\n",
       "        text-align: right;\n",
       "    }\n",
       "</style>\n",
       "<table border=\"1\" class=\"dataframe\">\n",
       "  <thead>\n",
       "    <tr style=\"text-align: right;\">\n",
       "      <th></th>\n",
       "      <th>Company/Brand</th>\n",
       "      <th>Founded</th>\n",
       "      <th>Headquarters</th>\n",
       "      <th>Sector</th>\n",
       "      <th>What it does</th>\n",
       "      <th>Founder/s</th>\n",
       "      <th>Investor/s</th>\n",
       "      <th>Amount</th>\n",
       "      <th>Stage</th>\n",
       "      <th>Date</th>\n",
       "      <th>Current Year</th>\n",
       "      <th>Years_Old</th>\n",
       "    </tr>\n",
       "  </thead>\n",
       "  <tbody>\n",
       "    <tr>\n",
       "      <th>0</th>\n",
       "      <td>CollegeDekho</td>\n",
       "      <td>2015.0</td>\n",
       "      <td>Gurgaon</td>\n",
       "      <td>E-learning</td>\n",
       "      <td>Collegedekho.com is Student’s Partner, Friend ...</td>\n",
       "      <td>Ruchir Arora</td>\n",
       "      <td>Disrupt ADQ, QIC</td>\n",
       "      <td>$35,000,000</td>\n",
       "      <td>Series B</td>\n",
       "      <td>Dec-2021</td>\n",
       "      <td>2021</td>\n",
       "      <td>6.0</td>\n",
       "    </tr>\n",
       "    <tr>\n",
       "      <th>1</th>\n",
       "      <td>BOX8</td>\n",
       "      <td>2012.0</td>\n",
       "      <td>Mumbai</td>\n",
       "      <td>Food &amp; Beverages</td>\n",
       "      <td>India's Largest Desi Meals Brand</td>\n",
       "      <td>Anshul Gupta, Amit Raj</td>\n",
       "      <td>Tiger Global</td>\n",
       "      <td>$40,000,000</td>\n",
       "      <td>NaN</td>\n",
       "      <td>Dec-2021</td>\n",
       "      <td>2021</td>\n",
       "      <td>9.0</td>\n",
       "    </tr>\n",
       "    <tr>\n",
       "      <th>2</th>\n",
       "      <td>Simpl</td>\n",
       "      <td>2015.0</td>\n",
       "      <td>Bangalore</td>\n",
       "      <td>Consumer Services</td>\n",
       "      <td>Simpl empowers merchants to build trusted rela...</td>\n",
       "      <td>Nitya, Chaitra Chidanand</td>\n",
       "      <td>Valar Ventures, IA Ventures</td>\n",
       "      <td>$40,000,000</td>\n",
       "      <td>Series B</td>\n",
       "      <td>Dec-2021</td>\n",
       "      <td>2021</td>\n",
       "      <td>6.0</td>\n",
       "    </tr>\n",
       "    <tr>\n",
       "      <th>3</th>\n",
       "      <td>8i Ventures</td>\n",
       "      <td>2018.0</td>\n",
       "      <td>Mumbai</td>\n",
       "      <td>Venture Capital &amp; Private Equity</td>\n",
       "      <td>8i is a Mumbai &amp; Bangalore based early stage f...</td>\n",
       "      <td>Vikram Chachra</td>\n",
       "      <td>NaN</td>\n",
       "      <td>$50,000,000</td>\n",
       "      <td>NaN</td>\n",
       "      <td>Dec-2021</td>\n",
       "      <td>2021</td>\n",
       "      <td>3.0</td>\n",
       "    </tr>\n",
       "    <tr>\n",
       "      <th>4</th>\n",
       "      <td>PayGlocal</td>\n",
       "      <td>2021.0</td>\n",
       "      <td>Bangalore</td>\n",
       "      <td>Financial Services</td>\n",
       "      <td>PayGlocal is a FinTech solving for global paym...</td>\n",
       "      <td>Prachi Dharani, Rohit Sukhija, Yogesh Lokhande</td>\n",
       "      <td>Sequoia Capital India</td>\n",
       "      <td>$4,900,000</td>\n",
       "      <td>Series A</td>\n",
       "      <td>Dec-2021</td>\n",
       "      <td>2021</td>\n",
       "      <td>0.0</td>\n",
       "    </tr>\n",
       "  </tbody>\n",
       "</table>\n",
       "</div>"
      ],
      "text/plain": [
       "  Company/Brand  Founded Headquarters                            Sector  \\\n",
       "0  CollegeDekho   2015.0      Gurgaon                        E-learning   \n",
       "1          BOX8   2012.0       Mumbai                  Food & Beverages   \n",
       "2         Simpl   2015.0    Bangalore                 Consumer Services   \n",
       "3   8i Ventures   2018.0       Mumbai  Venture Capital & Private Equity   \n",
       "4     PayGlocal   2021.0    Bangalore                Financial Services   \n",
       "\n",
       "                                        What it does  \\\n",
       "0  Collegedekho.com is Student’s Partner, Friend ...   \n",
       "1                   India's Largest Desi Meals Brand   \n",
       "2  Simpl empowers merchants to build trusted rela...   \n",
       "3  8i is a Mumbai & Bangalore based early stage f...   \n",
       "4  PayGlocal is a FinTech solving for global paym...   \n",
       "\n",
       "                                        Founder/s  \\\n",
       "0                                    Ruchir Arora   \n",
       "1                          Anshul Gupta, Amit Raj   \n",
       "2                        Nitya, Chaitra Chidanand   \n",
       "3                                  Vikram Chachra   \n",
       "4  Prachi Dharani, Rohit Sukhija, Yogesh Lokhande   \n",
       "\n",
       "                    Investor/s       Amount     Stage     Date   Current Year  \\\n",
       "0             Disrupt ADQ, QIC  $35,000,000  Series B  Dec-2021          2021   \n",
       "1                 Tiger Global  $40,000,000       NaN  Dec-2021          2021   \n",
       "2  Valar Ventures, IA Ventures  $40,000,000  Series B  Dec-2021          2021   \n",
       "3                          NaN  $50,000,000       NaN  Dec-2021          2021   \n",
       "4        Sequoia Capital India   $4,900,000  Series A  Dec-2021          2021   \n",
       "\n",
       "   Years_Old  \n",
       "0        6.0  \n",
       "1        9.0  \n",
       "2        6.0  \n",
       "3        3.0  \n",
       "4        0.0  "
      ]
     },
     "execution_count": 225,
     "metadata": {},
     "output_type": "execute_result"
    }
   ],
   "source": [
    "df.head()"
   ]
  },
  {
   "cell_type": "code",
   "execution_count": 226,
   "metadata": {},
   "outputs": [
    {
     "data": {
      "text/plain": [
       "Company/Brand      0\n",
       "Founded            1\n",
       "Headquarters       1\n",
       "Sector             0\n",
       "What it does       0\n",
       "Founder/s          4\n",
       "Investor/s        62\n",
       "Amount             3\n",
       "Stage            428\n",
       "Date               0\n",
       "Current Year       0\n",
       "Years_Old          1\n",
       "dtype: int64"
      ]
     },
     "execution_count": 226,
     "metadata": {},
     "output_type": "execute_result"
    }
   ],
   "source": [
    "df.isna().sum()"
   ]
  },
  {
   "cell_type": "code",
   "execution_count": 227,
   "metadata": {},
   "outputs": [],
   "source": [
    "df.dropna(inplace=True)"
   ]
  },
  {
   "cell_type": "code",
   "execution_count": 228,
   "metadata": {},
   "outputs": [
    {
     "data": {
      "text/plain": [
       "(741, 12)"
      ]
     },
     "execution_count": 228,
     "metadata": {},
     "output_type": "execute_result"
    }
   ],
   "source": [
    "df.shape"
   ]
  },
  {
   "cell_type": "code",
   "execution_count": 229,
   "metadata": {},
   "outputs": [
    {
     "data": {
      "text/html": [
       "<div>\n",
       "<style scoped>\n",
       "    .dataframe tbody tr th:only-of-type {\n",
       "        vertical-align: middle;\n",
       "    }\n",
       "\n",
       "    .dataframe tbody tr th {\n",
       "        vertical-align: top;\n",
       "    }\n",
       "\n",
       "    .dataframe thead th {\n",
       "        text-align: right;\n",
       "    }\n",
       "</style>\n",
       "<table border=\"1\" class=\"dataframe\">\n",
       "  <thead>\n",
       "    <tr style=\"text-align: right;\">\n",
       "      <th></th>\n",
       "      <th>Company/Brand</th>\n",
       "      <th>Founded</th>\n",
       "      <th>Headquarters</th>\n",
       "      <th>Sector</th>\n",
       "      <th>What it does</th>\n",
       "      <th>Founder/s</th>\n",
       "      <th>Investor/s</th>\n",
       "      <th>Amount</th>\n",
       "      <th>Stage</th>\n",
       "      <th>Date</th>\n",
       "      <th>Current Year</th>\n",
       "      <th>Years_Old</th>\n",
       "    </tr>\n",
       "  </thead>\n",
       "  <tbody>\n",
       "    <tr>\n",
       "      <th>381</th>\n",
       "      <td>MPL</td>\n",
       "      <td>2018.0</td>\n",
       "      <td>Bangalore</td>\n",
       "      <td>Sports</td>\n",
       "      <td>Mobile Premier League (MPL), is India’s larges...</td>\n",
       "      <td>Sai Srinivas Kiran GV, Shubh Malhotra</td>\n",
       "      <td>Legatum Capital</td>\n",
       "      <td>$</td>\n",
       "      <td>Series E</td>\n",
       "      <td>Sep-2021</td>\n",
       "      <td>2021</td>\n",
       "      <td>3.0</td>\n",
       "    </tr>\n",
       "    <tr>\n",
       "      <th>868</th>\n",
       "      <td>Locobuzz</td>\n",
       "      <td>2011.0</td>\n",
       "      <td>Mumbai</td>\n",
       "      <td>Analytics</td>\n",
       "      <td>LocoBuzz is an analytics-based integrated mark...</td>\n",
       "      <td>Vishal Agrawal</td>\n",
       "      <td>Yuj Ventures</td>\n",
       "      <td>$4,000,000</td>\n",
       "      <td>Series A</td>\n",
       "      <td>May-2021</td>\n",
       "      <td>2021</td>\n",
       "      <td>10.0</td>\n",
       "    </tr>\n",
       "    <tr>\n",
       "      <th>612</th>\n",
       "      <td>Even</td>\n",
       "      <td>2020.0</td>\n",
       "      <td>Bangalore</td>\n",
       "      <td>Healthcare</td>\n",
       "      <td>One monthly subscription to cover all your hea...</td>\n",
       "      <td>Mayank Banerjee, Matilde Giglio, Alessandro Da...</td>\n",
       "      <td>Khosla Ventures</td>\n",
       "      <td>$5,000,000</td>\n",
       "      <td>Seed</td>\n",
       "      <td>Jul-2021</td>\n",
       "      <td>2021</td>\n",
       "      <td>1.0</td>\n",
       "    </tr>\n",
       "    <tr>\n",
       "      <th>361</th>\n",
       "      <td>Endimension</td>\n",
       "      <td>2018.0</td>\n",
       "      <td>Mumbai</td>\n",
       "      <td>Healtcare</td>\n",
       "      <td>Endimension Technology is a healthcare Artific...</td>\n",
       "      <td>Bharadwaj Kss, Apparao MLV, Kurien Zacharia</td>\n",
       "      <td>Inflection Point Ventures</td>\n",
       "      <td>$300,000</td>\n",
       "      <td>Seed</td>\n",
       "      <td>Sep-2021</td>\n",
       "      <td>2021</td>\n",
       "      <td>3.0</td>\n",
       "    </tr>\n",
       "    <tr>\n",
       "      <th>360</th>\n",
       "      <td>HappyCredit</td>\n",
       "      <td>2020.0</td>\n",
       "      <td>Bangalore</td>\n",
       "      <td>FinTech</td>\n",
       "      <td>HappyCredit is on a mission to make online sho...</td>\n",
       "      <td>Jitendra Kumar, Ashish Virmani</td>\n",
       "      <td>Kunal Shah, Krishna Kumar</td>\n",
       "      <td>$600,000</td>\n",
       "      <td>Pre-seed</td>\n",
       "      <td>Sep-2021</td>\n",
       "      <td>2021</td>\n",
       "      <td>1.0</td>\n",
       "    </tr>\n",
       "    <tr>\n",
       "      <th>766</th>\n",
       "      <td>Kutumb</td>\n",
       "      <td>2020.0</td>\n",
       "      <td>Bangalore</td>\n",
       "      <td>Community platform</td>\n",
       "      <td>Kutumb is a social community enabler.</td>\n",
       "      <td>Mohit Sharma, Naveen Dewangan, Vipul Allawadhi</td>\n",
       "      <td>Tiger Global Management, DST Global</td>\n",
       "      <td>$26,000,000</td>\n",
       "      <td>Series A</td>\n",
       "      <td>Jun-2021</td>\n",
       "      <td>2021</td>\n",
       "      <td>1.0</td>\n",
       "    </tr>\n",
       "    <tr>\n",
       "      <th>674</th>\n",
       "      <td>WinZO</td>\n",
       "      <td>2018.0</td>\n",
       "      <td>New Delhi</td>\n",
       "      <td>Gaming</td>\n",
       "      <td>WinZO is the largest social gaming and enterta...</td>\n",
       "      <td>Paavan Nanda</td>\n",
       "      <td>Griffin Gaming Partners</td>\n",
       "      <td>$65,000,000</td>\n",
       "      <td>Series C</td>\n",
       "      <td>Jul-2021</td>\n",
       "      <td>2021</td>\n",
       "      <td>3.0</td>\n",
       "    </tr>\n",
       "    <tr>\n",
       "      <th>933</th>\n",
       "      <td>Solethreads</td>\n",
       "      <td>2018.0</td>\n",
       "      <td>Gurugram</td>\n",
       "      <td>Fashion</td>\n",
       "      <td>SOLETHREADS is a ‘Made in India’ footwear bran...</td>\n",
       "      <td>Vikram Iyer</td>\n",
       "      <td>DSG Consumer Partners, Saama Capital</td>\n",
       "      <td>$1,000,000</td>\n",
       "      <td>Series A</td>\n",
       "      <td>Apr-2021</td>\n",
       "      <td>2021</td>\n",
       "      <td>3.0</td>\n",
       "    </tr>\n",
       "    <tr>\n",
       "      <th>1151</th>\n",
       "      <td>BharatPe</td>\n",
       "      <td>2018.0</td>\n",
       "      <td>New Delhi</td>\n",
       "      <td>FinTech</td>\n",
       "      <td>BharatPe develops a QR code-based payment app ...</td>\n",
       "      <td>Ashneer Grover, Shashvat Nakrani</td>\n",
       "      <td>InnoVen Capital, Steadview Capital</td>\n",
       "      <td>$6,000,000</td>\n",
       "      <td>Debt</td>\n",
       "      <td>Jan-2021</td>\n",
       "      <td>2021</td>\n",
       "      <td>3.0</td>\n",
       "    </tr>\n",
       "    <tr>\n",
       "      <th>944</th>\n",
       "      <td>CRED</td>\n",
       "      <td>2018.0</td>\n",
       "      <td>Bangalore</td>\n",
       "      <td>FinTech</td>\n",
       "      <td>CRED is a members-only credit card management ...</td>\n",
       "      <td>Kunal Shah</td>\n",
       "      <td>Dragoneer Investment Group, Tiger Global Manag...</td>\n",
       "      <td>$215,000,000</td>\n",
       "      <td>Series D</td>\n",
       "      <td>Apr-2021</td>\n",
       "      <td>2021</td>\n",
       "      <td>3.0</td>\n",
       "    </tr>\n",
       "  </tbody>\n",
       "</table>\n",
       "</div>"
      ],
      "text/plain": [
       "     Company/Brand  Founded Headquarters              Sector  \\\n",
       "381            MPL   2018.0    Bangalore              Sports   \n",
       "868       Locobuzz   2011.0       Mumbai           Analytics   \n",
       "612           Even   2020.0    Bangalore          Healthcare   \n",
       "361    Endimension   2018.0       Mumbai           Healtcare   \n",
       "360    HappyCredit   2020.0    Bangalore             FinTech   \n",
       "766         Kutumb   2020.0    Bangalore  Community platform   \n",
       "674          WinZO   2018.0    New Delhi              Gaming   \n",
       "933    Solethreads   2018.0     Gurugram             Fashion   \n",
       "1151      BharatPe   2018.0    New Delhi             FinTech   \n",
       "944           CRED   2018.0    Bangalore             FinTech   \n",
       "\n",
       "                                           What it does  \\\n",
       "381   Mobile Premier League (MPL), is India’s larges...   \n",
       "868   LocoBuzz is an analytics-based integrated mark...   \n",
       "612   One monthly subscription to cover all your hea...   \n",
       "361   Endimension Technology is a healthcare Artific...   \n",
       "360   HappyCredit is on a mission to make online sho...   \n",
       "766               Kutumb is a social community enabler.   \n",
       "674   WinZO is the largest social gaming and enterta...   \n",
       "933   SOLETHREADS is a ‘Made in India’ footwear bran...   \n",
       "1151  BharatPe develops a QR code-based payment app ...   \n",
       "944   CRED is a members-only credit card management ...   \n",
       "\n",
       "                                              Founder/s  \\\n",
       "381               Sai Srinivas Kiran GV, Shubh Malhotra   \n",
       "868                                      Vishal Agrawal   \n",
       "612   Mayank Banerjee, Matilde Giglio, Alessandro Da...   \n",
       "361         Bharadwaj Kss, Apparao MLV, Kurien Zacharia   \n",
       "360                      Jitendra Kumar, Ashish Virmani   \n",
       "766      Mohit Sharma, Naveen Dewangan, Vipul Allawadhi   \n",
       "674                                        Paavan Nanda   \n",
       "933                                         Vikram Iyer   \n",
       "1151                   Ashneer Grover, Shashvat Nakrani   \n",
       "944                                          Kunal Shah   \n",
       "\n",
       "                                             Investor/s        Amount  \\\n",
       "381                                     Legatum Capital             $   \n",
       "868                                        Yuj Ventures    $4,000,000   \n",
       "612                                     Khosla Ventures    $5,000,000   \n",
       "361                           Inflection Point Ventures      $300,000   \n",
       "360                           Kunal Shah, Krishna Kumar      $600,000   \n",
       "766                 Tiger Global Management, DST Global   $26,000,000   \n",
       "674                             Griffin Gaming Partners   $65,000,000   \n",
       "933                DSG Consumer Partners, Saama Capital    $1,000,000   \n",
       "1151                 InnoVen Capital, Steadview Capital    $6,000,000   \n",
       "944   Dragoneer Investment Group, Tiger Global Manag...  $215,000,000   \n",
       "\n",
       "         Stage     Date   Current Year  Years_Old  \n",
       "381   Series E  Sep-2021          2021        3.0  \n",
       "868   Series A  May-2021          2021       10.0  \n",
       "612       Seed  Jul-2021          2021        1.0  \n",
       "361       Seed  Sep-2021          2021        3.0  \n",
       "360   Pre-seed  Sep-2021          2021        1.0  \n",
       "766   Series A  Jun-2021          2021        1.0  \n",
       "674   Series C  Jul-2021          2021        3.0  \n",
       "933   Series A  Apr-2021          2021        3.0  \n",
       "1151      Debt  Jan-2021          2021        3.0  \n",
       "944   Series D  Apr-2021          2021        3.0  "
      ]
     },
     "execution_count": 229,
     "metadata": {},
     "output_type": "execute_result"
    }
   ],
   "source": [
    "df.sample(10)"
   ]
  },
  {
   "cell_type": "code",
   "execution_count": 230,
   "metadata": {},
   "outputs": [
    {
     "data": {
      "text/html": [
       "<div>\n",
       "<style scoped>\n",
       "    .dataframe tbody tr th:only-of-type {\n",
       "        vertical-align: middle;\n",
       "    }\n",
       "\n",
       "    .dataframe tbody tr th {\n",
       "        vertical-align: top;\n",
       "    }\n",
       "\n",
       "    .dataframe thead th {\n",
       "        text-align: right;\n",
       "    }\n",
       "</style>\n",
       "<table border=\"1\" class=\"dataframe\">\n",
       "  <thead>\n",
       "    <tr style=\"text-align: right;\">\n",
       "      <th></th>\n",
       "      <th>Founded</th>\n",
       "      <th>Current Year</th>\n",
       "      <th>Years_Old</th>\n",
       "    </tr>\n",
       "  </thead>\n",
       "  <tbody>\n",
       "    <tr>\n",
       "      <th>count</th>\n",
       "      <td>741.000000</td>\n",
       "      <td>741.0</td>\n",
       "      <td>741.000000</td>\n",
       "    </tr>\n",
       "    <tr>\n",
       "      <th>mean</th>\n",
       "      <td>2017.304993</td>\n",
       "      <td>2021.0</td>\n",
       "      <td>3.695007</td>\n",
       "    </tr>\n",
       "    <tr>\n",
       "      <th>std</th>\n",
       "      <td>3.454936</td>\n",
       "      <td>0.0</td>\n",
       "      <td>3.454936</td>\n",
       "    </tr>\n",
       "    <tr>\n",
       "      <th>min</th>\n",
       "      <td>1989.000000</td>\n",
       "      <td>2021.0</td>\n",
       "      <td>0.000000</td>\n",
       "    </tr>\n",
       "    <tr>\n",
       "      <th>25%</th>\n",
       "      <td>2016.000000</td>\n",
       "      <td>2021.0</td>\n",
       "      <td>1.000000</td>\n",
       "    </tr>\n",
       "    <tr>\n",
       "      <th>50%</th>\n",
       "      <td>2018.000000</td>\n",
       "      <td>2021.0</td>\n",
       "      <td>3.000000</td>\n",
       "    </tr>\n",
       "    <tr>\n",
       "      <th>75%</th>\n",
       "      <td>2020.000000</td>\n",
       "      <td>2021.0</td>\n",
       "      <td>5.000000</td>\n",
       "    </tr>\n",
       "    <tr>\n",
       "      <th>max</th>\n",
       "      <td>2021.000000</td>\n",
       "      <td>2021.0</td>\n",
       "      <td>32.000000</td>\n",
       "    </tr>\n",
       "  </tbody>\n",
       "</table>\n",
       "</div>"
      ],
      "text/plain": [
       "           Founded  Current Year   Years_Old\n",
       "count   741.000000         741.0  741.000000\n",
       "mean   2017.304993        2021.0    3.695007\n",
       "std       3.454936           0.0    3.454936\n",
       "min    1989.000000        2021.0    0.000000\n",
       "25%    2016.000000        2021.0    1.000000\n",
       "50%    2018.000000        2021.0    3.000000\n",
       "75%    2020.000000        2021.0    5.000000\n",
       "max    2021.000000        2021.0   32.000000"
      ]
     },
     "execution_count": 230,
     "metadata": {},
     "output_type": "execute_result"
    }
   ],
   "source": [
    "df.describe()"
   ]
  },
  {
   "cell_type": "code",
   "execution_count": 231,
   "metadata": {},
   "outputs": [
    {
     "data": {
      "text/plain": [
       "<seaborn.axisgrid.PairGrid at 0x1684103eee0>"
      ]
     },
     "execution_count": 231,
     "metadata": {},
     "output_type": "execute_result"
    },
    {
     "data": {
      "image/png": "[encoded data removed]",
      "text/plain": [
       "<Figure size 540x540 with 12 Axes>"
      ]
     },
     "metadata": {
      "needs_background": "light"
     },
     "output_type": "display_data"
    }
   ],
   "source": [
    "sns.pairplot(df)"
   ]
  },
  {
   "cell_type": "code",
   "execution_count": 232,
   "metadata": {},
   "outputs": [],
   "source": [
    "city = df[\"Headquarters\"].value_counts().sort_values(ascending=False).head(15)"
   ]
  },
  {
   "cell_type": "code",
   "execution_count": 233,
   "metadata": {},
   "outputs": [
    {
     "data": {
      "text/plain": [
       "Text(0.5, 1.0, 'Top cities for Startups')"
      ]
     },
     "execution_count": 233,
     "metadata": {},
     "output_type": "execute_result"
    },
    {
     "data": {
      "image/png": "[encoded data removed]",
      "text/plain": [
       "<Figure size 432x288 with 1 Axes>"
      ]
     },
     "metadata": {
      "needs_background": "light"
     },
     "output_type": "display_data"
    }
   ],
   "source": [
    "sns.barplot(x=city, y = city.index).set_title(\"Top cities for Startups\")"
   ]
  },
  {
   "cell_type": "code",
   "execution_count": 234,
   "metadata": {},
   "outputs": [
    {
     "data": {
      "text/plain": [
       "Text(0.5, 1.0, 'Top sectors for Startups')"
      ]
     },
     "execution_count": 234,
     "metadata": {},
     "output_type": "execute_result"
    },
    {
     "data": {
      "image/png": "[encoded data removed]",
      "text/plain": [
       "<Figure size 432x288 with 1 Axes>"
      ]
     },
     "metadata": {
      "needs_background": "light"
     },
     "output_type": "display_data"
    }
   ],
   "source": [
    "sect = df[\"Sector\"].value_counts().sort_values(ascending=False).head(15)\n",
    "sns.barplot(x=sect,y=sect.index).set_title(\"Top sectors for Startups\")"
   ]
  },
  {
   "cell_type": "code",
   "execution_count": 235,
   "metadata": {},
   "outputs": [
    {
     "data": {
      "text/plain": [
       "648     ah! Ventures\n",
       "455         Upsparks\n",
       "468         Upsparks\n",
       "825      Undisclosed\n",
       "842      Undisclosed\n",
       "838      Undisclosed\n",
       "832      Undisclosed\n",
       "828      Undisclosed\n",
       "1143     Undisclosed\n",
       "953      Undisclosed\n",
       "Name: Amount, dtype: object"
      ]
     },
     "execution_count": 235,
     "metadata": {},
     "output_type": "execute_result"
    }
   ],
   "source": [
    "df[\"Amount\"].sort_values(ascending=False).head(10)"
   ]
  },
  {
   "cell_type": "code",
   "execution_count": 236,
   "metadata": {},
   "outputs": [],
   "source": [
    "df[\"Amount\"] = df[\"Amount\"].convert_dtypes(convert_integer=True)"
   ]
  },
  {
   "cell_type": "code",
   "execution_count": 237,
   "metadata": {},
   "outputs": [
    {
     "name": "stdout",
     "output_type": "stream",
     "text": [
      "<class 'pandas.core.frame.DataFrame'>\n",
      "Int64Index: 741 entries, 0 to 1208\n",
      "Data columns (total 12 columns):\n",
      " #   Column         Non-Null Count  Dtype  \n",
      "---  ------         --------------  -----  \n",
      " 0   Company/Brand  741 non-null    object \n",
      " 1   Founded        741 non-null    float64\n",
      " 2   Headquarters   741 non-null    object \n",
      " 3   Sector         741 non-null    object \n",
      " 4   What it does   741 non-null    object \n",
      " 5   Founder/s      741 non-null    object \n",
      " 6   Investor/s     741 non-null    object \n",
      " 7   Amount         741 non-null    string \n",
      " 8   Stage          741 non-null    object \n",
      " 9   Date           741 non-null    object \n",
      " 10  Current Year   741 non-null    int64  \n",
      " 11  Years_Old      741 non-null    float64\n",
      "dtypes: float64(2), int64(1), object(8), string(1)\n",
      "memory usage: 91.4+ KB\n"
     ]
    }
   ],
   "source": [
    "df.info()"
   ]
  },
  {
   "cell_type": "code",
   "execution_count": 248,
   "metadata": {},
   "outputs": [
    {
     "name": "stderr",
     "output_type": "stream",
     "text": [
      "C:\\Users\\Pratik\\AppData\\Local\\Temp/ipykernel_22992/223488789.py:1: FutureWarning: The default value of regex will change from True to False in a future version. In addition, single character regular expressions will *not* be treated as literal strings when regex=True.\n",
      "  df[\"Amount\"] = df[\"Amount\"].str.replace(\"$\",'')\n"
     ]
    },
    {
     "data": {
      "text/html": [
       "<div>\n",
       "<style scoped>\n",
       "    .dataframe tbody tr th:only-of-type {\n",
       "        vertical-align: middle;\n",
       "    }\n",
       "\n",
       "    .dataframe tbody tr th {\n",
       "        vertical-align: top;\n",
       "    }\n",
       "\n",
       "    .dataframe thead th {\n",
       "        text-align: right;\n",
       "    }\n",
       "</style>\n",
       "<table border=\"1\" class=\"dataframe\">\n",
       "  <thead>\n",
       "    <tr style=\"text-align: right;\">\n",
       "      <th></th>\n",
       "      <th>Company/Brand</th>\n",
       "      <th>Founded</th>\n",
       "      <th>Headquarters</th>\n",
       "      <th>Sector</th>\n",
       "      <th>What it does</th>\n",
       "      <th>Founder/s</th>\n",
       "      <th>Investor/s</th>\n",
       "      <th>Amount</th>\n",
       "      <th>Stage</th>\n",
       "      <th>Date</th>\n",
       "      <th>Current Year</th>\n",
       "      <th>Years_Old</th>\n",
       "    </tr>\n",
       "  </thead>\n",
       "  <tbody>\n",
       "    <tr>\n",
       "      <th>0</th>\n",
       "      <td>CollegeDekho</td>\n",
       "      <td>2015.0</td>\n",
       "      <td>Gurgaon</td>\n",
       "      <td>E-learning</td>\n",
       "      <td>Collegedekho.com is Student’s Partner, Friend ...</td>\n",
       "      <td>Ruchir Arora</td>\n",
       "      <td>Disrupt ADQ, QIC</td>\n",
       "      <td>35000000.0</td>\n",
       "      <td>Series B</td>\n",
       "      <td>Dec-2021</td>\n",
       "      <td>2021</td>\n",
       "      <td>6.0</td>\n",
       "    </tr>\n",
       "    <tr>\n",
       "      <th>2</th>\n",
       "      <td>Simpl</td>\n",
       "      <td>2015.0</td>\n",
       "      <td>Bangalore</td>\n",
       "      <td>Consumer Services</td>\n",
       "      <td>Simpl empowers merchants to build trusted rela...</td>\n",
       "      <td>Nitya, Chaitra Chidanand</td>\n",
       "      <td>Valar Ventures, IA Ventures</td>\n",
       "      <td>40000000.0</td>\n",
       "      <td>Series B</td>\n",
       "      <td>Dec-2021</td>\n",
       "      <td>2021</td>\n",
       "      <td>6.0</td>\n",
       "    </tr>\n",
       "    <tr>\n",
       "      <th>4</th>\n",
       "      <td>PayGlocal</td>\n",
       "      <td>2021.0</td>\n",
       "      <td>Bangalore</td>\n",
       "      <td>Financial Services</td>\n",
       "      <td>PayGlocal is a FinTech solving for global paym...</td>\n",
       "      <td>Prachi Dharani, Rohit Sukhija, Yogesh Lokhande</td>\n",
       "      <td>Sequoia Capital India</td>\n",
       "      <td>4900000.0</td>\n",
       "      <td>Series A</td>\n",
       "      <td>Dec-2021</td>\n",
       "      <td>2021</td>\n",
       "      <td>0.0</td>\n",
       "    </tr>\n",
       "    <tr>\n",
       "      <th>6</th>\n",
       "      <td>Pocket FM</td>\n",
       "      <td>2018.0</td>\n",
       "      <td>Bangalore</td>\n",
       "      <td>OTT</td>\n",
       "      <td>Pocket FM lets users discover and enjoy the gr...</td>\n",
       "      <td>Rohan, Nishanth Srinivas, Prateek Dixit</td>\n",
       "      <td>Lightspeed, Times Group, Tanglin Venture Partners</td>\n",
       "      <td>22000000.0</td>\n",
       "      <td>Series B</td>\n",
       "      <td>Dec-2021</td>\n",
       "      <td>2021</td>\n",
       "      <td>3.0</td>\n",
       "    </tr>\n",
       "    <tr>\n",
       "      <th>8</th>\n",
       "      <td>PlanetSpark</td>\n",
       "      <td>2017.0</td>\n",
       "      <td>Gurugram</td>\n",
       "      <td>Education Management</td>\n",
       "      <td>PlanetSpark is building the World Leader in Co...</td>\n",
       "      <td>Maneesh Dhooper, Kunal Malik</td>\n",
       "      <td>Binny Bansal, Deep Kalra, Dr Ashish Gupta, Gok...</td>\n",
       "      <td>13000000.0</td>\n",
       "      <td>Series B</td>\n",
       "      <td>Dec-2021</td>\n",
       "      <td>2021</td>\n",
       "      <td>4.0</td>\n",
       "    </tr>\n",
       "  </tbody>\n",
       "</table>\n",
       "</div>"
      ],
      "text/plain": [
       "  Company/Brand  Founded Headquarters                Sector  \\\n",
       "0  CollegeDekho   2015.0      Gurgaon            E-learning   \n",
       "2         Simpl   2015.0    Bangalore     Consumer Services   \n",
       "4     PayGlocal   2021.0    Bangalore    Financial Services   \n",
       "6     Pocket FM   2018.0    Bangalore                   OTT   \n",
       "8   PlanetSpark   2017.0     Gurugram  Education Management   \n",
       "\n",
       "                                        What it does  \\\n",
       "0  Collegedekho.com is Student’s Partner, Friend ...   \n",
       "2  Simpl empowers merchants to build trusted rela...   \n",
       "4  PayGlocal is a FinTech solving for global paym...   \n",
       "6  Pocket FM lets users discover and enjoy the gr...   \n",
       "8  PlanetSpark is building the World Leader in Co...   \n",
       "\n",
       "                                        Founder/s  \\\n",
       "0                                    Ruchir Arora   \n",
       "2                        Nitya, Chaitra Chidanand   \n",
       "4  Prachi Dharani, Rohit Sukhija, Yogesh Lokhande   \n",
       "6         Rohan, Nishanth Srinivas, Prateek Dixit   \n",
       "8                    Maneesh Dhooper, Kunal Malik   \n",
       "\n",
       "                                          Investor/s      Amount     Stage  \\\n",
       "0                                   Disrupt ADQ, QIC  35000000.0  Series B   \n",
       "2                        Valar Ventures, IA Ventures  40000000.0  Series B   \n",
       "4                              Sequoia Capital India   4900000.0  Series A   \n",
       "6  Lightspeed, Times Group, Tanglin Venture Partners  22000000.0  Series B   \n",
       "8  Binny Bansal, Deep Kalra, Dr Ashish Gupta, Gok...  13000000.0  Series B   \n",
       "\n",
       "      Date   Current Year  Years_Old  \n",
       "0  Dec-2021          2021        6.0  \n",
       "2  Dec-2021          2021        6.0  \n",
       "4  Dec-2021          2021        0.0  \n",
       "6  Dec-2021          2021        3.0  \n",
       "8  Dec-2021          2021        4.0  "
      ]
     },
     "execution_count": 248,
     "metadata": {},
     "output_type": "execute_result"
    }
   ],
   "source": [
    "df[\"Amount\"] = df[\"Amount\"].str.replace(\"$\",'')\n",
    "df[\"Amount\"] = df[\"Amount\"].str.replace(\",\",'')\n",
    "df['Amount'] = pd.to_numeric(df['Amount'], errors = 'coerce')\n",
    "df.head()"
   ]
  },
  {
   "cell_type": "code",
   "execution_count": 255,
   "metadata": {},
   "outputs": [
    {
     "data": {
      "text/plain": [
       "Text(0.5, 1.0, 'Worth of top Startups')"
      ]
     },
     "execution_count": 255,
     "metadata": {},
     "output_type": "execute_result"
    },
    {
     "data": {
      "image/png": "[encoded data removed]",
      "text/plain": [
       "<Figure size 432x288 with 1 Axes>"
      ]
     },
     "metadata": {
      "needs_background": "light"
     },
     "output_type": "display_data"
    }
   ],
   "source": [
    "worth = df[\"Amount\"].sort_values(ascending=False).head(15)\n",
    "sns.barplot(x=worth,y=sect.index).set_title(\"Worth of top Startups\")"
   ]
  },
  {
   "cell_type": "code",
   "execution_count": 246,
   "metadata": {},
   "outputs": [
    {
     "data": {
      "text/plain": [
       "Text(0.5, 1.0, 'Top Investor/s for Startups')"
      ]
     },
     "execution_count": 246,
     "metadata": {},
     "output_type": "execute_result"
    },
    {
     "data": {
      "image/png": "[encoded data removed]",
      "text/plain": [
       "<Figure size 432x288 with 1 Axes>"
      ]
     },
     "metadata": {
      "needs_background": "light"
     },
     "output_type": "display_data"
    }
   ],
   "source": [
    "invest = df[\"Investor/s\"].value_counts().sort_values(ascending=False).head(15)\n",
    "sns.barplot(x=invest,y=invest.index).set_title(\"Top Investor/s for Startups\")"
   ]
  },
  {
   "cell_type": "code",
   "execution_count": 256,
   "metadata": {},
   "outputs": [
    {
     "data": {
      "text/plain": [
       "Text(0.5, 1.0, 'Worth of top Startups')"
      ]
     },
     "execution_count": 256,
     "metadata": {},
     "output_type": "execute_result"
    },
    {
     "data": {
      "image/png": "[encoded data removed]",
      "text/plain": [
       "<Figure size 432x288 with 1 Axes>"
      ]
     },
     "metadata": {
      "needs_background": "light"
     },
     "output_type": "display_data"
    }
   ],
   "source": [
    "sns.barplot(x=worth,y=invest.index).set_title(\"Worth of top Startups\")"
   ]
  },
  {
   "cell_type": "code",
   "execution_count": 257,
   "metadata": {},
   "outputs": [
    {
     "data": {
      "text/plain": [
       "Text(0.5, 1.0, 'Worth of top Startups')"
      ]
     },
     "execution_count": 257,
     "metadata": {},
     "output_type": "execute_result"
    },
    {
     "data": {
      "image/png": "[encoded data removed]",
      "text/plain": [
       "<Figure size 432x288 with 1 Axes>"
      ]
     },
     "metadata": {
      "needs_background": "light"
     },
     "output_type": "display_data"
    }
   ],
   "source": [
    "sns.barplot(x=worth,y=city.index).set_title(\"Worth of top Startups\")"
   ]
  },
  {
   "cell_type": "markdown",
   "metadata": {},
   "source": [
    "### Summary\n",
    "* Maximum number of the startups are estabhlished in Bengaluru\n",
    "* Most of the startups are belongs to 'Fintech' Sector and total worth is also highest in 'Fintec'\n",
    "* Top investor in the study dataset is Inflection Point Ventures\n",
    "* Most of the funding amount recived for Startups in Mumbai "
   ]
  },
  {
   "cell_type": "markdown",
   "metadata": {},
   "source": []
  },
  {
   "cell_type": "code",
   "execution_count": null,
   "metadata": {},
   "outputs": [],
   "source": []
  },
  {
   "cell_type": "code",
   "execution_count": null,
   "metadata": {},
   "outputs": [],
   "source": []
  }
 ],
 "metadata": {
  "interpreter": {
   "hash": "ac59ebe37160ed0dfa835113d9b8498d9f09ceb179beaac4002f036b9467c963"
  },
  "kernelspec": {
   "display_name": "Python 3.9.5 64-bit",
   "language": "python",
   "name": "python3"
  },
  "language_info": {
   "codemirror_mode": {
    "name": "ipython",
    "version": 3
   },
   "file_extension": ".py",
   "mimetype": "text/x-python",
   "name": "python",
   "nbconvert_exporter": "python",
   "pygments_lexer": "ipython3",
   "version": "3.9.5"
  },
  "orig_nbformat": 4
 },
 "nbformat": 4,
 "nbformat_minor": 2
}
