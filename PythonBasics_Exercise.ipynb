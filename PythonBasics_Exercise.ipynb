{
  "cells": [
    {
      "cell_type": "markdown",
      "metadata": {
        "id": "view-in-github",
        "colab_type": "text"
      },
      "source": [
        "<a href=\"https://colab.research.google.com/github/imagimaniac/Practice_repo/blob/main/PythonBasics_Exercise.ipynb\" target=\"_parent\"><img src=\"https://colab.research.google.com/assets/colab-badge.svg\" alt=\"Open In Colab\"/></a>"
      ]
    },
    {
      "cell_type": "markdown",
      "metadata": {
        "id": "owh0tne6sURm"
      },
      "source": [
        "### 1.1 In a “Hello, World!” program, a comment may look like this:"
      ]
    },
    {
      "cell_type": "code",
      "execution_count": 1,
      "metadata": {
        "colab": {
          "base_uri": "https://localhost:8080/"
        },
        "id": "rdVtGlLhsUSC",
        "outputId": "9fc66fba-1d73-4bf9-bb49-acd7bb5afda2"
      },
      "outputs": [
        {
          "output_type": "stream",
          "name": "stdout",
          "text": [
            "Hello, World!\n"
          ]
        }
      ],
      "source": [
        "# Print “Hello, World!” to console\n",
        "print(\"Hello, World!\")\n"
      ]
    },
    {
      "cell_type": "code",
      "execution_count": 2,
      "metadata": {
        "colab": {
          "base_uri": "https://localhost:8080/"
        },
        "id": "e5LS4FojsUSG",
        "outputId": "3488d60f-c767-4523-8fe3-23796138154e"
      },
      "outputs": [
        {
          "output_type": "stream",
          "name": "stdout",
          "text": [
            "hammer\n",
            "white\n",
            "fish\n",
            "frilled\n",
            "bullhead\n",
            "requiem\n"
          ]
        }
      ],
      "source": [
        "# Define sharks variable as a list of strings ('hammer', 'white', 'fish', 'frilled', 'bullhead', 'requiem')\n",
        "\n",
        "sharks = [ 'hammer', 'white', 'fish', 'frilled', 'bullhead', 'requiem']\n",
        "\n",
        "# For loop that iterates over sharks list and prints each string item\n",
        "for i in sharks:\n",
        "        print(i)"
      ]
    },
    {
      "cell_type": "markdown",
      "metadata": {
        "id": "9lLidxRKsUSJ"
      },
      "source": [
        "### 2.Write a Python Program to Add Two Numbers"
      ]
    },
    {
      "cell_type": "code",
      "execution_count": 3,
      "metadata": {
        "colab": {
          "base_uri": "https://localhost:8080/"
        },
        "id": "XrZaVvAWsUSM",
        "outputId": "48192c0f-c9da-444c-a3ba-e7900a8c877e"
      },
      "outputs": [
        {
          "output_type": "stream",
          "name": "stdout",
          "text": [
            "30\n"
          ]
        }
      ],
      "source": [
        "# initialise two varaibles\n",
        "a  = 10\n",
        "b = 20\n",
        "\n",
        "# Add two numbers\n",
        "c = a + b\n",
        "\n",
        "# Display the sum\n",
        "\n",
        "print(c)\n"
      ]
    },
    {
      "cell_type": "markdown",
      "metadata": {
        "id": "J9G2OPJ-sUSP"
      },
      "source": [
        "### 3.Write a Python Program to Find the product of two numbers"
      ]
    },
    {
      "cell_type": "code",
      "execution_count": 4,
      "metadata": {
        "colab": {
          "base_uri": "https://localhost:8080/"
        },
        "id": "MjlKPQjosUSS",
        "outputId": "dfdbdfa9-058b-4ca8-a00b-c516252c2455"
      },
      "outputs": [
        {
          "output_type": "stream",
          "name": "stdout",
          "text": [
            "200\n"
          ]
        }
      ],
      "source": [
        "# initialise two varaibles\n",
        "a  = 10\n",
        "b = 20\n",
        "\n",
        "# multiply two numbers\n",
        "c = a*b\n",
        "\n",
        "# Display the sum\n",
        "print(c)"
      ]
    },
    {
      "cell_type": "markdown",
      "metadata": {
        "id": "myfTngREsUSU"
      },
      "source": [
        "### 4.Write a python program to find the area of triangle given height and base of the triangle as 3 and 10."
      ]
    },
    {
      "cell_type": "code",
      "execution_count": 7,
      "metadata": {
        "colab": {
          "base_uri": "https://localhost:8080/"
        },
        "id": "AeNiTC-LsUSW",
        "outputId": "23107189-e5ca-48e6-8dbc-847c49b2af0d"
      },
      "outputs": [
        {
          "output_type": "stream",
          "name": "stdout",
          "text": [
            "15.0\n"
          ]
        }
      ],
      "source": [
        "# Area of the triangle A= 1/2(base * height)\n",
        "\n",
        "#given height=3 and base =10\n",
        "height = 3\n",
        "base = 10\n",
        "Area_of_Triangle = 0.5*(base*height)\n",
        "\n",
        "print(Area_of_Triangle)\n",
        "\n"
      ]
    },
    {
      "cell_type": "markdown",
      "metadata": {
        "id": "O3isPakksUSY"
      },
      "source": [
        "### 5.Python Program to Swap Two Variables"
      ]
    },
    {
      "cell_type": "code",
      "execution_count": 8,
      "metadata": {
        "colab": {
          "base_uri": "https://localhost:8080/"
        },
        "id": "vBxH6I7asUSa",
        "outputId": "c4f56b8c-c135-4169-950d-056341ee8e46"
      },
      "outputs": [
        {
          "output_type": "stream",
          "name": "stdout",
          "text": [
            "10 20\n",
            "20 10\n"
          ]
        }
      ],
      "source": [
        "# initialise two varaibles\n",
        "a = 10\n",
        "b = 20\n",
        "print(a,b)\n",
        "# create a temporary variable and swap the values\n",
        "c = a \n",
        "a = b\n",
        "b = c\n",
        "\n",
        "print(a,b)"
      ]
    },
    {
      "cell_type": "markdown",
      "metadata": {
        "id": "8IDdJyAJsUSc"
      },
      "source": [
        "## Section"
      ]
    },
    {
      "cell_type": "markdown",
      "metadata": {
        "collapsed": true,
        "id": "uVnvkJiFsUSd"
      },
      "source": [
        "### 1.Write a python program to print datatype of a varaible"
      ]
    },
    {
      "cell_type": "code",
      "execution_count": 9,
      "metadata": {
        "colab": {
          "base_uri": "https://localhost:8080/"
        },
        "id": "Ez0AAuUKsUSe",
        "outputId": "d19c29ec-2f2d-4602-9984-60a41b2f8b89"
      },
      "outputs": [
        {
          "output_type": "stream",
          "name": "stdout",
          "text": [
            "<class 'int'>\n",
            "<class 'float'>\n",
            "<class 'complex'>\n"
          ]
        }
      ],
      "source": [
        "a = 1\n",
        "\n",
        "print(type(a))\n",
        "\n",
        "b = 2.0\n",
        "print(type(b))\n",
        "\n",
        "c = 1+2j\n",
        "print(type(c))"
      ]
    },
    {
      "cell_type": "markdown",
      "metadata": {
        "id": "Ug4SLmDqsUSf"
      },
      "source": [
        "### 2.Write a python program to extract an item or a range of items from a list.\n",
        "\n"
      ]
    },
    {
      "cell_type": "code",
      "execution_count": 15,
      "metadata": {
        "colab": {
          "base_uri": "https://localhost:8080/"
        },
        "id": "TVygIpuxsUSh",
        "outputId": "5fe2f096-4e3b-44ee-cfc1-a55b2efefa30"
      },
      "outputs": [
        {
          "output_type": "stream",
          "name": "stdout",
          "text": [
            "35\n",
            "[15, 20, 35]\n",
            "[30, 35, 60]\n",
            "[15, 20, 35, 40, 45, 30]\n"
          ]
        }
      ],
      "source": [
        "a = [15,20,35,40,45,30,35,60]\n",
        "\n",
        "# Print the item at index 2\n",
        "print(a[2])\n",
        "\n",
        "# Print the first 3 items\n",
        "print(a[:3])\n",
        "\n",
        "# Print the last 3 items\n",
        "print(a[-3:])\n",
        "\n",
        "# Start to third last item\n",
        "print(a[:-2])"
      ]
    },
    {
      "cell_type": "markdown",
      "metadata": {
        "id": "E3hlIjAjsUSi"
      },
      "source": [
        "### 3.Converting Floats to Integers\n"
      ]
    },
    {
      "cell_type": "code",
      "execution_count": 21,
      "metadata": {
        "colab": {
          "base_uri": "https://localhost:8080/"
        },
        "id": "D0lQkDXxsUSk",
        "outputId": "3a680528-445e-41bf-d2f9-8668fc5b615a"
      },
      "outputs": [
        {
          "output_type": "stream",
          "name": "stdout",
          "text": [
            "125 \n",
            " 390\n"
          ]
        }
      ],
      "source": [
        "b = 125.0\n",
        "c = 390.8\n",
        "\n",
        "print(int(b),\"\\n\",int(c))\n",
        "\n",
        "# Print the Integer values"
      ]
    },
    {
      "cell_type": "markdown",
      "metadata": {
        "id": "MLjON-6esUSl"
      },
      "source": [
        "### 4.Converting Numbers to Strings"
      ]
    },
    {
      "cell_type": "code",
      "execution_count": 23,
      "metadata": {
        "colab": {
          "base_uri": "https://localhost:8080/"
        },
        "id": "sYa1tkbjsUSm",
        "outputId": "07ec7e78-8d12-441b-dedd-abe7d381f4b3"
      },
      "outputs": [
        {
          "output_type": "stream",
          "name": "stdout",
          "text": [
            "10 is of type <class 'int'>\n",
            "10 is of type <class 'str'>\n"
          ]
        }
      ],
      "source": [
        "a = 10\n",
        "\n",
        "print(a, \"is of type\", type(a))\n",
        "a = str(a)\n",
        "print(a, \"is of type\", type(a))\n",
        "\n",
        "# Convert the value in a to a string and then print"
      ]
    },
    {
      "cell_type": "markdown",
      "metadata": {
        "id": "yYOEtDhEsUSn"
      },
      "source": [
        "### 5.Converting Strings to Numbers"
      ]
    },
    {
      "cell_type": "code",
      "execution_count": 24,
      "metadata": {
        "colab": {
          "base_uri": "https://localhost:8080/"
        },
        "id": "zIyoF1eRsUSo",
        "outputId": "75e85c4a-40bb-4d53-ba7b-3c9fc25465c0"
      },
      "outputs": [
        {
          "output_type": "stream",
          "name": "stdout",
          "text": [
            "Difference between numbers is  -58\n"
          ]
        }
      ],
      "source": [
        "a = \"50\"\n",
        "b = \"108\"\n",
        "print(\"Difference between numbers is \", int(a)-int(b))\n",
        "\n",
        "# Find the difference between a and b"
      ]
    },
    {
      "cell_type": "markdown",
      "metadata": {
        "id": "NK9akU4RsUSp"
      },
      "source": [
        "### 6.Converting list to Tuples"
      ]
    },
    {
      "cell_type": "code",
      "execution_count": 1,
      "metadata": {
        "colab": {
          "base_uri": "https://localhost:8080/"
        },
        "id": "Y8rpb_2hsUSq",
        "outputId": "997ce37d-637d-4d51-c374-89d5a1dc834e"
      },
      "outputs": [
        {
          "output_type": "stream",
          "name": "stdout",
          "text": [
            "('request', 'source', 'repository', 'branch')\n"
          ]
        }
      ],
      "source": [
        "myList = ['request', 'source', 'repository', 'branch']\n",
        "mytuple = tuple(myList)\n",
        "print(mytuple)\n",
        "# Print myList to a Tuple"
      ]
    },
    {
      "cell_type": "markdown",
      "metadata": {
        "id": "wljjNyBAsUSr"
      },
      "source": [
        "### 7.Converting tuple to Lists"
      ]
    },
    {
      "cell_type": "code",
      "execution_count": 6,
      "metadata": {
        "colab": {
          "base_uri": "https://localhost:8080/"
        },
        "id": "8eTUmFpwsUSr",
        "outputId": "c401e653-8c1c-4f11-beb1-111604ef5e4c"
      },
      "outputs": [
        {
          "output_type": "stream",
          "name": "stdout",
          "text": [
            "['blue', 'red', 'white']\n"
          ]
        }
      ],
      "source": [
        "myTuple = ('blue', 'red', 'white')\n",
        "\n",
        "# Print myTuple to a List\n",
        "\n",
        "myList = list(myTuple)\n",
        "print(myList)"
      ]
    },
    {
      "cell_type": "markdown",
      "metadata": {
        "collapsed": true,
        "id": "AbuNO5dusUSs"
      },
      "source": [
        "### 8.converting strings to lists:"
      ]
    },
    {
      "cell_type": "code",
      "execution_count": 8,
      "metadata": {
        "colab": {
          "base_uri": "https://localhost:8080/"
        },
        "id": "Hip-v5_qsUSt",
        "outputId": "e5dcfa1f-6d5f-4868-cf7a-5c6c9c26a9c6"
      },
      "outputs": [
        {
          "output_type": "stream",
          "name": "stdout",
          "text": [
            "['I', 'N', 'S', 'A', 'I', 'D']\n"
          ]
        }
      ],
      "source": [
        "myString = 'INSAID'\n",
        "\n",
        "# Convert myString to List\n",
        "\n",
        "mylist = list(myString)\n",
        "print(mylist)\n"
      ]
    },
    {
      "cell_type": "markdown",
      "metadata": {
        "id": "6aLIPrTtsUSu"
      },
      "source": [
        "### 9.Assign different data types to a varibles"
      ]
    },
    {
      "cell_type": "code",
      "execution_count": 12,
      "metadata": {
        "colab": {
          "base_uri": "https://localhost:8080/"
        },
        "id": "DWYCxCi0sUSu",
        "outputId": "ee51b3ab-383c-43b3-9ee2-5d8d476d7364"
      },
      "outputs": [
        {
          "output_type": "stream",
          "name": "stdout",
          "text": [
            "<class 'str'> <class 'float'> <class 'bool'> <class 'list'> <class 'tuple'> <class 'dict'>\n"
          ]
        }
      ],
      "source": [
        "# Try string, float, boolean, list, tuple, dictionary\n",
        "a = \"Pratik\"\n",
        "b = 3.90\n",
        "c = 5 > 4\n",
        "d = [3, 4, 7, 1, \"p\", 0, 0.56, 9]\n",
        "e = (3, 4, 7, 1, \"p\", 0, 0.56, 9)\n",
        "f = {\"Pratik\": 3, \"Prat\": 4}\n",
        "print(type(a), type(b), type(c), type(d), type(e), type(f))"
      ]
    },
    {
      "cell_type": "markdown",
      "metadata": {
        "id": "2ilyGDossUSv"
      },
      "source": [
        "## Section"
      ]
    },
    {
      "cell_type": "markdown",
      "metadata": {
        "collapsed": true,
        "id": "J62xsFlosUSv"
      },
      "source": [
        "### Print out a string that uses a formatter"
      ]
    },
    {
      "cell_type": "code",
      "execution_count": 17,
      "metadata": {
        "colab": {
          "base_uri": "https://localhost:8080/"
        },
        "id": "fkjijGY8sUSw",
        "outputId": "ffd6534a-106a-4218-a389-100e64517164"
      },
      "outputs": [
        {
          "output_type": "stream",
          "name": "stdout",
          "text": [
            "john has 5 cars.\n"
          ]
        }
      ],
      "source": [
        "# Print \"john has 5 cars.\" using formatter\n",
        "a = 5\n",
        "print(\"john has {} cars.\". format(a))"
      ]
    },
    {
      "cell_type": "markdown",
      "metadata": {
        "id": "wSQFq7TRsUSx"
      },
      "source": [
        "### We can also assign a variable to be equal to the value of a string that has formatter placeholders:"
      ]
    },
    {
      "cell_type": "code",
      "execution_count": 18,
      "metadata": {
        "colab": {
          "base_uri": "https://localhost:8080/"
        },
        "id": "uQ4UKzp5sUSy",
        "outputId": "0a19024a-7703-4135-c31e-657b3a737fa3"
      },
      "outputs": [
        {
          "output_type": "stream",
          "name": "stdout",
          "text": [
            "john likes open source.\n"
          ]
        }
      ],
      "source": [
        "open_string = \"john likes {}.\"\n",
        "a = \"open source\"\n",
        "# Use format method to print the following output \"john likes open source.\"\n",
        "print(open_string. format(a))"
      ]
    },
    {
      "cell_type": "markdown",
      "metadata": {
        "id": "XI-FImxnsUSz"
      },
      "source": [
        "### Using Formatters with Multiple Placeholders"
      ]
    },
    {
      "cell_type": "code",
      "execution_count": null,
      "metadata": {
        "id": "PQxFEvqlsUSz"
      },
      "outputs": [],
      "source": [
        "new_open_string = \"john likes {} {}.\"                      #2 {} placeholders\n",
        "# Pass 2 strings into format method, separated by a comma to get output \"john likes open-source software.\""
      ]
    },
    {
      "cell_type": "code",
      "execution_count": null,
      "metadata": {
        "id": "4HHAZB9QsUS0"
      },
      "outputs": [],
      "source": [
        "sammy_string = \"john loves {} {}, and has {} {}.\"                      #4 {} placeholders\n",
        "# Pass 4 strings into method to get output \"john loves open-source software, and has 5 balloons.\""
      ]
    },
    {
      "cell_type": "markdown",
      "metadata": {
        "id": "4s3OIiL1sUS1"
      },
      "source": [
        "### Reordering Formatters with Positional and Keyword Arguments\n"
      ]
    },
    {
      "cell_type": "code",
      "execution_count": null,
      "metadata": {
        "id": "ogzSua9isUS1"
      },
      "outputs": [],
      "source": [
        "# Reference sample\n",
        "print(\"john the {} has a pet {}!\".format(\"shark\", \"pilot fish\"))"
      ]
    },
    {
      "cell_type": "markdown",
      "metadata": {
        "id": "GPzVjrQysUS2"
      },
      "source": [
        "### We can pass these index numbers into the curly braces that serve as the placeholders in the original string:"
      ]
    },
    {
      "cell_type": "code",
      "execution_count": null,
      "metadata": {
        "id": "ciB3XzqgsUS3"
      },
      "outputs": [],
      "source": [
        "# Reference Sample\n",
        "print(\"john the {0} has a pet {1}!\".format(\"shark\", \"pilot fish\"))\n",
        "\n",
        "print(\"john is a {}, {}, and {} {}!\".format(\"happy\", \"smiling\", \"blue\", \"shark\"))\n"
      ]
    },
    {
      "cell_type": "markdown",
      "metadata": {
        "id": "l5z1YD8GsUS3"
      },
      "source": [
        "### Python Program to Get String Input from User\n"
      ]
    },
    {
      "cell_type": "code",
      "execution_count": null,
      "metadata": {
        "id": "ktzTi9VpsUS4"
      },
      "outputs": [],
      "source": [
        "#Enter any string and print it\n"
      ]
    },
    {
      "cell_type": "markdown",
      "metadata": {
        "collapsed": true,
        "id": "tgcqODf-sUS5"
      },
      "source": [
        "### Python program for conditional statements\n",
        "\n",
        "### 1)If the student receives over 65% on her test, report that her grade passes; if not, report that her grade fails"
      ]
    },
    {
      "cell_type": "code",
      "execution_count": null,
      "metadata": {
        "id": "IwtHCgl5sUS5"
      },
      "outputs": [],
      "source": [
        "grade = 70\n",
        "\n"
      ]
    },
    {
      "cell_type": "code",
      "execution_count": null,
      "metadata": {
        "id": "qePY79uJsUS7"
      },
      "outputs": [],
      "source": [
        "# Use only if\n",
        "grade = 60\n",
        "\n"
      ]
    },
    {
      "cell_type": "markdown",
      "metadata": {
        "id": "0Vwh0-r2sUS7"
      },
      "source": [
        "### Write a python program calculate whether a bank account balance is below 0 and print appropriate message."
      ]
    },
    {
      "cell_type": "code",
      "execution_count": null,
      "metadata": {
        "id": "_lz3SBhdsUS8"
      },
      "outputs": [],
      "source": [
        "# Use if else\n",
        "balance = 522\n",
        "\n"
      ]
    },
    {
      "cell_type": "markdown",
      "metadata": {
        "id": "7EdEVWsssUS9"
      },
      "source": [
        "### Using Else if statement"
      ]
    },
    {
      "cell_type": "code",
      "execution_count": null,
      "metadata": {
        "id": "51ffV-kbsUS9"
      },
      "outputs": [],
      "source": [
        "balance = 522\n",
        "\n"
      ]
    },
    {
      "cell_type": "markdown",
      "metadata": {
        "id": "HF0K-UAcsUS-"
      },
      "source": [
        "### Python program to print  Fibonacci series between 0 to 50."
      ]
    },
    {
      "cell_type": "code",
      "execution_count": null,
      "metadata": {
        "id": "y89UvgMHsUS_"
      },
      "outputs": [],
      "source": [
        ""
      ]
    },
    {
      "cell_type": "markdown",
      "metadata": {
        "id": "lDSjtBKCsUS_"
      },
      "source": [
        "### Python program to find numbers which are divisible by 7 and multiple of 5 between a range 150 to 270"
      ]
    },
    {
      "cell_type": "code",
      "execution_count": null,
      "metadata": {
        "id": "E_DLXCLhsUTA"
      },
      "outputs": [],
      "source": [
        ""
      ]
    },
    {
      "cell_type": "markdown",
      "metadata": {
        "id": "WfOgSubbsUTA"
      },
      "source": [
        "### Python program to Sum all the items in a list"
      ]
    },
    {
      "cell_type": "code",
      "execution_count": null,
      "metadata": {
        "id": "IKDAqlT7sUTB"
      },
      "outputs": [],
      "source": [
        "def sum_list(items):\n",
        "    # Your code here\n",
        "    return # Your variable\n",
        "print(sum_list([20,12,20,22]))"
      ]
    },
    {
      "cell_type": "markdown",
      "metadata": {
        "id": "dC82HURUsUTC"
      },
      "source": [
        "### Python program to Remove duplicates from a list."
      ]
    },
    {
      "cell_type": "code",
      "execution_count": null,
      "metadata": {
        "id": "qLE_y6ZTsUTD"
      },
      "outputs": [],
      "source": [
        "a = [10,20,30,40,50,60,70,40,80,50,40]\n",
        "\n"
      ]
    },
    {
      "cell_type": "markdown",
      "metadata": {
        "id": "Wvi03Bc-sUTE"
      },
      "source": [
        "### Python program to Get the largest number from a list."
      ]
    },
    {
      "cell_type": "code",
      "execution_count": null,
      "metadata": {
        "id": "6CO33WkQsUTE"
      },
      "outputs": [],
      "source": [
        "def max_num_in_list( list ):\n",
        "    # Your code\n",
        "    return # Maximum value\n",
        "print(max_num_in_list([1, 12, 28, 0]))"
      ]
    },
    {
      "cell_type": "markdown",
      "metadata": {
        "id": "ItAezfpksUTF"
      },
      "source": [
        "### Concatenation of Tuples."
      ]
    },
    {
      "cell_type": "code",
      "execution_count": null,
      "metadata": {
        "id": "XKrTJEyhsUTF"
      },
      "outputs": [],
      "source": [
        "# Code for concatenating 2 tuples\n",
        " \n",
        "tuple1 = (0, 1, 2, 3)\n",
        "tuple2 = ('python', 'code')\n",
        " \n",
        "# Concatenating above two\n",
        "print('''Your code here''')"
      ]
    },
    {
      "cell_type": "markdown",
      "metadata": {
        "id": "_-vXDUkHsUTG"
      },
      "source": [
        "### Nesting of Tuples."
      ]
    },
    {
      "cell_type": "code",
      "execution_count": null,
      "metadata": {
        "id": "qSEOW4NxsUTH"
      },
      "outputs": [],
      "source": [
        "# Code for creating nested tuples\n",
        " \n",
        "tuple1 = (0, 1, 2, 3)\n",
        "tuple2 = ('python', 'code')\n",
        "tuple3  # Your code goes here\n",
        "print(tuple3)\n"
      ]
    },
    {
      "cell_type": "markdown",
      "metadata": {
        "id": "QAN6J6kEsUTH"
      },
      "source": [
        "### Write a Python program to add an item in a tuple."
      ]
    },
    {
      "cell_type": "code",
      "execution_count": null,
      "metadata": {
        "id": "UG-AXVgqsUTI"
      },
      "outputs": [],
      "source": [
        "# Create a tuple & print\n",
        "\n",
        "\n",
        "#tuples are immutable, so you can not add new elements\n",
        "#using merge of tuples with the + operator you can add an element and it will create a new tuple\n",
        "\n",
        "# Adding items in a specific index\n",
        "\n"
      ]
    },
    {
      "cell_type": "markdown",
      "metadata": {
        "id": "T1JpNwrssUTJ"
      },
      "source": [
        "### Write a Python program to remove an item from a tuple."
      ]
    },
    {
      "cell_type": "code",
      "execution_count": null,
      "metadata": {
        "id": "dBHDMkI0sUTJ"
      },
      "outputs": [],
      "source": [
        "# Create a tuple and print it\n",
        "\n",
        "# Find a way to remove an item of the tuple (Hint: Use other data types)\n"
      ]
    },
    {
      "cell_type": "markdown",
      "metadata": {
        "id": "CDSagu37sUTK"
      },
      "source": [
        "### Python Program to Check if a given key already exists in a dictionary."
      ]
    },
    {
      "cell_type": "code",
      "execution_count": null,
      "metadata": {
        "id": "g5ifwhwSsUTL"
      },
      "outputs": [],
      "source": [
        "d = {1: 10, 2: 20, 3: 30, 4: 40, 5: 50, 6: 60}\n",
        "def is_key_present(x):\n",
        "  # Your code goes here\n",
        "  return # Your observation\n",
        "is_key_present(5)\n",
        "is_key_present(9)"
      ]
    },
    {
      "cell_type": "markdown",
      "metadata": {
        "id": "FwC9BnXOsUTL"
      },
      "source": [
        "### Write a Python script to merge two Python dictionaries."
      ]
    },
    {
      "cell_type": "code",
      "execution_count": null,
      "metadata": {
        "id": "cPKBexeLsUTM"
      },
      "outputs": [],
      "source": [
        "d1 = {'a': 100, 'b': 200}\n",
        "d2 = {'x': 300, 'y': 200}\n",
        "\n",
        "# Your code"
      ]
    },
    {
      "cell_type": "markdown",
      "metadata": {
        "id": "3a9Uf0eosUTN"
      },
      "source": [
        "### Write a Python function to find the Max of three numbers."
      ]
    },
    {
      "cell_type": "code",
      "execution_count": null,
      "metadata": {
        "id": "1y3xW1gBsUTN"
      },
      "outputs": [],
      "source": [
        "def max_of_two( x, y ):\n",
        "    # Your code here\n",
        "    return # Your answer\n",
        "def max_of_three( x, y, z ):\n",
        "    # Your code here use max_of_two\n",
        "    return # Your answer\n",
        "print(max_of_three(13, 26, -5))"
      ]
    },
    {
      "cell_type": "markdown",
      "metadata": {
        "collapsed": true,
        "id": "ocG5DqP9sUTO"
      },
      "source": [
        "### Write a Python program to reverse a string."
      ]
    },
    {
      "cell_type": "code",
      "execution_count": null,
      "metadata": {
        "id": "B8R5TT8EsUTO"
      },
      "outputs": [],
      "source": [
        "def string_reverse(str1):\n",
        "    # Your code goes here\n",
        "    return # Your answer\n",
        "print(string_reverse('INSAID'))"
      ]
    },
    {
      "cell_type": "markdown",
      "metadata": {
        "collapsed": true,
        "id": "jjRDMCUfsUTP"
      },
      "source": [
        "### Write a Python function to calculate the factorial of a number "
      ]
    },
    {
      "cell_type": "code",
      "execution_count": null,
      "metadata": {
        "id": "UP4iJiLzsUTQ"
      },
      "outputs": [],
      "source": [
        "def factorial(n):\n",
        "    # Your code here\n",
        "    return # The answer\n",
        "n=int(input(\"Input a number to compute the factiorial : \"))\n",
        "print(factorial(n))"
      ]
    },
    {
      "cell_type": "markdown",
      "metadata": {
        "id": "7kwVWP51sUTQ"
      },
      "source": [
        "### Write a Python function to sum all the numbers in a list."
      ]
    },
    {
      "cell_type": "code",
      "execution_count": null,
      "metadata": {
        "id": "udteKXQCsUTR"
      },
      "outputs": [],
      "source": [
        "def sum(numbers):\n",
        "    # Your code goes here\n",
        "    return # Your Answer\n",
        "print(sum((8, 2, 3, 0, 7)))"
      ]
    },
    {
      "cell_type": "markdown",
      "metadata": {
        "collapsed": true,
        "id": "k9PklaY3sUTS"
      },
      "source": [
        "### Write a Python function to check whether a number is in a given range."
      ]
    },
    {
      "cell_type": "code",
      "execution_count": null,
      "metadata": {
        "id": "I4V1YDP8sUTS"
      },
      "outputs": [],
      "source": [
        "def test_range(n):\n",
        "    # Your code\n",
        "    return # Your answer \n",
        "test_range(5)"
      ]
    },
    {
      "cell_type": "markdown",
      "metadata": {
        "id": "BZCWqgmbsUTT"
      },
      "source": [
        "### Find the value of pi using math module."
      ]
    },
    {
      "cell_type": "code",
      "execution_count": null,
      "metadata": {
        "id": "yRNUlB6NsUTU"
      },
      "outputs": [],
      "source": [
        "# import statement example\n",
        "# to import standard module math\n",
        "\n",
        "import math\n"
      ]
    },
    {
      "cell_type": "markdown",
      "metadata": {
        "id": "KOHlHsotsUTU"
      },
      "source": [
        "### Write a Python program to read an entire text file.\n",
        "\n",
        "### Content of text.txt.\n",
        "\n",
        "### What is Python language?      \n",
        "\n",
        "#### Python is a widely used high-level, general-purpose, interpreted, dynamic programming language."
      ]
    },
    {
      "cell_type": "code",
      "execution_count": null,
      "metadata": {
        "id": "MQ1PV-6fsUTV"
      },
      "outputs": [],
      "source": [
        "def file_read(fname):\n",
        "    # Your code goes in here\n",
        "    return\n",
        "\n",
        "file_read('test.txt')"
      ]
    },
    {
      "cell_type": "markdown",
      "metadata": {
        "collapsed": true,
        "id": "kI-3REC8sUTW"
      },
      "source": [
        "### Write a Python program to read a file line by line and store it into a list."
      ]
    },
    {
      "cell_type": "code",
      "execution_count": null,
      "metadata": {
        "id": "dybOR47LsUTW"
      },
      "outputs": [],
      "source": [
        "def file_read(fname):\n",
        "        # Your code goes in here\n",
        "        return\n",
        "\n",
        "file_read('test.txt')"
      ]
    },
    {
      "cell_type": "markdown",
      "metadata": {
        "id": "XC5RubFasUTX"
      },
      "source": [
        "### A python program to create user-defined exception."
      ]
    },
    {
      "cell_type": "code",
      "execution_count": null,
      "metadata": {
        "id": "8AZxVIsPsUTY",
        "outputId": "b3910121-5288-45ca-b71d-a60b4ae271e2"
      },
      "outputs": [
        {
          "name": "stdout",
          "output_type": "stream",
          "text": [
            "A New Exception occured: 0.42857142857142855\n"
          ]
        }
      ],
      "source": [
        "class MyError(Exception):\n",
        " \n",
        "    # Constructor or Initializer\n",
        "    def __init__(self, value):\n",
        "        self.value = value\n",
        " \n",
        "    # __str__ is to print() the value\n",
        "    def __str__(self):\n",
        "        return # Your code goes here to get -> 'A New Exception occured: 0.42857142857142855'\n",
        " \n",
        "try:\n",
        "    raise(MyError(3/7))\n",
        " \n",
        "except MyError as error:\n",
        "    print(error)\n"
      ]
    },
    {
      "cell_type": "markdown",
      "metadata": {
        "id": "tK9A-wknsUTb"
      },
      "source": [
        "### Write a Python program to calculate the discriminant value. (b <sup>2</sup> - 4ac)"
      ]
    },
    {
      "cell_type": "code",
      "execution_count": null,
      "metadata": {
        "id": "Md5u-oWjsUTb",
        "outputId": "958c9d01-7aef-41b1-9b5c-2870d1fe1591"
      },
      "outputs": [
        {
          "name": "stdout",
          "output_type": "stream",
          "text": [
            "The a value: 11\n",
            "The b value: 111\n",
            "The c value: 111\n"
          ]
        }
      ],
      "source": [
        "def discriminant():\n",
        "    a_value = float(input('The a value: '))\n",
        "    b_value = float(input('The b value: '))\n",
        "    c_value = float(input('The c value: '))\n",
        "    \n",
        "    # Calculate the discriminant here\n",
        "    \n",
        "    return # The value\n",
        "\n",
        "\n",
        "discriminant()\n"
      ]
    },
    {
      "cell_type": "code",
      "execution_count": null,
      "metadata": {
        "id": "pv6oFf_YsUTc",
        "outputId": "ef243688-5737-438a-9ae8-19a3623a7b64"
      },
      "outputs": [
        {
          "name": "stdout",
          "output_type": "stream",
          "text": [
            "Hello World\n"
          ]
        }
      ],
      "source": [
        "print('Hello World')"
      ]
    },
    {
      "cell_type": "code",
      "execution_count": null,
      "metadata": {
        "id": "P_9vUWgVsUTd"
      },
      "outputs": [],
      "source": [
        "print('What am I typing are you able to see?')"
      ]
    }
  ],
  "metadata": {
    "kernelspec": {
      "display_name": "Python 3",
      "language": "python",
      "name": "python3"
    },
    "language_info": {
      "codemirror_mode": {
        "name": "ipython",
        "version": 3
      },
      "file_extension": ".py",
      "mimetype": "text/x-python",
      "name": "python",
      "nbconvert_exporter": "python",
      "pygments_lexer": "ipython3",
      "version": "3.6.5"
    },
    "colab": {
      "name": "PythonBasics_Exercise.ipynb",
      "provenance": [],
      "collapsed_sections": [
        "4s3OIiL1sUS1",
        "GPzVjrQysUS2",
        "l5z1YD8GsUS3",
        "tgcqODf-sUS5",
        "0Vwh0-r2sUS7",
        "7EdEVWsssUS9",
        "HF0K-UAcsUS-",
        "lDSjtBKCsUS_",
        "WfOgSubbsUTA",
        "dC82HURUsUTC",
        "Wvi03Bc-sUTE",
        "ItAezfpksUTF",
        "_-vXDUkHsUTG",
        "QAN6J6kEsUTH",
        "T1JpNwrssUTJ",
        "CDSagu37sUTK",
        "FwC9BnXOsUTL",
        "3a9Uf0eosUTN",
        "ocG5DqP9sUTO",
        "jjRDMCUfsUTP",
        "7kwVWP51sUTQ",
        "k9PklaY3sUTS",
        "BZCWqgmbsUTT",
        "KOHlHsotsUTU",
        "kI-3REC8sUTW",
        "XC5RubFasUTX",
        "tK9A-wknsUTb"
      ],
      "include_colab_link": true
    }
  },
  "nbformat": 4,
  "nbformat_minor": 0
}