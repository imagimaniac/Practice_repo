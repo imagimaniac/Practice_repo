{
 "cells": [
  {
   "cell_type": "markdown",
   "metadata": {
    "collapsed": true
   },
   "source": [
    "#### 1: List the causes of death and percentile in Ohio state in the year 2012"
   ]
  },
  {
   "cell_type": "code",
   "execution_count": 1,
   "metadata": {
    "collapsed": true
   },
   "outputs": [],
   "source": [
    "#import required libraries\n",
    "import numpy as np\n",
    "import pandas as pd\n",
    "import seaborn as sns\n",
    "import matplotlib.pyplot as plt\n",
    "from matplotlib import style"
   ]
  },
  {
   "cell_type": "code",
   "execution_count": 8,
   "metadata": {
    "collapsed": true
   },
   "outputs": [],
   "source": [
    "# View the plot\n",
    "'''\n",
    "cause of deaths\n",
    "Chronic Disease, Unintetional Injuries, Alzheimers, Infuenza and Pneumonia, Sepsis,Others\n",
    "Percentile (in order with cause of deaths as mentioned above)\n",
    "62, 5, 4, 2, 1 , 26 \n",
    "'''\n",
    "df = pd.DataFrame({\n",
    "    \"cause of Death\" : ['Chronic Disease', 'Unintetional Injuries', 'Alzheimers', 'Infuenza','Pneumonia', 'Sepsis'],\n",
    "    \"Percentile\": [62, 5, 4, 2, 1 , 26 ]\n",
    "})\n"
   ]
  },
  {
   "cell_type": "code",
   "execution_count": 10,
   "metadata": {},
   "outputs": [
    {
     "data": {
      "text/html": [
       "<div>\n",
       "<style scoped>\n",
       "    .dataframe tbody tr th:only-of-type {\n",
       "        vertical-align: middle;\n",
       "    }\n",
       "\n",
       "    .dataframe tbody tr th {\n",
       "        vertical-align: top;\n",
       "    }\n",
       "\n",
       "    .dataframe thead th {\n",
       "        text-align: right;\n",
       "    }\n",
       "</style>\n",
       "<table border=\"1\" class=\"dataframe\">\n",
       "  <thead>\n",
       "    <tr style=\"text-align: right;\">\n",
       "      <th></th>\n",
       "      <th>cause of Death</th>\n",
       "      <th>Percentile</th>\n",
       "    </tr>\n",
       "  </thead>\n",
       "  <tbody>\n",
       "    <tr>\n",
       "      <th>0</th>\n",
       "      <td>Chronic Disease</td>\n",
       "      <td>62</td>\n",
       "    </tr>\n",
       "    <tr>\n",
       "      <th>1</th>\n",
       "      <td>Unintetional Injuries</td>\n",
       "      <td>5</td>\n",
       "    </tr>\n",
       "    <tr>\n",
       "      <th>2</th>\n",
       "      <td>Alzheimers</td>\n",
       "      <td>4</td>\n",
       "    </tr>\n",
       "    <tr>\n",
       "      <th>3</th>\n",
       "      <td>Infuenza</td>\n",
       "      <td>2</td>\n",
       "    </tr>\n",
       "    <tr>\n",
       "      <th>4</th>\n",
       "      <td>Pneumonia</td>\n",
       "      <td>1</td>\n",
       "    </tr>\n",
       "    <tr>\n",
       "      <th>5</th>\n",
       "      <td>Sepsis</td>\n",
       "      <td>26</td>\n",
       "    </tr>\n",
       "  </tbody>\n",
       "</table>\n",
       "</div>"
      ],
      "text/plain": [
       "          cause of Death  Percentile\n",
       "0        Chronic Disease          62\n",
       "1  Unintetional Injuries           5\n",
       "2             Alzheimers           4\n",
       "3               Infuenza           2\n",
       "4              Pneumonia           1\n",
       "5                 Sepsis          26"
      ]
     },
     "execution_count": 10,
     "metadata": {},
     "output_type": "execute_result"
    }
   ],
   "source": [
    "#cause of deaths\n",
    "\n",
    "#percentile\n",
    "df"
   ]
  },
  {
   "cell_type": "markdown",
   "metadata": {},
   "source": [
    "#### 2: Draw a pie chart using the two data points"
   ]
  },
  {
   "cell_type": "code",
   "execution_count": 12,
   "metadata": {
    "collapsed": true
   },
   "outputs": [
    {
     "data": {
      "image/png": "[encoded data removed]",
      "text/plain": [
       "<Figure size 360x360 with 1 Axes>"
      ]
     },
     "metadata": {},
     "output_type": "display_data"
    }
   ],
   "source": [
    "#set the pie chart plot properties\n",
    "plot = df.plot.pie(y='Percentile', figsize=(5, 5))"
   ]
  },
  {
   "cell_type": "code",
   "execution_count": 18,
   "metadata": {
    "collapsed": false,
    "scrolled": false
   },
   "outputs": [
    {
     "data": {
      "text/plain": [
       "([<matplotlib.patches.Wedge at 0x1ee1aa0b2e0>,\n",
       "  <matplotlib.patches.Wedge at 0x1ee1aa0b7c0>,\n",
       "  <matplotlib.patches.Wedge at 0x1ee1aa0bca0>,\n",
       "  <matplotlib.patches.Wedge at 0x1ee1aa191c0>,\n",
       "  <matplotlib.patches.Wedge at 0x1ee1aa196a0>,\n",
       "  <matplotlib.patches.Wedge at 0x1ee1aa19b80>],\n",
       " [Text(-0.4049370232742901, 1.0227541284110062, 'Chronic Disease'),\n",
       "  Text(-0.6741977309429963, -0.8691705353906766, 'Unintetional Injuries'),\n",
       "  Text(-0.40493697539571377, -1.0227541473674753, 'Alzheimers'),\n",
       "  Text(-0.20611941620056135, -1.0805159814945542, 'Infuenza'),\n",
       "  Text(-0.10351911671029697, -1.0951181637045018, 'Pneumonia'),\n",
       "  Text(0.7530018123923737, -0.8018654940411145, 'Sepsis')])"
      ]
     },
     "execution_count": 18,
     "metadata": {},
     "output_type": "execute_result"
    },
    {
     "data": {
      "image/png": "[encoded data removed]",
      "text/plain": [
       "<Figure size 432x288 with 1 Axes>"
      ]
     },
     "metadata": {},
     "output_type": "display_data"
    }
   ],
   "source": [
    "#set figure size\n",
    "plt.pie(x= df[\"Percentile\"], labels=df[\"cause of Death\"])"
   ]
  },
  {
   "cell_type": "code",
   "execution_count": null,
   "metadata": {
    "collapsed": true
   },
   "outputs": [],
   "source": [
    "#explode the largest pie in the data set\n"
   ]
  },
  {
   "cell_type": "code",
   "execution_count": null,
   "metadata": {
    "collapsed": true
   },
   "outputs": [],
   "source": [
    "#set pie chart properties\n"
   ]
  },
  {
   "cell_type": "code",
   "execution_count": null,
   "metadata": {
    "collapsed": true
   },
   "outputs": [],
   "source": [
    "#set axis equal to draw pie as circle\n"
   ]
  },
  {
   "cell_type": "code",
   "execution_count": null,
   "metadata": {
    "collapsed": true
   },
   "outputs": [],
   "source": [
    "#set title of the pie chart\n"
   ]
  },
  {
   "cell_type": "code",
   "execution_count": null,
   "metadata": {
    "collapsed": true
   },
   "outputs": [],
   "source": [
    "#show the plot (pie chart)\n"
   ]
  }
 ],
 "metadata": {
  "interpreter": {
   "hash": "ac59ebe37160ed0dfa835113d9b8498d9f09ceb179beaac4002f036b9467c963"
  },
  "kernelspec": {
   "display_name": "Python 2",
   "language": "python",
   "name": "python3"
  },
  "language_info": {
   "codemirror_mode": {
    "name": "ipython",
    "version": 3
   },
   "file_extension": ".py",
   "mimetype": "text/x-python",
   "name": "python",
   "nbconvert_exporter": "python",
   "pygments_lexer": "ipython3",
   "version": "3.9.5"
  }
 },
 "nbformat": 4,
 "nbformat_minor": 0
}
