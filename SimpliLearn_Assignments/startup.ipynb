{
 "cells": [
  {
   "cell_type": "markdown",
   "metadata": {},
   "source": [
    "# Exploratory Data Analysis\n",
    "## EDA of Startup dataset from Kaggle"
   ]
  },
  {
   "cell_type": "markdown",
   "metadata": {},
   "source": []
  },
  {
   "cell_type": "code",
   "execution_count": 27,
   "metadata": {},
   "outputs": [],
   "source": [
    "# Importing Required Modules\n",
    "\n",
    "import numpy as np\n",
    "import pandas as pd\n",
    "import matplotlib as plt\n",
    "import seaborn as sns\n"
   ]
  },
  {
   "cell_type": "code",
   "execution_count": 28,
   "metadata": {},
   "outputs": [
    {
     "name": "stdout",
     "output_type": "stream",
     "text": [
      "(1209, 10)\n"
     ]
    },
    {
     "data": {
      "text/html": [
       "<div>\n",
       "<style scoped>\n",
       "    .dataframe tbody tr th:only-of-type {\n",
       "        vertical-align: middle;\n",
       "    }\n",
       "\n",
       "    .dataframe tbody tr th {\n",
       "        vertical-align: top;\n",
       "    }\n",
       "\n",
       "    .dataframe thead th {\n",
       "        text-align: right;\n",
       "    }\n",
       "</style>\n",
       "<table border=\"1\" class=\"dataframe\">\n",
       "  <thead>\n",
       "    <tr style=\"text-align: right;\">\n",
       "      <th></th>\n",
       "      <th>Company/Brand</th>\n",
       "      <th>Founded</th>\n",
       "      <th>Headquarters</th>\n",
       "      <th>Sector</th>\n",
       "      <th>What it does</th>\n",
       "      <th>Founder/s</th>\n",
       "      <th>Investor/s</th>\n",
       "      <th>Amount</th>\n",
       "      <th>Stage</th>\n",
       "      <th>Date</th>\n",
       "    </tr>\n",
       "  </thead>\n",
       "  <tbody>\n",
       "    <tr>\n",
       "      <th>1019</th>\n",
       "      <td>Chirrup</td>\n",
       "      <td>2020.0</td>\n",
       "      <td>Bangalore</td>\n",
       "      <td>Gaming</td>\n",
       "      <td>Video integrated social-gaming platform</td>\n",
       "      <td>Vipul Garg, Sourav Lashkari, Mehul Mittal</td>\n",
       "      <td>Titan Capital, iSeed, First Cheque, 3.0 Fund.</td>\n",
       "      <td>$300,000</td>\n",
       "      <td>Pre-seed</td>\n",
       "      <td>Mar-2021</td>\n",
       "    </tr>\n",
       "    <tr>\n",
       "      <th>808</th>\n",
       "      <td>NIRAMAI</td>\n",
       "      <td>2016.0</td>\n",
       "      <td>Bangalore</td>\n",
       "      <td>Healthcare</td>\n",
       "      <td>NIRAMAI has developed a novel breast cancer sc...</td>\n",
       "      <td>Geetha Manjunath</td>\n",
       "      <td>CDC Group</td>\n",
       "      <td>$Undisclosed</td>\n",
       "      <td>NaN</td>\n",
       "      <td>Jun-2021</td>\n",
       "    </tr>\n",
       "    <tr>\n",
       "      <th>909</th>\n",
       "      <td>Optimized Electrotech</td>\n",
       "      <td>2017.0</td>\n",
       "      <td>Ahmadabad</td>\n",
       "      <td>Aeorspace</td>\n",
       "      <td>Long distance, multispectral Surveillance Equi...</td>\n",
       "      <td>Anil Yekkala, Dharin Shah, Kuldeep Saxena, Pur...</td>\n",
       "      <td>GVFL</td>\n",
       "      <td>$1,800,000</td>\n",
       "      <td>Pre-series A</td>\n",
       "      <td>Apr-2021</td>\n",
       "    </tr>\n",
       "    <tr>\n",
       "      <th>885</th>\n",
       "      <td>Arthya Wealth and Investments</td>\n",
       "      <td>2020.0</td>\n",
       "      <td>Mumbai</td>\n",
       "      <td>FinTech</td>\n",
       "      <td>A comprehensive, high quality, open-architectu...</td>\n",
       "      <td>Gaurav Arora</td>\n",
       "      <td>Rishi Kumar Bagla, Krishen Lal Khanna</td>\n",
       "      <td>$1,000,000</td>\n",
       "      <td>Pre-series A</td>\n",
       "      <td>May-2021</td>\n",
       "    </tr>\n",
       "    <tr>\n",
       "      <th>326</th>\n",
       "      <td>Sanctum Wealth</td>\n",
       "      <td>2016.0</td>\n",
       "      <td>Mumbai</td>\n",
       "      <td>Investment Management</td>\n",
       "      <td>Sanctum is an Indian wealth management firm wh...</td>\n",
       "      <td>Shiv Gupta</td>\n",
       "      <td>The Xander Group</td>\n",
       "      <td>$10,000,000</td>\n",
       "      <td>NaN</td>\n",
       "      <td>Sep-2021</td>\n",
       "    </tr>\n",
       "  </tbody>\n",
       "</table>\n",
       "</div>"
      ],
      "text/plain": [
       "                      Company/Brand  Founded Headquarters  \\\n",
       "1019                        Chirrup   2020.0    Bangalore   \n",
       "808                         NIRAMAI   2016.0    Bangalore   \n",
       "909           Optimized Electrotech   2017.0    Ahmadabad   \n",
       "885   Arthya Wealth and Investments   2020.0       Mumbai   \n",
       "326                  Sanctum Wealth   2016.0       Mumbai   \n",
       "\n",
       "                     Sector  \\\n",
       "1019                 Gaming   \n",
       "808              Healthcare   \n",
       "909               Aeorspace   \n",
       "885                 FinTech   \n",
       "326   Investment Management   \n",
       "\n",
       "                                           What it does  \\\n",
       "1019            Video integrated social-gaming platform   \n",
       "808   NIRAMAI has developed a novel breast cancer sc...   \n",
       "909   Long distance, multispectral Surveillance Equi...   \n",
       "885   A comprehensive, high quality, open-architectu...   \n",
       "326   Sanctum is an Indian wealth management firm wh...   \n",
       "\n",
       "                                              Founder/s  \\\n",
       "1019          Vipul Garg, Sourav Lashkari, Mehul Mittal   \n",
       "808                                    Geetha Manjunath   \n",
       "909   Anil Yekkala, Dharin Shah, Kuldeep Saxena, Pur...   \n",
       "885                                        Gaurav Arora   \n",
       "326                                          Shiv Gupta   \n",
       "\n",
       "                                         Investor/s        Amount  \\\n",
       "1019  Titan Capital, iSeed, First Cheque, 3.0 Fund.      $300,000   \n",
       "808                                       CDC Group  $Undisclosed   \n",
       "909                                            GVFL    $1,800,000   \n",
       "885           Rishi Kumar Bagla, Krishen Lal Khanna    $1,000,000   \n",
       "326                                The Xander Group   $10,000,000   \n",
       "\n",
       "             Stage     Date   \n",
       "1019      Pre-seed  Mar-2021  \n",
       "808            NaN  Jun-2021  \n",
       "909   Pre-series A  Apr-2021  \n",
       "885   Pre-series A  May-2021  \n",
       "326            NaN  Sep-2021  "
      ]
     },
     "execution_count": 28,
     "metadata": {},
     "output_type": "execute_result"
    }
   ],
   "source": [
    "df = pd.read_csv(\"IndianStartup.csv\")\n",
    "print(df.shape)\n",
    "df.sample(5)"
   ]
  },
  {
   "cell_type": "code",
   "execution_count": 29,
   "metadata": {},
   "outputs": [
    {
     "name": "stdout",
     "output_type": "stream",
     "text": [
      "<class 'pandas.core.frame.DataFrame'>\n",
      "RangeIndex: 1209 entries, 0 to 1208\n",
      "Data columns (total 10 columns):\n",
      " #   Column         Non-Null Count  Dtype  \n",
      "---  ------         --------------  -----  \n",
      " 0   Company/Brand  1209 non-null   object \n",
      " 1   Founded        1208 non-null   float64\n",
      " 2   Headquarters   1208 non-null   object \n",
      " 3   Sector         1209 non-null   object \n",
      " 4   What it does   1209 non-null   object \n",
      " 5   Founder/s      1205 non-null   object \n",
      " 6   Investor/s     1147 non-null   object \n",
      " 7   Amount         1206 non-null   object \n",
      " 8   Stage          781 non-null    object \n",
      " 9   Date           1209 non-null   object \n",
      "dtypes: float64(1), object(9)\n",
      "memory usage: 94.6+ KB\n"
     ]
    }
   ],
   "source": [
    "df.info()"
   ]
  },
  {
   "cell_type": "markdown",
   "metadata": {},
   "source": [
    "##### The amount column is of Objects type with string type content such as '$' and ','. We need to replace them by '', and convert it to numerica value such as float or integer"
   ]
  },
  {
   "cell_type": "code",
   "execution_count": 30,
   "metadata": {},
   "outputs": [
    {
     "data": {
      "text/plain": [
       "Company/Brand      0\n",
       "Founded            1\n",
       "Headquarters       1\n",
       "Sector             0\n",
       "What it does       0\n",
       "Founder/s          4\n",
       "Investor/s        62\n",
       "Amount             3\n",
       "Stage            428\n",
       "Date               0\n",
       "dtype: int64"
      ]
     },
     "execution_count": 30,
     "metadata": {},
     "output_type": "execute_result"
    }
   ],
   "source": [
    "df.isna().sum()"
   ]
  },
  {
   "cell_type": "markdown",
   "metadata": {},
   "source": [
    "Stage as of now not clear whether usefule feature or not. But removing 428 rows just because of one feature is not present wont be afforadble."
   ]
  },
  {
   "cell_type": "code",
   "execution_count": 31,
   "metadata": {},
   "outputs": [],
   "source": [
    "df[\"Current Year\"] = 2021"
   ]
  },
  {
   "cell_type": "code",
   "execution_count": 32,
   "metadata": {},
   "outputs": [],
   "source": [
    "df[\"Years_Old\"] = df[\"Current Year\"] - df[\"Founded\"]"
   ]
  },
  {
   "cell_type": "code",
   "execution_count": 33,
   "metadata": {},
   "outputs": [
    {
     "data": {
      "text/html": [
       "<div>\n",
       "<style scoped>\n",
       "    .dataframe tbody tr th:only-of-type {\n",
       "        vertical-align: middle;\n",
       "    }\n",
       "\n",
       "    .dataframe tbody tr th {\n",
       "        vertical-align: top;\n",
       "    }\n",
       "\n",
       "    .dataframe thead th {\n",
       "        text-align: right;\n",
       "    }\n",
       "</style>\n",
       "<table border=\"1\" class=\"dataframe\">\n",
       "  <thead>\n",
       "    <tr style=\"text-align: right;\">\n",
       "      <th></th>\n",
       "      <th>Company/Brand</th>\n",
       "      <th>Founded</th>\n",
       "      <th>Headquarters</th>\n",
       "      <th>Sector</th>\n",
       "      <th>What it does</th>\n",
       "      <th>Founder/s</th>\n",
       "      <th>Investor/s</th>\n",
       "      <th>Amount</th>\n",
       "      <th>Stage</th>\n",
       "      <th>Date</th>\n",
       "      <th>Current Year</th>\n",
       "      <th>Years_Old</th>\n",
       "    </tr>\n",
       "  </thead>\n",
       "  <tbody>\n",
       "    <tr>\n",
       "      <th>0</th>\n",
       "      <td>CollegeDekho</td>\n",
       "      <td>2015.0</td>\n",
       "      <td>Gurgaon</td>\n",
       "      <td>E-learning</td>\n",
       "      <td>Collegedekho.com is Student’s Partner, Friend ...</td>\n",
       "      <td>Ruchir Arora</td>\n",
       "      <td>Disrupt ADQ, QIC</td>\n",
       "      <td>$35,000,000</td>\n",
       "      <td>Series B</td>\n",
       "      <td>Dec-2021</td>\n",
       "      <td>2021</td>\n",
       "      <td>6.0</td>\n",
       "    </tr>\n",
       "    <tr>\n",
       "      <th>1</th>\n",
       "      <td>BOX8</td>\n",
       "      <td>2012.0</td>\n",
       "      <td>Mumbai</td>\n",
       "      <td>Food &amp; Beverages</td>\n",
       "      <td>India's Largest Desi Meals Brand</td>\n",
       "      <td>Anshul Gupta, Amit Raj</td>\n",
       "      <td>Tiger Global</td>\n",
       "      <td>$40,000,000</td>\n",
       "      <td>NaN</td>\n",
       "      <td>Dec-2021</td>\n",
       "      <td>2021</td>\n",
       "      <td>9.0</td>\n",
       "    </tr>\n",
       "    <tr>\n",
       "      <th>2</th>\n",
       "      <td>Simpl</td>\n",
       "      <td>2015.0</td>\n",
       "      <td>Bangalore</td>\n",
       "      <td>Consumer Services</td>\n",
       "      <td>Simpl empowers merchants to build trusted rela...</td>\n",
       "      <td>Nitya, Chaitra Chidanand</td>\n",
       "      <td>Valar Ventures, IA Ventures</td>\n",
       "      <td>$40,000,000</td>\n",
       "      <td>Series B</td>\n",
       "      <td>Dec-2021</td>\n",
       "      <td>2021</td>\n",
       "      <td>6.0</td>\n",
       "    </tr>\n",
       "    <tr>\n",
       "      <th>3</th>\n",
       "      <td>8i Ventures</td>\n",
       "      <td>2018.0</td>\n",
       "      <td>Mumbai</td>\n",
       "      <td>Venture Capital &amp; Private Equity</td>\n",
       "      <td>8i is a Mumbai &amp; Bangalore based early stage f...</td>\n",
       "      <td>Vikram Chachra</td>\n",
       "      <td>NaN</td>\n",
       "      <td>$50,000,000</td>\n",
       "      <td>NaN</td>\n",
       "      <td>Dec-2021</td>\n",
       "      <td>2021</td>\n",
       "      <td>3.0</td>\n",
       "    </tr>\n",
       "    <tr>\n",
       "      <th>4</th>\n",
       "      <td>PayGlocal</td>\n",
       "      <td>2021.0</td>\n",
       "      <td>Bangalore</td>\n",
       "      <td>Financial Services</td>\n",
       "      <td>PayGlocal is a FinTech solving for global paym...</td>\n",
       "      <td>Prachi Dharani, Rohit Sukhija, Yogesh Lokhande</td>\n",
       "      <td>Sequoia Capital India</td>\n",
       "      <td>$4,900,000</td>\n",
       "      <td>Series A</td>\n",
       "      <td>Dec-2021</td>\n",
       "      <td>2021</td>\n",
       "      <td>0.0</td>\n",
       "    </tr>\n",
       "  </tbody>\n",
       "</table>\n",
       "</div>"
      ],
      "text/plain": [
       "  Company/Brand  Founded Headquarters                            Sector  \\\n",
       "0  CollegeDekho   2015.0      Gurgaon                        E-learning   \n",
       "1          BOX8   2012.0       Mumbai                  Food & Beverages   \n",
       "2         Simpl   2015.0    Bangalore                 Consumer Services   \n",
       "3   8i Ventures   2018.0       Mumbai  Venture Capital & Private Equity   \n",
       "4     PayGlocal   2021.0    Bangalore                Financial Services   \n",
       "\n",
       "                                        What it does  \\\n",
       "0  Collegedekho.com is Student’s Partner, Friend ...   \n",
       "1                   India's Largest Desi Meals Brand   \n",
       "2  Simpl empowers merchants to build trusted rela...   \n",
       "3  8i is a Mumbai & Bangalore based early stage f...   \n",
       "4  PayGlocal is a FinTech solving for global paym...   \n",
       "\n",
       "                                        Founder/s  \\\n",
       "0                                    Ruchir Arora   \n",
       "1                          Anshul Gupta, Amit Raj   \n",
       "2                        Nitya, Chaitra Chidanand   \n",
       "3                                  Vikram Chachra   \n",
       "4  Prachi Dharani, Rohit Sukhija, Yogesh Lokhande   \n",
       "\n",
       "                    Investor/s       Amount     Stage     Date   Current Year  \\\n",
       "0             Disrupt ADQ, QIC  $35,000,000  Series B  Dec-2021          2021   \n",
       "1                 Tiger Global  $40,000,000       NaN  Dec-2021          2021   \n",
       "2  Valar Ventures, IA Ventures  $40,000,000  Series B  Dec-2021          2021   \n",
       "3                          NaN  $50,000,000       NaN  Dec-2021          2021   \n",
       "4        Sequoia Capital India   $4,900,000  Series A  Dec-2021          2021   \n",
       "\n",
       "   Years_Old  \n",
       "0        6.0  \n",
       "1        9.0  \n",
       "2        6.0  \n",
       "3        3.0  \n",
       "4        0.0  "
      ]
     },
     "execution_count": 33,
     "metadata": {},
     "output_type": "execute_result"
    }
   ],
   "source": [
    "df.head()"
   ]
  },
  {
   "cell_type": "code",
   "execution_count": 34,
   "metadata": {},
   "outputs": [
    {
     "data": {
      "text/plain": [
       "Company/Brand      0\n",
       "Founded            1\n",
       "Headquarters       1\n",
       "Sector             0\n",
       "What it does       0\n",
       "Founder/s          4\n",
       "Investor/s        62\n",
       "Amount             3\n",
       "Stage            428\n",
       "Date               0\n",
       "Current Year       0\n",
       "Years_Old          1\n",
       "dtype: int64"
      ]
     },
     "execution_count": 34,
     "metadata": {},
     "output_type": "execute_result"
    }
   ],
   "source": [
    "df.isna().sum()"
   ]
  },
  {
   "cell_type": "code",
   "execution_count": 35,
   "metadata": {},
   "outputs": [],
   "source": [
    "df = df[[\"Company/Brand\", \"Founded\", \"Headquarters\", \"Sector\", \"Founder/s\", \"Investor/s\", \"Amount\", \"Current Year\",\"Years_Old\"]]"
   ]
  },
  {
   "cell_type": "code",
   "execution_count": 36,
   "metadata": {},
   "outputs": [],
   "source": [
    "df.dropna(inplace=True)"
   ]
  },
  {
   "cell_type": "code",
   "execution_count": 37,
   "metadata": {},
   "outputs": [
    {
     "data": {
      "text/plain": [
       "(1138, 9)"
      ]
     },
     "execution_count": 37,
     "metadata": {},
     "output_type": "execute_result"
    }
   ],
   "source": [
    "df.shape"
   ]
  },
  {
   "cell_type": "code",
   "execution_count": 38,
   "metadata": {},
   "outputs": [
    {
     "data": {
      "text/html": [
       "<div>\n",
       "<style scoped>\n",
       "    .dataframe tbody tr th:only-of-type {\n",
       "        vertical-align: middle;\n",
       "    }\n",
       "\n",
       "    .dataframe tbody tr th {\n",
       "        vertical-align: top;\n",
       "    }\n",
       "\n",
       "    .dataframe thead th {\n",
       "        text-align: right;\n",
       "    }\n",
       "</style>\n",
       "<table border=\"1\" class=\"dataframe\">\n",
       "  <thead>\n",
       "    <tr style=\"text-align: right;\">\n",
       "      <th></th>\n",
       "      <th>Company/Brand</th>\n",
       "      <th>Founded</th>\n",
       "      <th>Headquarters</th>\n",
       "      <th>Sector</th>\n",
       "      <th>Founder/s</th>\n",
       "      <th>Investor/s</th>\n",
       "      <th>Amount</th>\n",
       "      <th>Current Year</th>\n",
       "      <th>Years_Old</th>\n",
       "    </tr>\n",
       "  </thead>\n",
       "  <tbody>\n",
       "    <tr>\n",
       "      <th>442</th>\n",
       "      <td>CollegeDekho</td>\n",
       "      <td>2015.0</td>\n",
       "      <td>Gurugram</td>\n",
       "      <td>EdTech</td>\n",
       "      <td>Ruchir Arora</td>\n",
       "      <td>Winter Capital, ETS, Man Capital</td>\n",
       "      <td>$26,000,000</td>\n",
       "      <td>2021</td>\n",
       "      <td>6.0</td>\n",
       "    </tr>\n",
       "    <tr>\n",
       "      <th>164</th>\n",
       "      <td>Recordent</td>\n",
       "      <td>2018.0</td>\n",
       "      <td>Hyderabad</td>\n",
       "      <td>Financial Services</td>\n",
       "      <td>Winny Patro</td>\n",
       "      <td>Family Office of Kantamaneni, IIM Calcutta Inn...</td>\n",
       "      <td>$400,000</td>\n",
       "      <td>2021</td>\n",
       "      <td>3.0</td>\n",
       "    </tr>\n",
       "    <tr>\n",
       "      <th>51</th>\n",
       "      <td>Vedic Cosmeceuticals</td>\n",
       "      <td>2002.0</td>\n",
       "      <td>Noida</td>\n",
       "      <td>Cosmetics</td>\n",
       "      <td>Mohit Goel</td>\n",
       "      <td>Sixth Sense Ventures</td>\n",
       "      <td>$32,000,000</td>\n",
       "      <td>2021</td>\n",
       "      <td>19.0</td>\n",
       "    </tr>\n",
       "    <tr>\n",
       "      <th>203</th>\n",
       "      <td>Rebel Foods</td>\n",
       "      <td>2011.0</td>\n",
       "      <td>Mumbai</td>\n",
       "      <td>Cloud kitchen</td>\n",
       "      <td>Jaydeep Barman, Kallol Banerjee.</td>\n",
       "      <td>Qatar Investment Authority</td>\n",
       "      <td>$175,000,000</td>\n",
       "      <td>2021</td>\n",
       "      <td>10.0</td>\n",
       "    </tr>\n",
       "    <tr>\n",
       "      <th>988</th>\n",
       "      <td>ReshaMandi</td>\n",
       "      <td>2020.0</td>\n",
       "      <td>Bangalore</td>\n",
       "      <td>AgriTech</td>\n",
       "      <td>Utkarsh Apoorva</td>\n",
       "      <td>Omnivore, Strive Ventures</td>\n",
       "      <td>$1,700,000</td>\n",
       "      <td>2021</td>\n",
       "      <td>1.0</td>\n",
       "    </tr>\n",
       "    <tr>\n",
       "      <th>337</th>\n",
       "      <td>CashBook</td>\n",
       "      <td>2020.0</td>\n",
       "      <td>Gurugram</td>\n",
       "      <td>FinTech</td>\n",
       "      <td>Vivek, Ashutosh Pathak</td>\n",
       "      <td>JAM, Better Tomorrow Ventures</td>\n",
       "      <td>$2,300,000</td>\n",
       "      <td>2021</td>\n",
       "      <td>1.0</td>\n",
       "    </tr>\n",
       "    <tr>\n",
       "      <th>1203</th>\n",
       "      <td>BlackSoil</td>\n",
       "      <td>2016.0</td>\n",
       "      <td>Mumbai</td>\n",
       "      <td>FinTech</td>\n",
       "      <td>Ankur Bansal</td>\n",
       "      <td>Awign Enterprises</td>\n",
       "      <td>$4,000,000</td>\n",
       "      <td>2021</td>\n",
       "      <td>5.0</td>\n",
       "    </tr>\n",
       "    <tr>\n",
       "      <th>673</th>\n",
       "      <td>Licious</td>\n",
       "      <td>2015.0</td>\n",
       "      <td>Bangalore</td>\n",
       "      <td>Food &amp; Beverages</td>\n",
       "      <td>Abhay Hanjura, Vivek Gupta</td>\n",
       "      <td>Temasek, Multiples PE</td>\n",
       "      <td>$192,000,000</td>\n",
       "      <td>2021</td>\n",
       "      <td>6.0</td>\n",
       "    </tr>\n",
       "    <tr>\n",
       "      <th>1079</th>\n",
       "      <td>Zolve</td>\n",
       "      <td>2020.0</td>\n",
       "      <td>Bangalore</td>\n",
       "      <td>FinTech</td>\n",
       "      <td>Raghunandan G</td>\n",
       "      <td>Kunal Shah, Greg Kidd</td>\n",
       "      <td>$15,000,000</td>\n",
       "      <td>2021</td>\n",
       "      <td>1.0</td>\n",
       "    </tr>\n",
       "    <tr>\n",
       "      <th>334</th>\n",
       "      <td>Manch Technologies</td>\n",
       "      <td>2017.0</td>\n",
       "      <td>Bangalore</td>\n",
       "      <td>Information Technology &amp; Services</td>\n",
       "      <td>Suresh Anantpurkar</td>\n",
       "      <td>Bharat Inclusion</td>\n",
       "      <td>$1,000,000</td>\n",
       "      <td>2021</td>\n",
       "      <td>4.0</td>\n",
       "    </tr>\n",
       "  </tbody>\n",
       "</table>\n",
       "</div>"
      ],
      "text/plain": [
       "             Company/Brand  Founded Headquarters  \\\n",
       "442           CollegeDekho   2015.0     Gurugram   \n",
       "164              Recordent   2018.0    Hyderabad   \n",
       "51    Vedic Cosmeceuticals   2002.0        Noida   \n",
       "203            Rebel Foods   2011.0       Mumbai   \n",
       "988             ReshaMandi   2020.0    Bangalore   \n",
       "337               CashBook   2020.0     Gurugram   \n",
       "1203             BlackSoil   2016.0       Mumbai   \n",
       "673                Licious   2015.0    Bangalore   \n",
       "1079                 Zolve   2020.0    Bangalore   \n",
       "334     Manch Technologies   2017.0    Bangalore   \n",
       "\n",
       "                                 Sector                         Founder/s  \\\n",
       "442                              EdTech                      Ruchir Arora   \n",
       "164                  Financial Services                       Winny Patro   \n",
       "51                            Cosmetics                        Mohit Goel   \n",
       "203                       Cloud kitchen  Jaydeep Barman, Kallol Banerjee.   \n",
       "988                            AgriTech                   Utkarsh Apoorva   \n",
       "337                             FinTech            Vivek, Ashutosh Pathak   \n",
       "1203                            FinTech                      Ankur Bansal   \n",
       "673                    Food & Beverages        Abhay Hanjura, Vivek Gupta   \n",
       "1079                            FinTech                     Raghunandan G   \n",
       "334   Information Technology & Services                Suresh Anantpurkar   \n",
       "\n",
       "                                             Investor/s        Amount  \\\n",
       "442                    Winter Capital, ETS, Man Capital   $26,000,000   \n",
       "164   Family Office of Kantamaneni, IIM Calcutta Inn...      $400,000   \n",
       "51                                 Sixth Sense Ventures   $32,000,000   \n",
       "203                          Qatar Investment Authority  $175,000,000   \n",
       "988                           Omnivore, Strive Ventures    $1,700,000   \n",
       "337                       JAM, Better Tomorrow Ventures    $2,300,000   \n",
       "1203                                  Awign Enterprises    $4,000,000   \n",
       "673                               Temasek, Multiples PE  $192,000,000   \n",
       "1079                              Kunal Shah, Greg Kidd   $15,000,000   \n",
       "334                                    Bharat Inclusion    $1,000,000   \n",
       "\n",
       "      Current Year  Years_Old  \n",
       "442           2021        6.0  \n",
       "164           2021        3.0  \n",
       "51            2021       19.0  \n",
       "203           2021       10.0  \n",
       "988           2021        1.0  \n",
       "337           2021        1.0  \n",
       "1203          2021        5.0  \n",
       "673           2021        6.0  \n",
       "1079          2021        1.0  \n",
       "334           2021        4.0  "
      ]
     },
     "execution_count": 38,
     "metadata": {},
     "output_type": "execute_result"
    }
   ],
   "source": [
    "df.sample(10)"
   ]
  },
  {
   "cell_type": "code",
   "execution_count": 39,
   "metadata": {},
   "outputs": [
    {
     "data": {
      "text/html": [
       "<div>\n",
       "<style scoped>\n",
       "    .dataframe tbody tr th:only-of-type {\n",
       "        vertical-align: middle;\n",
       "    }\n",
       "\n",
       "    .dataframe tbody tr th {\n",
       "        vertical-align: top;\n",
       "    }\n",
       "\n",
       "    .dataframe thead th {\n",
       "        text-align: right;\n",
       "    }\n",
       "</style>\n",
       "<table border=\"1\" class=\"dataframe\">\n",
       "  <thead>\n",
       "    <tr style=\"text-align: right;\">\n",
       "      <th></th>\n",
       "      <th>Founded</th>\n",
       "      <th>Current Year</th>\n",
       "      <th>Years_Old</th>\n",
       "    </tr>\n",
       "  </thead>\n",
       "  <tbody>\n",
       "    <tr>\n",
       "      <th>count</th>\n",
       "      <td>1138.000000</td>\n",
       "      <td>1138.0</td>\n",
       "      <td>1138.000000</td>\n",
       "    </tr>\n",
       "    <tr>\n",
       "      <th>mean</th>\n",
       "      <td>2016.644991</td>\n",
       "      <td>2021.0</td>\n",
       "      <td>4.355009</td>\n",
       "    </tr>\n",
       "    <tr>\n",
       "      <th>std</th>\n",
       "      <td>4.499446</td>\n",
       "      <td>0.0</td>\n",
       "      <td>4.499446</td>\n",
       "    </tr>\n",
       "    <tr>\n",
       "      <th>min</th>\n",
       "      <td>1963.000000</td>\n",
       "      <td>2021.0</td>\n",
       "      <td>0.000000</td>\n",
       "    </tr>\n",
       "    <tr>\n",
       "      <th>25%</th>\n",
       "      <td>2015.000000</td>\n",
       "      <td>2021.0</td>\n",
       "      <td>1.000000</td>\n",
       "    </tr>\n",
       "    <tr>\n",
       "      <th>50%</th>\n",
       "      <td>2018.000000</td>\n",
       "      <td>2021.0</td>\n",
       "      <td>3.000000</td>\n",
       "    </tr>\n",
       "    <tr>\n",
       "      <th>75%</th>\n",
       "      <td>2020.000000</td>\n",
       "      <td>2021.0</td>\n",
       "      <td>6.000000</td>\n",
       "    </tr>\n",
       "    <tr>\n",
       "      <th>max</th>\n",
       "      <td>2021.000000</td>\n",
       "      <td>2021.0</td>\n",
       "      <td>58.000000</td>\n",
       "    </tr>\n",
       "  </tbody>\n",
       "</table>\n",
       "</div>"
      ],
      "text/plain": [
       "           Founded  Current Year    Years_Old\n",
       "count  1138.000000        1138.0  1138.000000\n",
       "mean   2016.644991        2021.0     4.355009\n",
       "std       4.499446           0.0     4.499446\n",
       "min    1963.000000        2021.0     0.000000\n",
       "25%    2015.000000        2021.0     1.000000\n",
       "50%    2018.000000        2021.0     3.000000\n",
       "75%    2020.000000        2021.0     6.000000\n",
       "max    2021.000000        2021.0    58.000000"
      ]
     },
     "execution_count": 39,
     "metadata": {},
     "output_type": "execute_result"
    }
   ],
   "source": [
    "df.describe()"
   ]
  },
  {
   "cell_type": "code",
   "execution_count": 15,
   "metadata": {},
   "outputs": [
    {
     "data": {
      "text/plain": [
       "<seaborn.axisgrid.PairGrid at 0x2576b98f040>"
      ]
     },
     "execution_count": 15,
     "metadata": {},
     "output_type": "execute_result"
    },
    {
     "data": {
      "image/png": "[encoded data removed]",
      "text/plain": [
       "<Figure size 540x540 with 12 Axes>"
      ]
     },
     "metadata": {
      "needs_background": "light"
     },
     "output_type": "display_data"
    }
   ],
   "source": [
    "sns.pairplot(df)"
   ]
  },
  {
   "cell_type": "code",
   "execution_count": 16,
   "metadata": {},
   "outputs": [],
   "source": [
    "city = df[\"Headquarters\"].value_counts().sort_values(ascending=False).head(15)"
   ]
  },
  {
   "cell_type": "code",
   "execution_count": 17,
   "metadata": {},
   "outputs": [
    {
     "data": {
      "text/plain": [
       "Text(0.5, 1.0, 'Top cities for Startups')"
      ]
     },
     "execution_count": 17,
     "metadata": {},
     "output_type": "execute_result"
    },
    {
     "data": {
      "image/png": "[encoded data removed]",
      "text/plain": [
       "<Figure size 432x288 with 1 Axes>"
      ]
     },
     "metadata": {
      "needs_background": "light"
     },
     "output_type": "display_data"
    }
   ],
   "source": [
    "sns.barplot(x=city, y = city.index).set_title(\"Top cities for Startups\")"
   ]
  },
  {
   "cell_type": "code",
   "execution_count": 18,
   "metadata": {},
   "outputs": [
    {
     "data": {
      "text/plain": [
       "Text(0.5, 1.0, 'Top sectors for Startups')"
      ]
     },
     "execution_count": 18,
     "metadata": {},
     "output_type": "execute_result"
    },
    {
     "data": {
      "image/png": "[encoded data removed]",
      "text/plain": [
       "<Figure size 432x288 with 1 Axes>"
      ]
     },
     "metadata": {
      "needs_background": "light"
     },
     "output_type": "display_data"
    }
   ],
   "source": [
    "sect = df[\"Sector\"].value_counts().sort_values(ascending=False).head(15)\n",
    "sns.barplot(x=sect,y=sect.index).set_title(\"Top sectors for Startups\")"
   ]
  },
  {
   "cell_type": "code",
   "execution_count": 19,
   "metadata": {},
   "outputs": [
    {
     "data": {
      "text/plain": [
       "648     ah! Ventures\n",
       "455         Upsparks\n",
       "468         Upsparks\n",
       "1143     Undisclosed\n",
       "1133     Undisclosed\n",
       "950      Undisclosed\n",
       "1129     Undisclosed\n",
       "940      Undisclosed\n",
       "925      Undisclosed\n",
       "1134     Undisclosed\n",
       "Name: Amount, dtype: object"
      ]
     },
     "execution_count": 19,
     "metadata": {},
     "output_type": "execute_result"
    }
   ],
   "source": [
    "df[\"Amount\"].sort_values(ascending=False).head(10)"
   ]
  },
  {
   "cell_type": "code",
   "execution_count": 20,
   "metadata": {},
   "outputs": [],
   "source": [
    "df[\"Amount\"] = df[\"Amount\"].convert_dtypes(convert_integer=True)"
   ]
  },
  {
   "cell_type": "code",
   "execution_count": 21,
   "metadata": {},
   "outputs": [
    {
     "name": "stdout",
     "output_type": "stream",
     "text": [
      "<class 'pandas.core.frame.DataFrame'>\n",
      "Int64Index: 1138 entries, 0 to 1208\n",
      "Data columns (total 9 columns):\n",
      " #   Column         Non-Null Count  Dtype  \n",
      "---  ------         --------------  -----  \n",
      " 0   Company/Brand  1138 non-null   object \n",
      " 1   Founded        1138 non-null   float64\n",
      " 2   Headquarters   1138 non-null   object \n",
      " 3   Sector         1138 non-null   object \n",
      " 4   Founder/s      1138 non-null   object \n",
      " 5   Investor/s     1138 non-null   object \n",
      " 6   Amount         1138 non-null   string \n",
      " 7   Current Year   1138 non-null   int64  \n",
      " 8   Years_Old      1138 non-null   float64\n",
      "dtypes: float64(2), int64(1), object(5), string(1)\n",
      "memory usage: 121.2+ KB\n"
     ]
    }
   ],
   "source": [
    "df.info()"
   ]
  },
  {
   "cell_type": "code",
   "execution_count": 22,
   "metadata": {},
   "outputs": [
    {
     "name": "stderr",
     "output_type": "stream",
     "text": [
      "C:\\Users\\Pratik\\AppData\\Local\\Temp/ipykernel_6168/223488789.py:1: FutureWarning: The default value of regex will change from True to False in a future version. In addition, single character regular expressions will *not* be treated as literal strings when regex=True.\n",
      "  df[\"Amount\"] = df[\"Amount\"].str.replace(\"$\",'')\n"
     ]
    },
    {
     "data": {
      "text/html": [
       "<div>\n",
       "<style scoped>\n",
       "    .dataframe tbody tr th:only-of-type {\n",
       "        vertical-align: middle;\n",
       "    }\n",
       "\n",
       "    .dataframe tbody tr th {\n",
       "        vertical-align: top;\n",
       "    }\n",
       "\n",
       "    .dataframe thead th {\n",
       "        text-align: right;\n",
       "    }\n",
       "</style>\n",
       "<table border=\"1\" class=\"dataframe\">\n",
       "  <thead>\n",
       "    <tr style=\"text-align: right;\">\n",
       "      <th></th>\n",
       "      <th>Company/Brand</th>\n",
       "      <th>Founded</th>\n",
       "      <th>Headquarters</th>\n",
       "      <th>Sector</th>\n",
       "      <th>Founder/s</th>\n",
       "      <th>Investor/s</th>\n",
       "      <th>Amount</th>\n",
       "      <th>Current Year</th>\n",
       "      <th>Years_Old</th>\n",
       "    </tr>\n",
       "  </thead>\n",
       "  <tbody>\n",
       "    <tr>\n",
       "      <th>0</th>\n",
       "      <td>CollegeDekho</td>\n",
       "      <td>2015.0</td>\n",
       "      <td>Gurgaon</td>\n",
       "      <td>E-learning</td>\n",
       "      <td>Ruchir Arora</td>\n",
       "      <td>Disrupt ADQ, QIC</td>\n",
       "      <td>35000000.0</td>\n",
       "      <td>2021</td>\n",
       "      <td>6.0</td>\n",
       "    </tr>\n",
       "    <tr>\n",
       "      <th>1</th>\n",
       "      <td>BOX8</td>\n",
       "      <td>2012.0</td>\n",
       "      <td>Mumbai</td>\n",
       "      <td>Food &amp; Beverages</td>\n",
       "      <td>Anshul Gupta, Amit Raj</td>\n",
       "      <td>Tiger Global</td>\n",
       "      <td>40000000.0</td>\n",
       "      <td>2021</td>\n",
       "      <td>9.0</td>\n",
       "    </tr>\n",
       "    <tr>\n",
       "      <th>2</th>\n",
       "      <td>Simpl</td>\n",
       "      <td>2015.0</td>\n",
       "      <td>Bangalore</td>\n",
       "      <td>Consumer Services</td>\n",
       "      <td>Nitya, Chaitra Chidanand</td>\n",
       "      <td>Valar Ventures, IA Ventures</td>\n",
       "      <td>40000000.0</td>\n",
       "      <td>2021</td>\n",
       "      <td>6.0</td>\n",
       "    </tr>\n",
       "    <tr>\n",
       "      <th>4</th>\n",
       "      <td>PayGlocal</td>\n",
       "      <td>2021.0</td>\n",
       "      <td>Bangalore</td>\n",
       "      <td>Financial Services</td>\n",
       "      <td>Prachi Dharani, Rohit Sukhija, Yogesh Lokhande</td>\n",
       "      <td>Sequoia Capital India</td>\n",
       "      <td>4900000.0</td>\n",
       "      <td>2021</td>\n",
       "      <td>0.0</td>\n",
       "    </tr>\n",
       "    <tr>\n",
       "      <th>5</th>\n",
       "      <td>Curefit</td>\n",
       "      <td>2016.0</td>\n",
       "      <td>Bangalore</td>\n",
       "      <td>Health, Wellness &amp; Fitness</td>\n",
       "      <td>Mukesh Bansal, Ankit</td>\n",
       "      <td>Zomato</td>\n",
       "      <td>145000000.0</td>\n",
       "      <td>2021</td>\n",
       "      <td>5.0</td>\n",
       "    </tr>\n",
       "  </tbody>\n",
       "</table>\n",
       "</div>"
      ],
      "text/plain": [
       "  Company/Brand  Founded Headquarters                      Sector  \\\n",
       "0  CollegeDekho   2015.0      Gurgaon                  E-learning   \n",
       "1          BOX8   2012.0       Mumbai            Food & Beverages   \n",
       "2         Simpl   2015.0    Bangalore           Consumer Services   \n",
       "4     PayGlocal   2021.0    Bangalore          Financial Services   \n",
       "5       Curefit   2016.0    Bangalore  Health, Wellness & Fitness   \n",
       "\n",
       "                                        Founder/s  \\\n",
       "0                                    Ruchir Arora   \n",
       "1                          Anshul Gupta, Amit Raj   \n",
       "2                        Nitya, Chaitra Chidanand   \n",
       "4  Prachi Dharani, Rohit Sukhija, Yogesh Lokhande   \n",
       "5                            Mukesh Bansal, Ankit   \n",
       "\n",
       "                    Investor/s       Amount  Current Year  Years_Old  \n",
       "0             Disrupt ADQ, QIC   35000000.0          2021        6.0  \n",
       "1                 Tiger Global   40000000.0          2021        9.0  \n",
       "2  Valar Ventures, IA Ventures   40000000.0          2021        6.0  \n",
       "4        Sequoia Capital India    4900000.0          2021        0.0  \n",
       "5                       Zomato  145000000.0          2021        5.0  "
      ]
     },
     "execution_count": 22,
     "metadata": {},
     "output_type": "execute_result"
    }
   ],
   "source": [
    "df[\"Amount\"] = df[\"Amount\"].str.replace(\"$\",'')\n",
    "df[\"Amount\"] = df[\"Amount\"].str.replace(\",\",'')\n",
    "df['Amount'] = pd.to_numeric(df['Amount'], errors = 'coerce')\n",
    "df.head()"
   ]
  },
  {
   "cell_type": "code",
   "execution_count": 23,
   "metadata": {},
   "outputs": [
    {
     "data": {
      "text/plain": [
       "Text(0.5, 1.0, 'Worth of top Startups')"
      ]
     },
     "execution_count": 23,
     "metadata": {},
     "output_type": "execute_result"
    },
    {
     "data": {
      "image/png": "[encoded data removed]",
      "text/plain": [
       "<Figure size 432x288 with 1 Axes>"
      ]
     },
     "metadata": {
      "needs_background": "light"
     },
     "output_type": "display_data"
    }
   ],
   "source": [
    "worth = df[\"Amount\"].sort_values(ascending=False).head(15)\n",
    "sns.barplot(x=worth,y=sect.index).set_title(\"Worth of top Startups\")"
   ]
  },
  {
   "cell_type": "code",
   "execution_count": 24,
   "metadata": {},
   "outputs": [
    {
     "data": {
      "text/plain": [
       "Text(0.5, 1.0, 'Top Investor/s for Startups')"
      ]
     },
     "execution_count": 24,
     "metadata": {},
     "output_type": "execute_result"
    },
    {
     "data": {
      "image/png": "[encoded data removed]",
      "text/plain": [
       "<Figure size 432x288 with 1 Axes>"
      ]
     },
     "metadata": {
      "needs_background": "light"
     },
     "output_type": "display_data"
    }
   ],
   "source": [
    "invest = df[\"Investor/s\"].value_counts().sort_values(ascending=False).head(15)\n",
    "sns.barplot(x=invest,y=invest.index).set_title(\"Top Investor/s for Startups\")"
   ]
  },
  {
   "cell_type": "code",
   "execution_count": 25,
   "metadata": {},
   "outputs": [
    {
     "data": {
      "text/plain": [
       "Text(0.5, 1.0, 'Worth of top Startups')"
      ]
     },
     "execution_count": 25,
     "metadata": {},
     "output_type": "execute_result"
    },
    {
     "data": {
      "image/png": "[encoded data removed]",
      "text/plain": [
       "<Figure size 432x288 with 1 Axes>"
      ]
     },
     "metadata": {
      "needs_background": "light"
     },
     "output_type": "display_data"
    }
   ],
   "source": [
    "sns.barplot(x=worth,y=invest.index).set_title(\"Worth of top Startups\")"
   ]
  },
  {
   "cell_type": "code",
   "execution_count": 26,
   "metadata": {},
   "outputs": [
    {
     "data": {
      "text/plain": [
       "Text(0.5, 1.0, 'Worth of top Startups')"
      ]
     },
     "execution_count": 26,
     "metadata": {},
     "output_type": "execute_result"
    },
    {
     "data": {
      "image/png": "[encoded data removed]",
      "text/plain": [
       "<Figure size 432x288 with 1 Axes>"
      ]
     },
     "metadata": {
      "needs_background": "light"
     },
     "output_type": "display_data"
    }
   ],
   "source": [
    "sns.barplot(x=worth,y=city.index).set_title(\"Worth of top Startups\")"
   ]
  },
  {
   "cell_type": "markdown",
   "metadata": {},
   "source": [
    "### Summary\n",
    "* Maximum number of the startups are estabhlished in Bengaluru\n",
    "* Most of the startups are belongs to 'Fintech' Sector and total worth is also highest in 'Fintec'\n",
    "* Top investor in the study dataset is Inflection Point Ventures\n",
    "* Most of the funding amount recived for Startups in Mumbai "
   ]
  },
  {
   "cell_type": "markdown",
   "metadata": {},
   "source": []
  },
  {
   "cell_type": "code",
   "execution_count": null,
   "metadata": {},
   "outputs": [],
   "source": []
  },
  {
   "cell_type": "code",
   "execution_count": null,
   "metadata": {},
   "outputs": [],
   "source": []
  }
 ],
 "metadata": {
  "interpreter": {
   "hash": "ac59ebe37160ed0dfa835113d9b8498d9f09ceb179beaac4002f036b9467c963"
  },
  "kernelspec": {
   "display_name": "Python 3.9.5 64-bit",
   "language": "python",
   "name": "python3"
  },
  "language_info": {
   "codemirror_mode": {
    "name": "ipython",
    "version": 3
   },
   "file_extension": ".py",
   "mimetype": "text/x-python",
   "name": "python",
   "nbconvert_exporter": "python",
   "pygments_lexer": "ipython3",
   "version": "3.9.5"
  },
  "orig_nbformat": 4
 },
 "nbformat": 4,
 "nbformat_minor": 2
}
