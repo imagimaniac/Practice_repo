{
 "cells": [
  {
   "cell_type": "markdown",
   "metadata": {},
   "source": [
    "## <span style=\"color:orange\">**Analyzing customer segments for a marketing campaign**</span>"
   ]
  },
  {
   "cell_type": "markdown",
   "metadata": {},
   "source": [
    "### **Background**\n",
    "You are a data analyst at a crowdfunding site. For the next quarter, your company will be running a marketing campaign. The marketing manager wants to target those segments that have donated the most in the past year. She turned to you to help her with her upcoming meeting with the CEO."
   ]
  },
  {
   "cell_type": "markdown",
   "metadata": {},
   "source": [
    "### **How to get started**\n",
    "Create your most insightful analysis using Workspace, our in-browser tool to write, run, and publish data analyses. Once you’ve finished your work, you’ll need to publish it for review.\n",
    "\n",
    "* 1 Start your analysis in R or Python\n",
    "* 2 Create an insightful analysis\n",
    "* 3 Publish your work for review\n",
    "* 4 Share your publication to get upvoted"
   ]
  },
  {
   "cell_type": "markdown",
   "metadata": {},
   "source": [
    "### **Rules**\n",
    "* Entries to the competition take the form of a workspace publication. Make sure the competition publication is publicly visible in order to be entered into the competition.\n",
    "* Your publication should be focused on data provided within the competition.\n",
    "* The competition is open and free to registered DataCamp users.\n",
    "* Only one entry per user. You may update your entry up to the deadline.\n",
    "* Make sure your competition workspace is published by the competition deadline in order for it to be valid.\n",
    "* You can check the time left to submit on the counter at the top of this page.\n",
    "* Note: Please make sure you're 18+ years old and are allowed to take part in a skill-based competition from your country."
   ]
  },
  {
   "cell_type": "markdown",
   "metadata": {},
   "source": [
    "## 💪 Challenge\n",
    "Create a **single** visualization that the marketing manager can use to explore the data. Include:\n",
    "\n",
    "1. What are the top three categories in terms of total donations? \n",
    "2. What device type has historically provided the most contributions? \n",
    "3. What age bracket should the campaign target?"
   ]
  },
  {
   "cell_type": "markdown",
   "metadata": {},
   "source": [
    "## 🧑‍⚖️ Judging criteria\n",
    "\n",
    "This is a community-based competition. The top 5 most upvoted entries will win.\n",
    "\n",
    "The winners will receive DataCamp merchandise."
   ]
  },
  {
   "cell_type": "markdown",
   "metadata": {},
   "source": [
    "## ✅ Checklist before publishing\n",
    "- Rename your workspace to make it descriptive of your work. N.B. you should leave the notebook name as notebook.ipynb.\n",
    "- Remove redundant cells like the judging criteria, so the workbook is focused on your answers.\n",
    "- Check that all the cells run without error."
   ]
  },
  {
   "cell_type": "code",
   "execution_count": 115,
   "metadata": {},
   "outputs": [
    {
     "name": "stdout",
     "output_type": "stream",
     "text": [
      "(20658, 5)\n"
     ]
    },
    {
     "data": {
      "text/html": [
       "<div>\n",
       "<style scoped>\n",
       "    .dataframe tbody tr th:only-of-type {\n",
       "        vertical-align: middle;\n",
       "    }\n",
       "\n",
       "    .dataframe tbody tr th {\n",
       "        vertical-align: top;\n",
       "    }\n",
       "\n",
       "    .dataframe thead th {\n",
       "        text-align: right;\n",
       "    }\n",
       "</style>\n",
       "<table border=\"1\" class=\"dataframe\">\n",
       "  <thead>\n",
       "    <tr style=\"text-align: right;\">\n",
       "      <th></th>\n",
       "      <th>category</th>\n",
       "      <th>device</th>\n",
       "      <th>gender</th>\n",
       "      <th>age</th>\n",
       "      <th>amount</th>\n",
       "    </tr>\n",
       "  </thead>\n",
       "  <tbody>\n",
       "    <tr>\n",
       "      <th>0</th>\n",
       "      <td>Fashion</td>\n",
       "      <td>iOS</td>\n",
       "      <td>F</td>\n",
       "      <td>45-54</td>\n",
       "      <td>61.0</td>\n",
       "    </tr>\n",
       "    <tr>\n",
       "      <th>1</th>\n",
       "      <td>Sports</td>\n",
       "      <td>android</td>\n",
       "      <td>M</td>\n",
       "      <td>18-24</td>\n",
       "      <td>31.0</td>\n",
       "    </tr>\n",
       "    <tr>\n",
       "      <th>2</th>\n",
       "      <td>Technology</td>\n",
       "      <td>android</td>\n",
       "      <td>M</td>\n",
       "      <td>18-24</td>\n",
       "      <td>39.0</td>\n",
       "    </tr>\n",
       "    <tr>\n",
       "      <th>3</th>\n",
       "      <td>Technology</td>\n",
       "      <td>iOS</td>\n",
       "      <td>M</td>\n",
       "      <td>18-24</td>\n",
       "      <td>36.0</td>\n",
       "    </tr>\n",
       "    <tr>\n",
       "      <th>4</th>\n",
       "      <td>Sports</td>\n",
       "      <td>android</td>\n",
       "      <td>M</td>\n",
       "      <td>18-24</td>\n",
       "      <td>40.0</td>\n",
       "    </tr>\n",
       "  </tbody>\n",
       "</table>\n",
       "</div>"
      ],
      "text/plain": [
       "     category   device gender    age  amount\n",
       "0     Fashion      iOS      F  45-54    61.0\n",
       "1      Sports  android      M  18-24    31.0\n",
       "2  Technology  android      M  18-24    39.0\n",
       "3  Technology      iOS      M  18-24    36.0\n",
       "4      Sports  android      M  18-24    40.0"
      ]
     },
     "execution_count": 115,
     "metadata": {},
     "output_type": "execute_result"
    }
   ],
   "source": [
    "import pandas as pd\n",
    "import plotly.express as px\n",
    "import matplotlib.pyplot as plt\n",
    "df = pd.read_csv('crowdfunding.csv')\n",
    "print(df.shape)\n",
    "df.head()"
   ]
  },
  {
   "cell_type": "code",
   "execution_count": 116,
   "metadata": {},
   "outputs": [
    {
     "name": "stdout",
     "output_type": "stream",
     "text": [
      "Top Category:\n",
      "                amount\n",
      "category             \n",
      "Games        165483.0\n",
      "Sports       163528.0\n",
      "Technology   162731.0\n",
      "Environment  162376.0\n",
      "Fashion      159952.0\n",
      "\n",
      " Top Devices \n",
      "            amount\n",
      "device           \n",
      "android  283545.0\n",
      "iOS      530525.0\n",
      "\n",
      "Focus Age Group \n",
      "          amount\n",
      "age            \n",
      "18-24  411077.0\n",
      "25-34   99763.0\n",
      "35-44  105597.0\n",
      "45-54   98695.0\n",
      "55+     98938.0\n"
     ]
    }
   ],
   "source": [
    "top_category = df.groupby('category').sum().sort_values(by= 'amount',ascending=False)\n",
    "print('Top Category:\\n',top_category,)\n",
    "top_device = df.groupby('device').sum()\n",
    "print(\"\\n\",\"Top Devices \\n\", top_device)\n",
    "focus_age = df.groupby('age').sum()\n",
    "print(\"\\nFocus Age Group \\n\", focus_age)\n"
   ]
  },
  {
   "cell_type": "markdown",
   "metadata": {},
   "source": [
    "Create a **single** visualization that the marketing manager can use to explore the data. Include:\n",
    "\n",
    "1. What are the top three categories in terms of total donations? \n",
    "2. What device type has historically provided the most contributions? \n",
    "3. What age bracket should the campaign target?"
   ]
  },
  {
   "cell_type": "code",
   "execution_count": 117,
   "metadata": {},
   "outputs": [
    {
     "data": {
      "image/png": "[encoded data removed]",
      "text/plain": [
       "<Figure size 720x504 with 1 Axes>"
      ]
     },
     "metadata": {},
     "output_type": "display_data"
    }
   ],
   "source": [
    "# Creating plot\n",
    "fig = plt.figure(figsize =(10, 7), facecolor=\"white\")\n",
    "data = top_category.amount\n",
    "data_labels= top_category.index\n",
    "plt.pie(data, labels = data_labels , explode= [0.1,0.1,0.1,0.007,0.007])\n",
    "plt.title(\"Top Categories\")\n",
    "\n",
    "fig.legend(top_category.index,\n",
    "          title =\"Category\",\n",
    "          loc =\"center left\",\n",
    "          bbox_to_anchor =(0.75, 0, 0.5, 1))\n",
    "          \n",
    "\n",
    "plt.show()"
   ]
  },
  {
   "cell_type": "code",
   "execution_count": 118,
   "metadata": {},
   "outputs": [
    {
     "data": {
      "image/png": "[encoded data removed]",
      "text/plain": [
       "<Figure size 432x288 with 1 Axes>"
      ]
     },
     "metadata": {
      "needs_background": "light"
     },
     "output_type": "display_data"
    }
   ],
   "source": [
    "top_device = df.groupby('device').sum()\n",
    "x = top_device.index\n",
    "y = top_device.amount\n",
    "\n",
    "plt.bar(x,y)\n",
    "plt.title(\"Device Comparison\")\n",
    "plt.xlabel(\"Devices\")\n",
    "plt.ylabel(\"Amount\")\n",
    "plt.show()"
   ]
  },
  {
   "cell_type": "code",
   "execution_count": 119,
   "metadata": {},
   "outputs": [
    {
     "data": {
      "image/png": "[encoded data removed]",
      "text/plain": [
       "<Figure size 432x288 with 1 Axes>"
      ]
     },
     "metadata": {
      "needs_background": "light"
     },
     "output_type": "display_data"
    }
   ],
   "source": [
    "focus_age = df.groupby('age').sum()\n",
    "x = focus_age.index\n",
    "y = focus_age.amount\n",
    "\n",
    "plt.bar(x,y)\n",
    "plt.title(\"Age Gruop Comparison\")\n",
    "plt.xlabel(\"Age Groups\")\n",
    "plt.ylabel(\"Amount\")\n",
    "plt.show()"
   ]
  },
  {
   "cell_type": "code",
   "execution_count": null,
   "metadata": {},
   "outputs": [],
   "source": []
  },
  {
   "cell_type": "code",
   "execution_count": 137,
   "metadata": {},
   "outputs": [],
   "source": [
    "import scipy\n",
    "from scipy.stats import kurtosis"
   ]
  },
  {
   "cell_type": "code",
   "execution_count": 139,
   "metadata": {},
   "outputs": [],
   "source": [
    "import math\n",
    "data = [88, 85, 82, 97, 67, 77, 74, 86,\n",
    "           81, 95, 77, 88, 85, 76, 81]\n",
    "x = []\n",
    "for i in range(1,16):\n",
    "    x.append(i)"
   ]
  },
  {
   "cell_type": "code",
   "execution_count": 140,
   "metadata": {},
   "outputs": [
    {
     "data": {
      "text/plain": [
       "<BarContainer object of 15 artists>"
      ]
     },
     "execution_count": 140,
     "metadata": {},
     "output_type": "execute_result"
    },
    {
     "data": {
      "image/png": "[encoded data removed]",
      "text/plain": [
       "<Figure size 432x288 with 1 Axes>"
      ]
     },
     "metadata": {
      "needs_background": "light"
     },
     "output_type": "display_data"
    }
   ],
   "source": [
    "plt.bar(x,data)"
   ]
  },
  {
   "cell_type": "code",
   "execution_count": 144,
   "metadata": {},
   "outputs": [
    {
     "data": {
      "text/plain": [
       "0.0326966578855933"
      ]
     },
     "execution_count": 144,
     "metadata": {},
     "output_type": "execute_result"
    }
   ],
   "source": [
    "scipy.stats.skew(data, axis=0, bias=False)"
   ]
  },
  {
   "cell_type": "code",
   "execution_count": 143,
   "metadata": {},
   "outputs": [
    {
     "data": {
      "text/plain": [
       "0.11815715154945083"
      ]
     },
     "execution_count": 143,
     "metadata": {},
     "output_type": "execute_result"
    }
   ],
   "source": [
    "scipy.stats.kurtosis(data, axis=0, bias=False)"
   ]
  },
  {
   "cell_type": "code",
   "execution_count": null,
   "metadata": {},
   "outputs": [],
   "source": []
  }
 ],
 "metadata": {
  "interpreter": {
   "hash": "ac59ebe37160ed0dfa835113d9b8498d9f09ceb179beaac4002f036b9467c963"
  },
  "kernelspec": {
   "display_name": "Python 3.9.5 64-bit",
   "language": "python",
   "name": "python3"
  },
  "language_info": {
   "codemirror_mode": {
    "name": "ipython",
    "version": 3
   },
   "file_extension": ".py",
   "mimetype": "text/x-python",
   "name": "python",
   "nbconvert_exporter": "python",
   "pygments_lexer": "ipython3",
   "version": "3.9.5"
  },
  "orig_nbformat": 4
 },
 "nbformat": 4,
 "nbformat_minor": 2
}
