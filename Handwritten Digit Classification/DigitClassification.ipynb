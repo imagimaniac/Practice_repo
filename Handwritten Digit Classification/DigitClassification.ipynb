{
 "cells": [
  {
   "cell_type": "markdown",
   "metadata": {},
   "source": [
    "<center>\n",
    "<hr>\n",
    "<h2> Handwritten Digits Image Classification </h2>\n",
    "<h2> KNN, Linear SVM, Gaussian Kernal SVM, Naive Bayes, Decision Tree, Random Forest and Voting algorithm </h2>\n",
    "\n",
    "</center>"
   ]
  },
  {
   "cell_type": "code",
   "execution_count": 145,
   "metadata": {
    "scrolled": true
   },
   "outputs": [
    {
     "name": "stdout",
     "output_type": "stream",
     "text": [
      "{'data': array([[ 0.,  0.,  5., ...,  0.,  0.,  0.],\n",
      "       [ 0.,  0.,  0., ..., 10.,  0.,  0.],\n",
      "       [ 0.,  0.,  0., ..., 16.,  9.,  0.],\n",
      "       ...,\n",
      "       [ 0.,  0.,  1., ...,  6.,  0.,  0.],\n",
      "       [ 0.,  0.,  2., ..., 12.,  0.,  0.],\n",
      "       [ 0.,  0., 10., ..., 12.,  1.,  0.]]), 'target': array([0, 1, 2, ..., 8, 9, 8]), 'frame': None, 'feature_names': ['pixel_0_0', 'pixel_0_1', 'pixel_0_2', 'pixel_0_3', 'pixel_0_4', 'pixel_0_5', 'pixel_0_6', 'pixel_0_7', 'pixel_1_0', 'pixel_1_1', 'pixel_1_2', 'pixel_1_3', 'pixel_1_4', 'pixel_1_5', 'pixel_1_6', 'pixel_1_7', 'pixel_2_0', 'pixel_2_1', 'pixel_2_2', 'pixel_2_3', 'pixel_2_4', 'pixel_2_5', 'pixel_2_6', 'pixel_2_7', 'pixel_3_0', 'pixel_3_1', 'pixel_3_2', 'pixel_3_3', 'pixel_3_4', 'pixel_3_5', 'pixel_3_6', 'pixel_3_7', 'pixel_4_0', 'pixel_4_1', 'pixel_4_2', 'pixel_4_3', 'pixel_4_4', 'pixel_4_5', 'pixel_4_6', 'pixel_4_7', 'pixel_5_0', 'pixel_5_1', 'pixel_5_2', 'pixel_5_3', 'pixel_5_4', 'pixel_5_5', 'pixel_5_6', 'pixel_5_7', 'pixel_6_0', 'pixel_6_1', 'pixel_6_2', 'pixel_6_3', 'pixel_6_4', 'pixel_6_5', 'pixel_6_6', 'pixel_6_7', 'pixel_7_0', 'pixel_7_1', 'pixel_7_2', 'pixel_7_3', 'pixel_7_4', 'pixel_7_5', 'pixel_7_6', 'pixel_7_7'], 'target_names': array([0, 1, 2, 3, 4, 5, 6, 7, 8, 9]), 'images': array([[[ 0.,  0.,  5., ...,  1.,  0.,  0.],\n",
      "        [ 0.,  0., 13., ..., 15.,  5.,  0.],\n",
      "        [ 0.,  3., 15., ..., 11.,  8.,  0.],\n",
      "        ...,\n",
      "        [ 0.,  4., 11., ..., 12.,  7.,  0.],\n",
      "        [ 0.,  2., 14., ..., 12.,  0.,  0.],\n",
      "        [ 0.,  0.,  6., ...,  0.,  0.,  0.]],\n",
      "\n",
      "       [[ 0.,  0.,  0., ...,  5.,  0.,  0.],\n",
      "        [ 0.,  0.,  0., ...,  9.,  0.,  0.],\n",
      "        [ 0.,  0.,  3., ...,  6.,  0.,  0.],\n",
      "        ...,\n",
      "        [ 0.,  0.,  1., ...,  6.,  0.,  0.],\n",
      "        [ 0.,  0.,  1., ...,  6.,  0.,  0.],\n",
      "        [ 0.,  0.,  0., ..., 10.,  0.,  0.]],\n",
      "\n",
      "       [[ 0.,  0.,  0., ..., 12.,  0.,  0.],\n",
      "        [ 0.,  0.,  3., ..., 14.,  0.,  0.],\n",
      "        [ 0.,  0.,  8., ..., 16.,  0.,  0.],\n",
      "        ...,\n",
      "        [ 0.,  9., 16., ...,  0.,  0.,  0.],\n",
      "        [ 0.,  3., 13., ..., 11.,  5.,  0.],\n",
      "        [ 0.,  0.,  0., ..., 16.,  9.,  0.]],\n",
      "\n",
      "       ...,\n",
      "\n",
      "       [[ 0.,  0.,  1., ...,  1.,  0.,  0.],\n",
      "        [ 0.,  0., 13., ...,  2.,  1.,  0.],\n",
      "        [ 0.,  0., 16., ..., 16.,  5.,  0.],\n",
      "        ...,\n",
      "        [ 0.,  0., 16., ..., 15.,  0.,  0.],\n",
      "        [ 0.,  0., 15., ..., 16.,  0.,  0.],\n",
      "        [ 0.,  0.,  2., ...,  6.,  0.,  0.]],\n",
      "\n",
      "       [[ 0.,  0.,  2., ...,  0.,  0.,  0.],\n",
      "        [ 0.,  0., 14., ..., 15.,  1.,  0.],\n",
      "        [ 0.,  4., 16., ..., 16.,  7.,  0.],\n",
      "        ...,\n",
      "        [ 0.,  0.,  0., ..., 16.,  2.,  0.],\n",
      "        [ 0.,  0.,  4., ..., 16.,  2.,  0.],\n",
      "        [ 0.,  0.,  5., ..., 12.,  0.,  0.]],\n",
      "\n",
      "       [[ 0.,  0., 10., ...,  1.,  0.,  0.],\n",
      "        [ 0.,  2., 16., ...,  1.,  0.,  0.],\n",
      "        [ 0.,  0., 15., ..., 15.,  0.,  0.],\n",
      "        ...,\n",
      "        [ 0.,  4., 16., ..., 16.,  6.,  0.],\n",
      "        [ 0.,  8., 16., ..., 16.,  8.,  0.],\n",
      "        [ 0.,  1.,  8., ..., 12.,  1.,  0.]]]), 'DESCR': \".. _digits_dataset:\\n\\nOptical recognition of handwritten digits dataset\\n--------------------------------------------------\\n\\n**Data Set Characteristics:**\\n\\n    :Number of Instances: 1797\\n    :Number of Attributes: 64\\n    :Attribute Information: 8x8 image of integer pixels in the range 0..16.\\n    :Missing Attribute Values: None\\n    :Creator: E. Alpaydin (alpaydin '@' boun.edu.tr)\\n    :Date: July; 1998\\n\\nThis is a copy of the test set of the UCI ML hand-written digits datasets\\nhttps://archive.ics.uci.edu/ml/datasets/Optical+Recognition+of+Handwritten+Digits\\n\\nThe data set contains images of hand-written digits: 10 classes where\\neach class refers to a digit.\\n\\nPreprocessing programs made available by NIST were used to extract\\nnormalized bitmaps of handwritten digits from a preprinted form. From a\\ntotal of 43 people, 30 contributed to the training set and different 13\\nto the test set. 32x32 bitmaps are divided into nonoverlapping blocks of\\n4x4 and the number of on pixels are counted in each block. This generates\\nan input matrix of 8x8 where each element is an integer in the range\\n0..16. This reduces dimensionality and gives invariance to small\\ndistortions.\\n\\nFor info on NIST preprocessing routines, see M. D. Garris, J. L. Blue, G.\\nT. Candela, D. L. Dimmick, J. Geist, P. J. Grother, S. A. Janet, and C.\\nL. Wilson, NIST Form-Based Handprint Recognition System, NISTIR 5469,\\n1994.\\n\\n.. topic:: References\\n\\n  - C. Kaynak (1995) Methods of Combining Multiple Classifiers and Their\\n    Applications to Handwritten Digit Recognition, MSc Thesis, Institute of\\n    Graduate Studies in Science and Engineering, Bogazici University.\\n  - E. Alpaydin, C. Kaynak (1998) Cascading Classifiers, Kybernetika.\\n  - Ken Tang and Ponnuthurai N. Suganthan and Xi Yao and A. Kai Qin.\\n    Linear dimensionalityreduction using relevance weighted LDA. School of\\n    Electrical and Electronic Engineering Nanyang Technological University.\\n    2005.\\n  - Claudio Gentile. A New Approximate Maximal Margin Classification\\n    Algorithm. NIPS. 2000.\\n\"}\n"
     ]
    }
   ],
   "source": [
    "# Importing the dataset\n",
    "from sklearn.datasets import load_digits\n",
    "digits = load_digits()\n",
    "print(digits)"
   ]
  },
  {
   "cell_type": "code",
   "execution_count": 146,
   "metadata": {},
   "outputs": [
    {
     "data": {
      "image/png": "[encoded data removed]",
      "text/plain": [
       "<Figure size 432x288 with 4 Axes>"
      ]
     },
     "metadata": {
      "needs_background": "light"
     },
     "output_type": "display_data"
    }
   ],
   "source": [
    "import matplotlib.pyplot as plt\n",
    "digits.images[0].shape\n",
    "list = [10,100,100,45]\n",
    "fig = plt.figure()\n",
    "for i,j in enumerate(list):\n",
    "    plt.subplot(2,2,i+1)\n",
    "    plt.imshow(digits.images[j],cmap='gray')"
   ]
  },
  {
   "cell_type": "code",
   "execution_count": 147,
   "metadata": {
    "collapsed": true
   },
   "outputs": [],
   "source": [
    "X =  digits.data\n",
    "y =  digits.target"
   ]
  },
  {
   "cell_type": "markdown",
   "metadata": {
    "collapsed": true
   },
   "source": [
    "## Step 1. Split the dataset into training data and testing data"
   ]
  },
  {
   "cell_type": "code",
   "execution_count": 148,
   "metadata": {},
   "outputs": [],
   "source": [
    "from sklearn import model_selection\n",
    "from sklearn import linear_model\n",
    "from sklearn import metrics"
   ]
  },
  {
   "cell_type": "code",
   "execution_count": 149,
   "metadata": {
    "collapsed": true
   },
   "outputs": [
    {
     "name": "stdout",
     "output_type": "stream",
     "text": [
      "X_train dimension=  (1437, 64)\n",
      "X_test dimension=  (360, 64)\n",
      "y_train dimension=  (1437,)\n",
      "y_train dimension=  (360,)\n"
     ]
    }
   ],
   "source": [
    "X_train, X_test, y_train, y_test = model_selection.train_test_split(X, y, test_size= 0.2, random_state = 1)\n",
    "\n",
    "print('X_train dimension= ', X_train.shape)\n",
    "print('X_test dimension= ', X_test.shape)\n",
    "print('y_train dimension= ', y_train.shape)\n",
    "print('y_train dimension= ', y_test.shape)"
   ]
  },
  {
   "cell_type": "markdown",
   "metadata": {},
   "source": [
    "## Step 2. Algorithm Analysis"
   ]
  },
  {
   "cell_type": "code",
   "execution_count": 150,
   "metadata": {},
   "outputs": [
    {
     "data": {
      "text/plain": [
       "LogisticRegression(multi_class='ovr', solver='liblinear')"
      ]
     },
     "execution_count": 150,
     "metadata": {},
     "output_type": "execute_result"
    }
   ],
   "source": [
    "log_reg = linear_model.LogisticRegression(multi_class='ovr', solver='liblinear')\n",
    "log_reg.fit(X_train, y_train)"
   ]
  },
  {
   "cell_type": "code",
   "execution_count": 151,
   "metadata": {},
   "outputs": [
    {
     "name": "stdout",
     "output_type": "stream",
     "text": [
      "Accuracy of Logistic Regression Model is: 0.9694\n",
      "Mean Squared Error for Linear SVM model: 0.4500\n"
     ]
    }
   ],
   "source": [
    "from sklearn.metrics import accuracy_score, mean_squared_error\n",
    "\n",
    "y_pred_log = log_reg.predict(X_test)\n",
    "print('Accuracy of Logistic Regression Model is: {0:0.4f}'. format(accuracy_score(y_test, y_pred_log)))\n",
    "mse_Log = metrics.mean_squared_error(y_test,y_pred_log)\n",
    "print('Mean Squared Error for Linear SVM model: {0:0.4f}'. format(mse_Log))\n"
   ]
  },
  {
   "cell_type": "markdown",
   "metadata": {},
   "source": [
    "## Method 1. KNN"
   ]
  },
  {
   "cell_type": "code",
   "execution_count": 152,
   "metadata": {},
   "outputs": [
    {
     "name": "stdout",
     "output_type": "stream",
     "text": [
      "Confusion Matrix for Linear SVM Classifier:\n",
      "[[43  0  0  0  0  0  0  0  0  0]\n",
      " [ 0 35  0  0  0  0  0  0  0  0]\n",
      " [ 0  0 35  0  0  0  0  1  0  0]\n",
      " [ 0  0  0 41  0  0  0  0  0  0]\n",
      " [ 0  0  0  0 38  0  0  0  0  0]\n",
      " [ 0  0  0  0  0 30  0  0  0  0]\n",
      " [ 0  0  0  0  0  0 37  0  0  0]\n",
      " [ 0  0  0  0  0  0  0 36  0  1]\n",
      " [ 0  0  0  0  0  0  0  0 29  0]\n",
      " [ 0  0  0  0  0  0  0  0  0 34]]\n",
      "\n",
      "Classification Report for Linear SVM Classifier:\n",
      "              precision    recall  f1-score   support\n",
      "\n",
      "           0       1.00      1.00      1.00        43\n",
      "           1       1.00      1.00      1.00        35\n",
      "           2       1.00      0.97      0.99        36\n",
      "           3       1.00      1.00      1.00        41\n",
      "           4       1.00      1.00      1.00        38\n",
      "           5       1.00      1.00      1.00        30\n",
      "           6       1.00      1.00      1.00        37\n",
      "           7       0.97      0.97      0.97        37\n",
      "           8       1.00      1.00      1.00        29\n",
      "           9       0.97      1.00      0.99        34\n",
      "\n",
      "    accuracy                           0.99       360\n",
      "   macro avg       0.99      0.99      0.99       360\n",
      "weighted avg       0.99      0.99      0.99       360\n",
      "\n",
      "Accuracy for Linear SVM Classifier: 0.9944\n",
      "Mean Squared Error for Linear SVM Classifier: 0.0806\n"
     ]
    }
   ],
   "source": [
    "#Predicting the test set result  \n",
    "from sklearn.neighbors import KNeighborsClassifier\n",
    "knn = KNeighborsClassifier(n_neighbors=5)\n",
    "knn.fit(X_train, y_train)\n",
    "y_pred_knn = knn.predict(X_test)\n",
    "\n",
    "from sklearn.metrics import classification_report, confusion_matrix, accuracy_score\n",
    "cm_knn = confusion_matrix(y_test, y_pred_knn)\n",
    "print(\"Confusion Matrix for Linear SVM Classifier:\")\n",
    "print(cm_knn)\n",
    "clss_report_knn= classification_report(y_test, y_pred_knn)\n",
    "print(\"\\nClassification Report for Linear SVM Classifier:\",)\n",
    "print (clss_report_knn)\n",
    "acc_score_Knn = accuracy_score(y_test,y_pred_knn)\n",
    "\n",
    "print('Accuracy for Linear SVM Classifier: {0:0.4f}'. format(acc_score_Knn))\n",
    "mse_knn = metrics.mean_squared_error(y_test,y_pred_knn)\n",
    "print('Mean Squared Error for Linear SVM Classifier: {0:0.4f}'. format(mse_knn))"
   ]
  },
  {
   "cell_type": "markdown",
   "metadata": {},
   "source": [
    "## Method 2. Linear SVM"
   ]
  },
  {
   "cell_type": "code",
   "execution_count": 153,
   "metadata": {
    "collapsed": true
   },
   "outputs": [
    {
     "name": "stdout",
     "output_type": "stream",
     "text": [
      "Confusion Matrix for Linear SVM Classifier:\n",
      "[[43  0  0  0  0  0  0  0  0  0]\n",
      " [ 0 35  0  0  0  0  0  0  0  0]\n",
      " [ 0  0 36  0  0  0  0  0  0  0]\n",
      " [ 0  0  0 41  0  0  0  0  0  0]\n",
      " [ 0  0  0  0 38  0  0  0  0  0]\n",
      " [ 0  0  0  0  0 30  0  0  0  0]\n",
      " [ 0  0  0  0  0  0 37  0  0  0]\n",
      " [ 0  0  0  0  0  0  0 36  0  1]\n",
      " [ 0  0  0  0  0  1  0  0 28  0]\n",
      " [ 0  0  0  0  0  1  0  0  0 33]]\n",
      "\n",
      "Classification Report for Linear SVM Classifier:\n",
      "              precision    recall  f1-score   support\n",
      "\n",
      "           0       1.00      1.00      1.00        43\n",
      "           1       1.00      1.00      1.00        35\n",
      "           2       1.00      1.00      1.00        36\n",
      "           3       1.00      1.00      1.00        41\n",
      "           4       1.00      1.00      1.00        38\n",
      "           5       0.94      1.00      0.97        30\n",
      "           6       1.00      1.00      1.00        37\n",
      "           7       1.00      0.97      0.99        37\n",
      "           8       1.00      0.97      0.98        29\n",
      "           9       0.97      0.97      0.97        34\n",
      "\n",
      "    accuracy                           0.99       360\n",
      "   macro avg       0.99      0.99      0.99       360\n",
      "weighted avg       0.99      0.99      0.99       360\n",
      "\n",
      "Accuracy for Linear SVM Classifier: 0.9917\n",
      "Mean Squared Error for Linear SVM Classifier: 0.0806\n"
     ]
    }
   ],
   "source": [
    "from sklearn.svm import SVC\n",
    "from sklearn.metrics import accuracy_score, mean_squared_error\n",
    "classifier_LSVM = SVC(kernel='linear')\n",
    "classifier_LSVM.fit(X_train, y_train)\n",
    "y_predicted_LSVM = classifier_LSVM.predict(X_test)\n",
    "\n",
    "\n",
    "from sklearn.metrics import classification_report, confusion_matrix, accuracy_score\n",
    "cm_LSVM = confusion_matrix(y_test, y_predicted_LSVM)\n",
    "print(\"Confusion Matrix for Linear SVM Classifier:\")\n",
    "print(cm_LSVM)\n",
    "clss_report_LSVM = classification_report(y_test, y_predicted_LSVM)\n",
    "print(\"\\nClassification Report for Linear SVM Classifier:\",)\n",
    "print (clss_report_LSVM)\n",
    "acc_score_LSVM = accuracy_score(y_test,y_predicted_LSVM)\n",
    "\n",
    "print('Accuracy for Linear SVM Classifier: {0:0.4f}'. format(acc_score_LSVM))\n",
    "mse_LSVM = metrics.mean_squared_error(y_test,y_predicted_LSVM)\n",
    "print('Mean Squared Error for Linear SVM Classifier: {0:0.4f}'. format(mse_LSVM))\n"
   ]
  },
  {
   "cell_type": "markdown",
   "metadata": {},
   "source": [
    "## Method 3. Gaussian Kernal SVM"
   ]
  },
  {
   "cell_type": "code",
   "execution_count": 154,
   "metadata": {
    "collapsed": true
   },
   "outputs": [
    {
     "name": "stdout",
     "output_type": "stream",
     "text": [
      "Confusion Matrix for Gaussian SVM Classifier:\n",
      "[[43  0  0  0  0  0  0  0  0  0]\n",
      " [ 0 35  0  0  0  0  0  0  0  0]\n",
      " [ 0  0 36  0  0  0  0  0  0  0]\n",
      " [ 0  0  0 41  0  0  0  0  0  0]\n",
      " [ 0  0  0  0 38  0  0  0  0  0]\n",
      " [ 0  0  0  0  0 30  0  0  0  0]\n",
      " [ 0  0  0  0  0  0 37  0  0  0]\n",
      " [ 0  0  0  0  0  0  0 36  0  1]\n",
      " [ 0  0  0  0  0  1  0  0 28  0]\n",
      " [ 0  0  0  0  0  1  0  0  0 33]]\n",
      "\n",
      "Classification Report for Gaussian SVM Classifier:\n",
      "              precision    recall  f1-score   support\n",
      "\n",
      "           0       1.00      1.00      1.00        43\n",
      "           1       1.00      1.00      1.00        35\n",
      "           2       1.00      1.00      1.00        36\n",
      "           3       1.00      1.00      1.00        41\n",
      "           4       1.00      1.00      1.00        38\n",
      "           5       0.94      1.00      0.97        30\n",
      "           6       1.00      1.00      1.00        37\n",
      "           7       1.00      0.97      0.99        37\n",
      "           8       1.00      0.97      0.98        29\n",
      "           9       0.97      0.97      0.97        34\n",
      "\n",
      "    accuracy                           0.99       360\n",
      "   macro avg       0.99      0.99      0.99       360\n",
      "weighted avg       0.99      0.99      0.99       360\n",
      "\n",
      "Accuracy for Gaussian SVM Classifier: 0.9917\n",
      "Mean Squared Error for Gaussian SVM Classifier: 0.0806\n"
     ]
    }
   ],
   "source": [
    "\n",
    "from sklearn.svm import SVC\n",
    "classifier_GSVM = SVC(kernel ='rbf')\n",
    "classifier_GSVM.fit(X_train, y_train)\n",
    "y_predicted_GSVM = classifier_LSVM.predict(X_test)\n",
    "\n",
    "\n",
    "from sklearn.metrics import classification_report, confusion_matrix, accuracy_score\n",
    "cm_GSVM = confusion_matrix(y_test, y_predicted_GSVM)\n",
    "print(\"Confusion Matrix for Gaussian SVM Classifier:\")\n",
    "print(cm_GSVM)\n",
    "clss_report_GSVM = classification_report(y_test, y_predicted_GSVM)\n",
    "print(\"\\nClassification Report for Gaussian SVM Classifier:\",)\n",
    "print (clss_report_GSVM)\n",
    "acc_score_GSVM = accuracy_score(y_test,y_predicted_GSVM)\n",
    "\n",
    "print('Accuracy for Gaussian SVM Classifier: {0:0.4f}'. format(acc_score_GSVM))\n",
    "mse_GSVM = metrics.mean_squared_error(y_test,y_predicted_GSVM)\n",
    "print('Mean Squared Error for Gaussian SVM Classifier: {0:0.4f}'. format(mse_GSVM))\n",
    "\n",
    "\n"
   ]
  },
  {
   "cell_type": "markdown",
   "metadata": {},
   "source": [
    "## Method 4. Naive Bayes"
   ]
  },
  {
   "cell_type": "code",
   "execution_count": 155,
   "metadata": {
    "collapsed": true
   },
   "outputs": [
    {
     "name": "stdout",
     "output_type": "stream",
     "text": [
      "Confusion Matrix for Gaussian Naive Bayes Classifier:\n",
      "[[41  0  0  0  1  0  0  1  0  0]\n",
      " [ 0 29  0  0  0  0  0  0  6  0]\n",
      " [ 0  3 23  1  0  0  0  0  9  0]\n",
      " [ 0  1  1 32  0  2  0  2  3  0]\n",
      " [ 1  0  0  0 35  0  1  0  1  0]\n",
      " [ 0  1  0  0  0 25  0  2  2  0]\n",
      " [ 0  0  0  0  0  0 37  0  0  0]\n",
      " [ 0  0  0  0  0  0  0 37  0  0]\n",
      " [ 0  0  0  1  0  0  0  0 28  0]\n",
      " [ 0  1  0  1  2  1  0  5  4 20]]\n",
      "\n",
      "Classification Report for Gaussian Naive Bayes Classifier:\n",
      "              precision    recall  f1-score   support\n",
      "\n",
      "           0       0.98      0.95      0.96        43\n",
      "           1       0.83      0.83      0.83        35\n",
      "           2       0.96      0.64      0.77        36\n",
      "           3       0.91      0.78      0.84        41\n",
      "           4       0.92      0.92      0.92        38\n",
      "           5       0.89      0.83      0.86        30\n",
      "           6       0.97      1.00      0.99        37\n",
      "           7       0.79      1.00      0.88        37\n",
      "           8       0.53      0.97      0.68        29\n",
      "           9       1.00      0.59      0.74        34\n",
      "\n",
      "    accuracy                           0.85       360\n",
      "   macro avg       0.88      0.85      0.85       360\n",
      "weighted avg       0.89      0.85      0.85       360\n",
      "\n",
      "Accuracy for Gaussian Naive Bayes Classifier: 0.8528\n",
      "Mean Squared Error for Gaussian Naive Bayes Classifier: 3.0556\n"
     ]
    }
   ],
   "source": [
    "from sklearn.naive_bayes import GaussianNB\n",
    "\n",
    "naive_bayes_classifier = GaussianNB()\n",
    "\n",
    "# fit the model\n",
    "naive_bayes_classifier.fit(X_train, y_train)\n",
    "\n",
    "y_pred_GNB = naive_bayes_classifier.predict(X_test)\n",
    "\n",
    "\n",
    "from sklearn.metrics import classification_report, confusion_matrix, accuracy_score\n",
    "cm_NB = confusion_matrix(y_test, y_pred_GNB)\n",
    "print(\"Confusion Matrix for Gaussian Naive Bayes Classifier:\")\n",
    "print(cm_NB)\n",
    "clss_report_NB = classification_report(y_test, y_pred_GNB)\n",
    "print(\"\\nClassification Report for Gaussian Naive Bayes Classifier:\",)\n",
    "print (clss_report_NB)\n",
    "acc_score_NB = accuracy_score(y_test,y_pred_GNB)\n",
    "\n",
    "print('Accuracy for Gaussian Naive Bayes Classifier: {0:0.4f}'. format(acc_score_NB))\n",
    "mse_NB = metrics.mean_squared_error(y_test,y_pred_GNB)\n",
    "print('Mean Squared Error for Gaussian Naive Bayes Classifier: {0:0.4f}'. format(mse_NB))"
   ]
  },
  {
   "cell_type": "code",
   "execution_count": 156,
   "metadata": {},
   "outputs": [
    {
     "name": "stdout",
     "output_type": "stream",
     "text": [
      "Naive Bays Model accuracy score: 0.8528\n",
      "Mean Squared Error for Linear SVM model: 3.0556\n"
     ]
    }
   ],
   "source": [
    "\n",
    "\n",
    "print('Naive Bays Model accuracy score: {0:0.4f}'. format(accuracy_score(y_test, y_pred_GNB)))\n",
    "mse_NB = metrics.mean_squared_error(y_test,y_pred_GNB)\n",
    "print('Mean Squared Error for Linear SVM model: {0:0.4f}'. format(mse_NB))"
   ]
  },
  {
   "cell_type": "markdown",
   "metadata": {},
   "source": [
    "## Method 5. Decision Tree"
   ]
  },
  {
   "cell_type": "code",
   "execution_count": 157,
   "metadata": {
    "collapsed": true
   },
   "outputs": [
    {
     "name": "stdout",
     "output_type": "stream",
     "text": [
      "Confusion Matrix for Decision Tree Clasifier:\n",
      "[[40  0  0  0  1  1  0  0  1  0]\n",
      " [ 0  0  0  0  3  9  0  0 23  0]\n",
      " [ 0  0  0  0  0  8  1  0 27  0]\n",
      " [ 0  0  0  0  1  4  0  0 35  1]\n",
      " [ 3  0  0  0 23  1  7  0  4  0]\n",
      " [ 0  0  0  0  0 28  0  0  2  0]\n",
      " [ 0  0  0  0  0  2 35  0  0  0]\n",
      " [ 0  0  0  0  5  1  0  0 31  0]\n",
      " [ 0  0  0  0  0  1  0  0 28  0]\n",
      " [ 0  0  0  0  0  2  0  0 21 11]]\n",
      "Classification Report for Decision Tree Classifier:\n",
      "              precision    recall  f1-score   support\n",
      "\n",
      "           0       0.93      0.93      0.93        43\n",
      "           1       0.00      0.00      0.00        35\n",
      "           2       0.00      0.00      0.00        36\n",
      "           3       0.00      0.00      0.00        41\n",
      "           4       0.70      0.61      0.65        38\n",
      "           5       0.49      0.93      0.64        30\n",
      "           6       0.81      0.95      0.88        37\n",
      "           7       0.00      0.00      0.00        37\n",
      "           8       0.16      0.97      0.28        29\n",
      "           9       0.92      0.32      0.48        34\n",
      "\n",
      "    accuracy                           0.46       360\n",
      "   macro avg       0.40      0.47      0.39       360\n",
      "weighted avg       0.41      0.46      0.39       360\n",
      "\n",
      "Accuracy of Decision Tree classifier: 0.4583\n",
      "Mean Squared Error for Decision Tree classifier: 10.2611\n"
     ]
    },
    {
     "name": "stderr",
     "output_type": "stream",
     "text": [
      "C:\\Users\\Pratik\\AppData\\Roaming\\Python\\Python39\\site-packages\\sklearn\\metrics\\_classification.py:1318: UndefinedMetricWarning: Precision and F-score are ill-defined and being set to 0.0 in labels with no predicted samples. Use `zero_division` parameter to control this behavior.\n",
      "  _warn_prf(average, modifier, msg_start, len(result))\n",
      "C:\\Users\\Pratik\\AppData\\Roaming\\Python\\Python39\\site-packages\\sklearn\\metrics\\_classification.py:1318: UndefinedMetricWarning: Precision and F-score are ill-defined and being set to 0.0 in labels with no predicted samples. Use `zero_division` parameter to control this behavior.\n",
      "  _warn_prf(average, modifier, msg_start, len(result))\n",
      "C:\\Users\\Pratik\\AppData\\Roaming\\Python\\Python39\\site-packages\\sklearn\\metrics\\_classification.py:1318: UndefinedMetricWarning: Precision and F-score are ill-defined and being set to 0.0 in labels with no predicted samples. Use `zero_division` parameter to control this behavior.\n",
      "  _warn_prf(average, modifier, msg_start, len(result))\n"
     ]
    }
   ],
   "source": [
    "from sklearn.tree import DecisionTreeClassifier\n",
    "Tree_model = DecisionTreeClassifier(criterion=\"gini\", random_state=42,max_depth=3, min_samples_leaf=10)   \n",
    "Tree_model.fit(X_train,y_train)\n",
    "\n",
    "#DecisionTreeClassifier(max_depth=3, min_samples_leaf=5, random_state=42)\n",
    "\n",
    "y_predict_tree = Tree_model.predict(X_test)\n",
    "\n",
    "\n",
    "from sklearn.metrics import classification_report, confusion_matrix, accuracy_score\n",
    "cm_tree = confusion_matrix(y_test, y_predict_tree)\n",
    "print(\"Confusion Matrix for Decision Tree Clasifier:\")\n",
    "print(cm_tree)\n",
    "clss_report_Tree = classification_report(y_test, y_predict_tree)\n",
    "print(\"Classification Report for Decision Tree Classifier:\",)\n",
    "print (clss_report_Tree)\n",
    "acc_score_tree = accuracy_score(y_test,y_predict_tree)\n",
    "\n",
    "print('Accuracy of Decision Tree classifier: {0:0.4f}'. format(acc_score_tree))\n",
    "mse_tree = metrics.mean_squared_error(y_test,y_predict_tree)\n",
    "print('Mean Squared Error for Decision Tree classifier: {0:0.4f}'. format(mse_tree))"
   ]
  },
  {
   "cell_type": "markdown",
   "metadata": {},
   "source": [
    "## Method 6. Random Forest"
   ]
  },
  {
   "cell_type": "code",
   "execution_count": 158,
   "metadata": {
    "collapsed": true
   },
   "outputs": [
    {
     "name": "stdout",
     "output_type": "stream",
     "text": [
      "Confusion Matrix for Random Forest Classifier:\n",
      "[[42  0  0  0  1  0  0  0  0  0]\n",
      " [ 0 35  0  0  0  0  0  0  0  0]\n",
      " [ 0  0 36  0  0  0  0  0  0  0]\n",
      " [ 0  0  0 39  0  0  0  0  1  1]\n",
      " [ 0  0  0  0 38  0  0  0  0  0]\n",
      " [ 0  0  0  0  0 29  0  0  0  1]\n",
      " [ 0  0  0  0  0  0 37  0  0  0]\n",
      " [ 0  0  0  0  0  0  0 36  0  1]\n",
      " [ 0  0  0  0  0  1  0  0 27  1]\n",
      " [ 0  0  0  0  0  1  0  0  0 33]]\n",
      "Classification Report for Random Forest Classifier:\n",
      "              precision    recall  f1-score   support\n",
      "\n",
      "           0       1.00      0.98      0.99        43\n",
      "           1       1.00      1.00      1.00        35\n",
      "           2       1.00      1.00      1.00        36\n",
      "           3       1.00      0.95      0.97        41\n",
      "           4       0.97      1.00      0.99        38\n",
      "           5       0.94      0.97      0.95        30\n",
      "           6       1.00      1.00      1.00        37\n",
      "           7       1.00      0.97      0.99        37\n",
      "           8       0.96      0.93      0.95        29\n",
      "           9       0.89      0.97      0.93        34\n",
      "\n",
      "    accuracy                           0.98       360\n",
      "   macro avg       0.98      0.98      0.98       360\n",
      "weighted avg       0.98      0.98      0.98       360\n",
      "\n",
      "Accuracy of Random forest classifier: 0.9778\n",
      "Mean Squared Error for Random Forest Classifier: 0.3417\n"
     ]
    }
   ],
   "source": [
    "from sklearn.ensemble import RandomForestClassifier\n",
    "\n",
    "RF_classifier = RandomForestClassifier(n_estimators = 50)\n",
    "RF_classifier.fit(X_train, y_train)\n",
    "\n",
    "y_pred_RF = RF_classifier.predict(X_test)\n",
    "\n",
    "from sklearn.metrics import classification_report, confusion_matrix, accuracy_score\n",
    "cm_RF = confusion_matrix(y_test, y_pred_RF)\n",
    "print(\"Confusion Matrix for Random Forest Classifier:\")\n",
    "print(cm_RF)\n",
    "clss_report_RF = classification_report(y_test, y_pred_RF)\n",
    "print(\"Classification Report for Random Forest Classifier:\",)\n",
    "print (clss_report_RF)\n",
    "acc_score_RF = accuracy_score(y_test,y_pred_RF)\n",
    "\n",
    "print('Accuracy of Random forest classifier: {0:0.4f}'. format(acc_score_RF))\n",
    "mse_RF = metrics.mean_squared_error(y_test,y_pred_RF)\n",
    "print('Mean Squared Error for Random Forest Classifier: {0:0.4f}'. format(mse_RF))"
   ]
  },
  {
   "cell_type": "markdown",
   "metadata": {
    "collapsed": true
   },
   "source": [
    "## Method 7. Voting Classifier"
   ]
  },
  {
   "cell_type": "code",
   "execution_count": 159,
   "metadata": {
    "collapsed": true
   },
   "outputs": [
    {
     "name": "stdout",
     "output_type": "stream",
     "text": [
      "Confusion Matrix:\n",
      "[[43  0  0  0  0  0  0  0  0  0]\n",
      " [ 0 35  0  0  0  0  0  0  0  0]\n",
      " [ 0  0 36  0  0  0  0  0  0  0]\n",
      " [ 0  0  0 41  0  0  0  0  0  0]\n",
      " [ 0  0  0  0 38  0  0  0  0  0]\n",
      " [ 0  0  0  0  0 30  0  0  0  0]\n",
      " [ 0  0  0  0  0  0 37  0  0  0]\n",
      " [ 0  0  0  0  0  0  0 36  0  1]\n",
      " [ 0  0  0  0  0  0  0  0 29  0]\n",
      " [ 0  0  0  0  0  1  0  0  0 33]]\n",
      "Classification Report:\n",
      "              precision    recall  f1-score   support\n",
      "\n",
      "           0       1.00      1.00      1.00        43\n",
      "           1       1.00      1.00      1.00        35\n",
      "           2       1.00      1.00      1.00        36\n",
      "           3       1.00      1.00      1.00        41\n",
      "           4       1.00      1.00      1.00        38\n",
      "           5       0.97      1.00      0.98        30\n",
      "           6       1.00      1.00      1.00        37\n",
      "           7       1.00      0.97      0.99        37\n",
      "           8       1.00      1.00      1.00        29\n",
      "           9       0.97      0.97      0.97        34\n",
      "\n",
      "    accuracy                           0.99       360\n",
      "   macro avg       0.99      0.99      0.99       360\n",
      "weighted avg       0.99      0.99      0.99       360\n",
      "\n",
      "Accuracy of Voting classifier: 0.9944\n",
      "Mean Squared Error for Voting Classifier model: 0.0556\n"
     ]
    }
   ],
   "source": [
    "from sklearn.ensemble import VotingClassifier\n",
    "\n",
    "\n",
    "voting_clss = VotingClassifier(estimators=[('lg', log_reg), ('knn', knn), ('LSVM', classifier_LSVM),\n",
    "                            ('GSVM', classifier_GSVM), (\"NB\",naive_bayes_classifier), (\"tree\",Tree_model), (\"RF\",RF_classifier)], voting='hard')\n",
    "\n",
    "voting_clss.fit(X_train,y_train)\n",
    "\n",
    "\n",
    "y_pred_Voting = voting_clss.predict(X_test)\n",
    "\n",
    "from sklearn.metrics import classification_report, confusion_matrix, accuracy_score\n",
    "\n",
    "cm_voting = confusion_matrix(y_test, y_pred_Voting)\n",
    "print(\"Confusion Matrix:\")\n",
    "print(cm_voting)\n",
    "clss_report_voting = classification_report(y_test, y_pred_Voting)\n",
    "print(\"Classification Report:\")\n",
    "print (clss_report_voting)\n",
    "acc_score_voting = accuracy_score(y_test,y_pred_Voting)\n",
    "\n",
    "print('Accuracy of Voting classifier: {0:0.4f}'. format(acc_score_voting))\n",
    "mse_voting = metrics.mean_squared_error(y_test,y_pred_Voting)\n",
    "print('Mean Squared Error for Voting Classifier model: {0:0.4f}'. format(mse_voting))"
   ]
  },
  {
   "cell_type": "markdown",
   "metadata": {
    "collapsed": true
   },
   "source": [
    "## Step 3: Accuracy Results Table"
   ]
  },
  {
   "cell_type": "markdown",
   "metadata": {
    "collapsed": true
   },
   "source": [
    "<table>\n",
    "    <thead>\n",
    "        <tr>\n",
    "            <th></th>\n",
    "            <th>KNN</th>\n",
    "            <th>L_SVM</th>\n",
    "            <th>RBF_SVM</th>\n",
    "            <th>NB</th>\n",
    "            <th>DT</th>\n",
    "            <th>RF</th>\n",
    "            <th>Voting</th>\n",
    "        </tr>\n",
    "    </thead>\n",
    "    <tbody>\n",
    "        <tr>\n",
    "            <td>Accuracy</td>\n",
    "            <td>0.9944</td>\n",
    "            <td>0.9917</td>\n",
    "            <td>0.9917</td>\n",
    "            <td>0.8528</td>\n",
    "            <td>0.4583</td>\n",
    "            <td>0.9833</td>\n",
    "            <td>0.9944</td>\n",
    "        </tr>\n",
    "        <tr>\n",
    "            <td>Weighted Precision</td>\n",
    "            <td>0.99</td>\n",
    "            <td>0.99</td>\n",
    "            <td>0.99</td>\n",
    "            <td>0.89</td>\n",
    "            <td>0.41</td>\n",
    "            <td>0.98</td>\n",
    "            <td>0.99</td>\n",
    "        </tr>\n",
    "        <tr>\n",
    "            <td>Weighted Recall</td>\n",
    "            <td>0.99</td>\n",
    "            <td>0.99</td>\n",
    "            <td>0.99</td>\n",
    "            <td>0.85</td>\n",
    "            <td>0.46</td>\n",
    "            <td>0.98</td>\n",
    "            <td>0.99</td>\n",
    "        </tr>\n",
    "    </tbody>\n",
    "</table>"
   ]
  }
 ],
 "metadata": {
  "kernelspec": {
   "display_name": "Python 3",
   "language": "python",
   "name": "python3"
  },
  "language_info": {
   "codemirror_mode": {
    "name": "ipython",
    "version": 3
   },
   "file_extension": ".py",
   "mimetype": "text/x-python",
   "name": "python",
   "nbconvert_exporter": "python",
   "pygments_lexer": "ipython3",
   "version": "3.9.5"
  }
 },
 "nbformat": 4,
 "nbformat_minor": 2
}
