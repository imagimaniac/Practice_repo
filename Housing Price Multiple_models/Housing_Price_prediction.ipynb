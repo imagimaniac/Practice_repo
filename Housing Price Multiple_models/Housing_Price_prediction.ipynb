{
 "cells": [
  {
   "cell_type": "markdown",
   "metadata": {},
   "source": [
    "<center>\n",
    "\n",
    "<h2>Predict The Bay Area’s Home Prices</h2>\n",
    "<hr>\n",
    "\n",
    "</center>"
   ]
  },
  {
   "cell_type": "markdown",
   "metadata": {},
   "source": [
    "## 1. Import dataset \"final_data.csv\" in pandas"
   ]
  },
  {
   "cell_type": "code",
   "execution_count": 2,
   "metadata": {},
   "outputs": [
    {
     "data": {
      "text/html": [
       "<div>\n",
       "<style scoped>\n",
       "    .dataframe tbody tr th:only-of-type {\n",
       "        vertical-align: middle;\n",
       "    }\n",
       "\n",
       "    .dataframe tbody tr th {\n",
       "        vertical-align: top;\n",
       "    }\n",
       "\n",
       "    .dataframe thead th {\n",
       "        text-align: right;\n",
       "    }\n",
       "</style>\n",
       "<table border=\"1\" class=\"dataframe\">\n",
       "  <thead>\n",
       "    <tr style=\"text-align: right;\">\n",
       "      <th></th>\n",
       "      <th>Unnamed: 0</th>\n",
       "      <th>address</th>\n",
       "      <th>info</th>\n",
       "      <th>z_address</th>\n",
       "      <th>bathrooms</th>\n",
       "      <th>bedrooms</th>\n",
       "      <th>finishedsqft</th>\n",
       "      <th>lastsolddate</th>\n",
       "      <th>lastsoldprice</th>\n",
       "      <th>latitude</th>\n",
       "      <th>longitude</th>\n",
       "      <th>neighborhood</th>\n",
       "      <th>totalrooms</th>\n",
       "      <th>usecode</th>\n",
       "      <th>yearbuilt</th>\n",
       "      <th>zestimate</th>\n",
       "      <th>zindexvalue</th>\n",
       "      <th>zipcode</th>\n",
       "      <th>zpid</th>\n",
       "    </tr>\n",
       "  </thead>\n",
       "  <tbody>\n",
       "    <tr>\n",
       "      <th>0</th>\n",
       "      <td>2</td>\n",
       "      <td>Address: 1160 Mission Street #2007</td>\n",
       "      <td>San FranciscoSales price: 1300000Sales date: ...</td>\n",
       "      <td>1160 Mission St UNIT 2007</td>\n",
       "      <td>2.0</td>\n",
       "      <td>2.0</td>\n",
       "      <td>1043.0</td>\n",
       "      <td>02/17/2016</td>\n",
       "      <td>1300000.0</td>\n",
       "      <td>37.778705</td>\n",
       "      <td>-122.412635</td>\n",
       "      <td>South of Market</td>\n",
       "      <td>4.0</td>\n",
       "      <td>Condominium</td>\n",
       "      <td>2007.0</td>\n",
       "      <td>1167508.0</td>\n",
       "      <td>975,700</td>\n",
       "      <td>94103.0</td>\n",
       "      <td>83152781.0</td>\n",
       "    </tr>\n",
       "    <tr>\n",
       "      <th>1</th>\n",
       "      <td>5</td>\n",
       "      <td>Address: 260 King Street #475</td>\n",
       "      <td>San FranciscoSales price: 750000Sales date: 0...</td>\n",
       "      <td>260 King St UNIT 475</td>\n",
       "      <td>1.0</td>\n",
       "      <td>1.0</td>\n",
       "      <td>903.0</td>\n",
       "      <td>02/17/2016</td>\n",
       "      <td>750000.0</td>\n",
       "      <td>37.777641</td>\n",
       "      <td>-122.393417</td>\n",
       "      <td>South of Market</td>\n",
       "      <td>3.0</td>\n",
       "      <td>Condominium</td>\n",
       "      <td>2004.0</td>\n",
       "      <td>823719.0</td>\n",
       "      <td>975,700</td>\n",
       "      <td>94107.0</td>\n",
       "      <td>69819817.0</td>\n",
       "    </tr>\n",
       "    <tr>\n",
       "      <th>2</th>\n",
       "      <td>7</td>\n",
       "      <td>Address: 560 Missouri Street #B</td>\n",
       "      <td>San FranciscoSales price: 1495000Sales date: ...</td>\n",
       "      <td>560 Missouri St # B</td>\n",
       "      <td>4.0</td>\n",
       "      <td>3.0</td>\n",
       "      <td>1425.0</td>\n",
       "      <td>02/17/2016</td>\n",
       "      <td>1495000.0</td>\n",
       "      <td>37.759198</td>\n",
       "      <td>-122.396516</td>\n",
       "      <td>Potrero Hill</td>\n",
       "      <td>6.0</td>\n",
       "      <td>Condominium</td>\n",
       "      <td>2003.0</td>\n",
       "      <td>1708594.0</td>\n",
       "      <td>1,277,600</td>\n",
       "      <td>94107.0</td>\n",
       "      <td>64972847.0</td>\n",
       "    </tr>\n",
       "    <tr>\n",
       "      <th>3</th>\n",
       "      <td>9</td>\n",
       "      <td>Address: 350 Missouri Street</td>\n",
       "      <td>San FranciscoSales price: 2700000Sales date: ...</td>\n",
       "      <td>350 Missouri St</td>\n",
       "      <td>3.0</td>\n",
       "      <td>3.0</td>\n",
       "      <td>2231.0</td>\n",
       "      <td>02/17/2016</td>\n",
       "      <td>2700000.0</td>\n",
       "      <td>37.761886</td>\n",
       "      <td>-122.396769</td>\n",
       "      <td>Potrero Hill</td>\n",
       "      <td>10.0</td>\n",
       "      <td>SingleFamily</td>\n",
       "      <td>1927.0</td>\n",
       "      <td>2411236.0</td>\n",
       "      <td>1,277,600</td>\n",
       "      <td>94107.0</td>\n",
       "      <td>15149489.0</td>\n",
       "    </tr>\n",
       "    <tr>\n",
       "      <th>4</th>\n",
       "      <td>11</td>\n",
       "      <td>Address: 3658 Folsom Street</td>\n",
       "      <td>San FranciscoSales price: 1530000Sales date: ...</td>\n",
       "      <td>3658 Folsom St</td>\n",
       "      <td>3.0</td>\n",
       "      <td>3.0</td>\n",
       "      <td>1300.0</td>\n",
       "      <td>02/17/2016</td>\n",
       "      <td>1530000.0</td>\n",
       "      <td>37.740795</td>\n",
       "      <td>-122.413453</td>\n",
       "      <td>Bernal Heights</td>\n",
       "      <td>4.0</td>\n",
       "      <td>SingleFamily</td>\n",
       "      <td>1900.0</td>\n",
       "      <td>1918539.0</td>\n",
       "      <td>1,248,000</td>\n",
       "      <td>94110.0</td>\n",
       "      <td>15161978.0</td>\n",
       "    </tr>\n",
       "  </tbody>\n",
       "</table>\n",
       "</div>"
      ],
      "text/plain": [
       "   Unnamed: 0                             address  \\\n",
       "0           2  Address: 1160 Mission Street #2007   \n",
       "1           5       Address: 260 King Street #475   \n",
       "2           7     Address: 560 Missouri Street #B   \n",
       "3           9        Address: 350 Missouri Street   \n",
       "4          11         Address: 3658 Folsom Street   \n",
       "\n",
       "                                                info  \\\n",
       "0   San FranciscoSales price: 1300000Sales date: ...   \n",
       "1   San FranciscoSales price: 750000Sales date: 0...   \n",
       "2   San FranciscoSales price: 1495000Sales date: ...   \n",
       "3   San FranciscoSales price: 2700000Sales date: ...   \n",
       "4   San FranciscoSales price: 1530000Sales date: ...   \n",
       "\n",
       "                   z_address  bathrooms  bedrooms  finishedsqft lastsolddate  \\\n",
       "0  1160 Mission St UNIT 2007        2.0       2.0        1043.0   02/17/2016   \n",
       "1       260 King St UNIT 475        1.0       1.0         903.0   02/17/2016   \n",
       "2        560 Missouri St # B        4.0       3.0        1425.0   02/17/2016   \n",
       "3            350 Missouri St        3.0       3.0        2231.0   02/17/2016   \n",
       "4             3658 Folsom St        3.0       3.0        1300.0   02/17/2016   \n",
       "\n",
       "   lastsoldprice   latitude   longitude     neighborhood  totalrooms  \\\n",
       "0      1300000.0  37.778705 -122.412635  South of Market         4.0   \n",
       "1       750000.0  37.777641 -122.393417  South of Market         3.0   \n",
       "2      1495000.0  37.759198 -122.396516     Potrero Hill         6.0   \n",
       "3      2700000.0  37.761886 -122.396769     Potrero Hill        10.0   \n",
       "4      1530000.0  37.740795 -122.413453   Bernal Heights         4.0   \n",
       "\n",
       "        usecode  yearbuilt  zestimate zindexvalue  zipcode        zpid  \n",
       "0   Condominium     2007.0  1167508.0     975,700  94103.0  83152781.0  \n",
       "1   Condominium     2004.0   823719.0     975,700  94107.0  69819817.0  \n",
       "2   Condominium     2003.0  1708594.0   1,277,600  94107.0  64972847.0  \n",
       "3  SingleFamily     1927.0  2411236.0   1,277,600  94107.0  15149489.0  \n",
       "4  SingleFamily     1900.0  1918539.0   1,248,000  94110.0  15161978.0  "
      ]
     },
     "execution_count": 2,
     "metadata": {},
     "output_type": "execute_result"
    }
   ],
   "source": [
    "import numpy as np\n",
    "import pandas as pd\n",
    "import matplotlib.pyplot as plt\n",
    "import seaborn as sns\n",
    "\n",
    "dataset = pd.read_csv(\"final_data_housing.csv\")\n",
    "dataset.head()"
   ]
  },
  {
   "cell_type": "code",
   "execution_count": 3,
   "metadata": {},
   "outputs": [
    {
     "name": "stdout",
     "output_type": "stream",
     "text": [
      "<class 'pandas.core.frame.DataFrame'>\n",
      "RangeIndex: 11330 entries, 0 to 11329\n",
      "Data columns (total 19 columns):\n",
      " #   Column         Non-Null Count  Dtype  \n",
      "---  ------         --------------  -----  \n",
      " 0   Unnamed: 0     11330 non-null  int64  \n",
      " 1   address        11330 non-null  object \n",
      " 2   info           11330 non-null  object \n",
      " 3   z_address      11330 non-null  object \n",
      " 4   bathrooms      11330 non-null  float64\n",
      " 5   bedrooms       11330 non-null  float64\n",
      " 6   finishedsqft   11330 non-null  float64\n",
      " 7   lastsolddate   11330 non-null  object \n",
      " 8   lastsoldprice  11330 non-null  float64\n",
      " 9   latitude       11330 non-null  float64\n",
      " 10  longitude      11330 non-null  float64\n",
      " 11  neighborhood   11330 non-null  object \n",
      " 12  totalrooms     11330 non-null  float64\n",
      " 13  usecode        11330 non-null  object \n",
      " 14  yearbuilt      11330 non-null  float64\n",
      " 15  zestimate      11330 non-null  float64\n",
      " 16  zindexvalue    11330 non-null  object \n",
      " 17  zipcode        11330 non-null  float64\n",
      " 18  zpid           11330 non-null  float64\n",
      "dtypes: float64(11), int64(1), object(7)\n",
      "memory usage: 1.6+ MB\n"
     ]
    }
   ],
   "source": [
    "dataset.info()"
   ]
  },
  {
   "cell_type": "code",
   "execution_count": 4,
   "metadata": {},
   "outputs": [
    {
     "name": "stderr",
     "output_type": "stream",
     "text": [
      "C:\\Users\\Pratik\\AppData\\Roaming\\Python\\Python39\\site-packages\\seaborn\\distributions.py:2619: FutureWarning: `distplot` is a deprecated function and will be removed in a future version. Please adapt your code to use either `displot` (a figure-level function with similar flexibility) or `histplot` (an axes-level function for histograms).\n",
      "  warnings.warn(msg, FutureWarning)\n"
     ]
    },
    {
     "name": "stdout",
     "output_type": "stream",
     "text": [
      "Skewness: 5.301444\n",
      "Kurtosis: 55.273743\n"
     ]
    },
    {
     "data": {
      "image/png": "[encoded data removed]",
      "text/plain": [
       "<Figure size 432x288 with 1 Axes>"
      ]
     },
     "metadata": {
      "needs_background": "light"
     },
     "output_type": "display_data"
    }
   ],
   "source": [
    "sns.distplot(dataset['lastsoldprice']);\n",
    "#skewness and kurtosis\n",
    "print(\"Skewness: %f\" % dataset['lastsoldprice'].skew())\n",
    "print(\"Kurtosis: %f\" % dataset['lastsoldprice'].kurt())"
   ]
  },
  {
   "cell_type": "markdown",
   "metadata": {
    "collapsed": true
   },
   "source": [
    "## 2. Preprocess/Clean the Dataset"
   ]
  },
  {
   "cell_type": "code",
   "execution_count": 5,
   "metadata": {
    "collapsed": true
   },
   "outputs": [],
   "source": [
    "'''\n",
    "The two columns \"lastsolddate\" and \"yearsbuilt\" are of different types.\n",
    "They are object and float type respectively. So converting them to datetime type into \"Years\"\n",
    "and finding the difference to get the exact age of the property in \"YearsOLD\" column\n",
    "'''\n",
    "dataset['lastsolddate'] = pd.to_datetime(dataset['lastsolddate'])\n",
    "dataset['lastsoldyear'] = pd.DatetimeIndex(dataset['lastsolddate']).year\n",
    "\n",
    "dataset[\"Years_OLD\"] = dataset.lastsoldyear - dataset.yearbuilt\n",
    "\n",
    "# Also dropping the unnecessory column at start \"Unnamed: 0\"\n",
    "dataset = dataset.drop([\"Unnamed: 0\"],axis = 1)\n"
   ]
  },
  {
   "cell_type": "code",
   "execution_count": 6,
   "metadata": {},
   "outputs": [
    {
     "data": {
      "text/plain": [
       "address          0\n",
       "info             0\n",
       "z_address        0\n",
       "bathrooms        0\n",
       "bedrooms         0\n",
       "finishedsqft     0\n",
       "lastsolddate     0\n",
       "lastsoldprice    0\n",
       "latitude         0\n",
       "longitude        0\n",
       "neighborhood     0\n",
       "totalrooms       0\n",
       "usecode          0\n",
       "yearbuilt        0\n",
       "zestimate        0\n",
       "zindexvalue      0\n",
       "zipcode          0\n",
       "zpid             0\n",
       "lastsoldyear     0\n",
       "Years_OLD        0\n",
       "dtype: int64"
      ]
     },
     "execution_count": 6,
     "metadata": {},
     "output_type": "execute_result"
    }
   ],
   "source": [
    "dataset.isnull().sum()"
   ]
  },
  {
   "cell_type": "code",
   "execution_count": 7,
   "metadata": {},
   "outputs": [
    {
     "data": {
      "text/html": [
       "<div>\n",
       "<style scoped>\n",
       "    .dataframe tbody tr th:only-of-type {\n",
       "        vertical-align: middle;\n",
       "    }\n",
       "\n",
       "    .dataframe tbody tr th {\n",
       "        vertical-align: top;\n",
       "    }\n",
       "\n",
       "    .dataframe thead th {\n",
       "        text-align: right;\n",
       "    }\n",
       "</style>\n",
       "<table border=\"1\" class=\"dataframe\">\n",
       "  <thead>\n",
       "    <tr style=\"text-align: right;\">\n",
       "      <th></th>\n",
       "      <th>bathrooms</th>\n",
       "      <th>bedrooms</th>\n",
       "      <th>totalrooms</th>\n",
       "      <th>finishedsqft</th>\n",
       "      <th>Years_OLD</th>\n",
       "      <th>zestimate</th>\n",
       "      <th>lastsoldprice</th>\n",
       "    </tr>\n",
       "  </thead>\n",
       "  <tbody>\n",
       "    <tr>\n",
       "      <th>0</th>\n",
       "      <td>2.0</td>\n",
       "      <td>2.0</td>\n",
       "      <td>4.0</td>\n",
       "      <td>1043.0</td>\n",
       "      <td>9.0</td>\n",
       "      <td>1167508.0</td>\n",
       "      <td>1300000.0</td>\n",
       "    </tr>\n",
       "    <tr>\n",
       "      <th>1</th>\n",
       "      <td>1.0</td>\n",
       "      <td>1.0</td>\n",
       "      <td>3.0</td>\n",
       "      <td>903.0</td>\n",
       "      <td>12.0</td>\n",
       "      <td>823719.0</td>\n",
       "      <td>750000.0</td>\n",
       "    </tr>\n",
       "    <tr>\n",
       "      <th>2</th>\n",
       "      <td>4.0</td>\n",
       "      <td>3.0</td>\n",
       "      <td>6.0</td>\n",
       "      <td>1425.0</td>\n",
       "      <td>13.0</td>\n",
       "      <td>1708594.0</td>\n",
       "      <td>1495000.0</td>\n",
       "    </tr>\n",
       "    <tr>\n",
       "      <th>3</th>\n",
       "      <td>3.0</td>\n",
       "      <td>3.0</td>\n",
       "      <td>10.0</td>\n",
       "      <td>2231.0</td>\n",
       "      <td>89.0</td>\n",
       "      <td>2411236.0</td>\n",
       "      <td>2700000.0</td>\n",
       "    </tr>\n",
       "    <tr>\n",
       "      <th>4</th>\n",
       "      <td>3.0</td>\n",
       "      <td>3.0</td>\n",
       "      <td>4.0</td>\n",
       "      <td>1300.0</td>\n",
       "      <td>116.0</td>\n",
       "      <td>1918539.0</td>\n",
       "      <td>1530000.0</td>\n",
       "    </tr>\n",
       "  </tbody>\n",
       "</table>\n",
       "</div>"
      ],
      "text/plain": [
       "   bathrooms  bedrooms  totalrooms  finishedsqft  Years_OLD  zestimate  \\\n",
       "0        2.0       2.0         4.0        1043.0        9.0  1167508.0   \n",
       "1        1.0       1.0         3.0         903.0       12.0   823719.0   \n",
       "2        4.0       3.0         6.0        1425.0       13.0  1708594.0   \n",
       "3        3.0       3.0        10.0        2231.0       89.0  2411236.0   \n",
       "4        3.0       3.0         4.0        1300.0      116.0  1918539.0   \n",
       "\n",
       "   lastsoldprice  \n",
       "0      1300000.0  \n",
       "1       750000.0  \n",
       "2      1495000.0  \n",
       "3      2700000.0  \n",
       "4      1530000.0  "
      ]
     },
     "execution_count": 7,
     "metadata": {},
     "output_type": "execute_result"
    }
   ],
   "source": [
    "\"\"\"\n",
    "Dataset contains many columns with categorical datatype, but categories \n",
    "are more than 10, so not possible to make dummies\n",
    "Alse, the float type objects such as ZipCode, Zid, zinde etc are not\n",
    "actually a numerical datatype which will affect the price of property\n",
    "So, keeping only relevent columns in dataset as follows:\n",
    "\"\"\"\n",
    "\n",
    "dataset = dataset[[\"bathrooms\",\"bedrooms\",\"totalrooms\",\"finishedsqft\",\"Years_OLD\",\"zestimate\",\"lastsoldprice\"]] \n",
    "dataset.head()"
   ]
  },
  {
   "cell_type": "code",
   "execution_count": 8,
   "metadata": {},
   "outputs": [
    {
     "data": {
      "text/html": [
       "<div>\n",
       "<style scoped>\n",
       "    .dataframe tbody tr th:only-of-type {\n",
       "        vertical-align: middle;\n",
       "    }\n",
       "\n",
       "    .dataframe tbody tr th {\n",
       "        vertical-align: top;\n",
       "    }\n",
       "\n",
       "    .dataframe thead th {\n",
       "        text-align: right;\n",
       "    }\n",
       "</style>\n",
       "<table border=\"1\" class=\"dataframe\">\n",
       "  <thead>\n",
       "    <tr style=\"text-align: right;\">\n",
       "      <th></th>\n",
       "      <th>bathrooms</th>\n",
       "      <th>bedrooms</th>\n",
       "      <th>totalrooms</th>\n",
       "      <th>finishedsqft</th>\n",
       "      <th>Years_OLD</th>\n",
       "      <th>zestimate</th>\n",
       "      <th>lastsoldprice</th>\n",
       "    </tr>\n",
       "  </thead>\n",
       "  <tbody>\n",
       "    <tr>\n",
       "      <th>count</th>\n",
       "      <td>11330.000000</td>\n",
       "      <td>11330.000000</td>\n",
       "      <td>11330.000000</td>\n",
       "      <td>11330.000000</td>\n",
       "      <td>11330.000000</td>\n",
       "      <td>1.133000e+04</td>\n",
       "      <td>1.133000e+04</td>\n",
       "    </tr>\n",
       "    <tr>\n",
       "      <th>mean</th>\n",
       "      <td>1.980229</td>\n",
       "      <td>2.614475</td>\n",
       "      <td>6.111562</td>\n",
       "      <td>1585.420918</td>\n",
       "      <td>65.310327</td>\n",
       "      <td>1.565695e+06</td>\n",
       "      <td>1.263928e+06</td>\n",
       "    </tr>\n",
       "    <tr>\n",
       "      <th>std</th>\n",
       "      <td>1.047358</td>\n",
       "      <td>1.299457</td>\n",
       "      <td>12.125819</td>\n",
       "      <td>921.978245</td>\n",
       "      <td>37.942097</td>\n",
       "      <td>1.229417e+06</td>\n",
       "      <td>1.042079e+06</td>\n",
       "    </tr>\n",
       "    <tr>\n",
       "      <th>min</th>\n",
       "      <td>0.500000</td>\n",
       "      <td>0.000000</td>\n",
       "      <td>1.000000</td>\n",
       "      <td>1.000000</td>\n",
       "      <td>-7.000000</td>\n",
       "      <td>4.323850e+05</td>\n",
       "      <td>5.350000e+02</td>\n",
       "    </tr>\n",
       "    <tr>\n",
       "      <th>25%</th>\n",
       "      <td>1.000000</td>\n",
       "      <td>2.000000</td>\n",
       "      <td>4.000000</td>\n",
       "      <td>1019.000000</td>\n",
       "      <td>28.000000</td>\n",
       "      <td>9.052375e+05</td>\n",
       "      <td>7.292500e+05</td>\n",
       "    </tr>\n",
       "    <tr>\n",
       "      <th>50%</th>\n",
       "      <td>2.000000</td>\n",
       "      <td>2.000000</td>\n",
       "      <td>5.000000</td>\n",
       "      <td>1362.000000</td>\n",
       "      <td>74.000000</td>\n",
       "      <td>1.230758e+06</td>\n",
       "      <td>9.900000e+05</td>\n",
       "    </tr>\n",
       "    <tr>\n",
       "      <th>75%</th>\n",
       "      <td>2.000000</td>\n",
       "      <td>3.000000</td>\n",
       "      <td>7.000000</td>\n",
       "      <td>1876.000000</td>\n",
       "      <td>98.000000</td>\n",
       "      <td>1.731170e+06</td>\n",
       "      <td>1.450000e+06</td>\n",
       "    </tr>\n",
       "    <tr>\n",
       "      <th>max</th>\n",
       "      <td>14.000000</td>\n",
       "      <td>20.000000</td>\n",
       "      <td>1264.000000</td>\n",
       "      <td>27275.000000</td>\n",
       "      <td>153.000000</td>\n",
       "      <td>1.553325e+07</td>\n",
       "      <td>2.388900e+07</td>\n",
       "    </tr>\n",
       "  </tbody>\n",
       "</table>\n",
       "</div>"
      ],
      "text/plain": [
       "          bathrooms      bedrooms    totalrooms  finishedsqft     Years_OLD  \\\n",
       "count  11330.000000  11330.000000  11330.000000  11330.000000  11330.000000   \n",
       "mean       1.980229      2.614475      6.111562   1585.420918     65.310327   \n",
       "std        1.047358      1.299457     12.125819    921.978245     37.942097   \n",
       "min        0.500000      0.000000      1.000000      1.000000     -7.000000   \n",
       "25%        1.000000      2.000000      4.000000   1019.000000     28.000000   \n",
       "50%        2.000000      2.000000      5.000000   1362.000000     74.000000   \n",
       "75%        2.000000      3.000000      7.000000   1876.000000     98.000000   \n",
       "max       14.000000     20.000000   1264.000000  27275.000000    153.000000   \n",
       "\n",
       "          zestimate  lastsoldprice  \n",
       "count  1.133000e+04   1.133000e+04  \n",
       "mean   1.565695e+06   1.263928e+06  \n",
       "std    1.229417e+06   1.042079e+06  \n",
       "min    4.323850e+05   5.350000e+02  \n",
       "25%    9.052375e+05   7.292500e+05  \n",
       "50%    1.230758e+06   9.900000e+05  \n",
       "75%    1.731170e+06   1.450000e+06  \n",
       "max    1.553325e+07   2.388900e+07  "
      ]
     },
     "execution_count": 8,
     "metadata": {},
     "output_type": "execute_result"
    }
   ],
   "source": [
    "dataset.describe()"
   ]
  },
  {
   "cell_type": "code",
   "execution_count": 9,
   "metadata": {},
   "outputs": [
    {
     "name": "stdout",
     "output_type": "stream",
     "text": [
      "Outliers in price Threshold 16322.500000000002 10998355.000000011\n"
     ]
    },
    {
     "data": {
      "text/html": [
       "<div>\n",
       "<style scoped>\n",
       "    .dataframe tbody tr th:only-of-type {\n",
       "        vertical-align: middle;\n",
       "    }\n",
       "\n",
       "    .dataframe tbody tr th {\n",
       "        vertical-align: top;\n",
       "    }\n",
       "\n",
       "    .dataframe thead th {\n",
       "        text-align: right;\n",
       "    }\n",
       "</style>\n",
       "<table border=\"1\" class=\"dataframe\">\n",
       "  <thead>\n",
       "    <tr style=\"text-align: right;\">\n",
       "      <th></th>\n",
       "      <th>bathrooms</th>\n",
       "      <th>bedrooms</th>\n",
       "      <th>totalrooms</th>\n",
       "      <th>finishedsqft</th>\n",
       "      <th>Years_OLD</th>\n",
       "      <th>zestimate</th>\n",
       "      <th>lastsoldprice</th>\n",
       "    </tr>\n",
       "  </thead>\n",
       "  <tbody>\n",
       "    <tr>\n",
       "      <th>8300</th>\n",
       "      <td>2.0</td>\n",
       "      <td>2.0</td>\n",
       "      <td>94.0</td>\n",
       "      <td>805.0</td>\n",
       "      <td>20.0</td>\n",
       "      <td>502285.0</td>\n",
       "      <td>325000.0</td>\n",
       "    </tr>\n",
       "    <tr>\n",
       "      <th>8967</th>\n",
       "      <td>2.0</td>\n",
       "      <td>2.0</td>\n",
       "      <td>1264.0</td>\n",
       "      <td>1264.0</td>\n",
       "      <td>1.0</td>\n",
       "      <td>1591608.0</td>\n",
       "      <td>1375000.0</td>\n",
       "    </tr>\n",
       "    <tr>\n",
       "      <th>11175</th>\n",
       "      <td>7.0</td>\n",
       "      <td>13.0</td>\n",
       "      <td>33.0</td>\n",
       "      <td>7957.0</td>\n",
       "      <td>100.0</td>\n",
       "      <td>9304469.0</td>\n",
       "      <td>3350000.0</td>\n",
       "    </tr>\n",
       "  </tbody>\n",
       "</table>\n",
       "</div>"
      ],
      "text/plain": [
       "       bathrooms  bedrooms  totalrooms  finishedsqft  Years_OLD  zestimate  \\\n",
       "8300         2.0       2.0        94.0         805.0       20.0   502285.0   \n",
       "8967         2.0       2.0      1264.0        1264.0        1.0  1591608.0   \n",
       "11175        7.0      13.0        33.0        7957.0      100.0  9304469.0   \n",
       "\n",
       "       lastsoldprice  \n",
       "8300        325000.0  \n",
       "8967       1375000.0  \n",
       "11175      3350000.0  "
      ]
     },
     "execution_count": 9,
     "metadata": {},
     "output_type": "execute_result"
    }
   ],
   "source": [
    "'''\n",
    "Now some of the sold prices are very extreme, like min sold price is only $535, which is outlire.\n",
    "so, removing outliers with some threshold values\n",
    "'''\n",
    "min_thresold_price, max_thresold_price = dataset.lastsoldprice.quantile([0.001,0.999])\n",
    "print(\"Outliers in price Threshold\",min_thresold_price, max_thresold_price)\n",
    "'''\n",
    "also, total rooms max value is 1264, which is an outlier.\n",
    "So, keeping the properties with total room < 30 in our dataset\n",
    "'''\n",
    "dataset[dataset.totalrooms > 30]\n"
   ]
  },
  {
   "cell_type": "code",
   "execution_count": 10,
   "metadata": {},
   "outputs": [
    {
     "data": {
      "text/plain": [
       "(11306, 7)"
      ]
     },
     "execution_count": 10,
     "metadata": {},
     "output_type": "execute_result"
    }
   ],
   "source": [
    "dataset = dataset[(dataset.lastsoldprice < max_thresold_price) & (dataset.lastsoldprice > min_thresold_price)]\n",
    "dataset.shape"
   ]
  },
  {
   "cell_type": "code",
   "execution_count": 24,
   "metadata": {},
   "outputs": [
    {
     "data": {
      "text/plain": [
       "'\\ndataset = dataset[(dataset.totalrooms < 30)]\\ndataset.shape\\n'"
      ]
     },
     "execution_count": 24,
     "metadata": {},
     "output_type": "execute_result"
    }
   ],
   "source": [
    "'''\n",
    "dataset = dataset[(dataset.totalrooms < 30)]\n",
    "dataset.shape\n",
    "'''"
   ]
  },
  {
   "cell_type": "code",
   "execution_count": 12,
   "metadata": {
    "collapsed": true
   },
   "outputs": [],
   "source": [
    "#Target : lastsoldprice column\n",
    "#features: reset of columns except lastsoldprice\n",
    "X = dataset.drop('lastsoldprice', axis=1)\n",
    "y = dataset['lastsoldprice']"
   ]
  },
  {
   "cell_type": "code",
   "execution_count": 13,
   "metadata": {},
   "outputs": [
    {
     "name": "stdout",
     "output_type": "stream",
     "text": [
      "X_Train_shape (9044, 6) \n",
      "X_Test_shape (2262, 6) \n",
      "y_Train_shape (9044,) \n",
      "y_Test_shape (2262,)\n"
     ]
    }
   ],
   "source": [
    "# Now split the data into Train and Test data\n",
    "from sklearn.model_selection import train_test_split\n",
    "X_train, X_test, y_train, y_test = train_test_split(X, y, test_size=0.2,random_state=0)\n",
    "\n",
    "print(\"X_Train_shape\",X_train.shape, \"\\nX_Test_shape\",X_test.shape, \"\\ny_Train_shape\",y_train.shape, \"\\ny_Test_shape\",y_test.shape)"
   ]
  },
  {
   "cell_type": "markdown",
   "metadata": {},
   "source": [
    "## 3. Method 1: Multiple Linear Regression"
   ]
  },
  {
   "cell_type": "code",
   "execution_count": 14,
   "metadata": {
    "collapsed": true
   },
   "outputs": [
    {
     "name": "stdout",
     "output_type": "stream",
     "text": [
      "Intercept:  133211.58158204402\n",
      "Coefficients:  [ 8.23895441e+04 -3.71149332e+04 -3.30043549e+01 -7.12177746e+01\n",
      "  1.16624343e+03  6.99239454e-01]\n",
      "R2 socre is 0.7824834514475509\n",
      "mean_sqrd_error is== 214944384177.54922\n",
      "root_mean_squared error of is== 463620.9488122266\n"
     ]
    },
    {
     "data": {
      "text/plain": [
       "Text(0.5, 1.0, 'Actual vs. Multi-Linear reg Prediction')"
      ]
     },
     "execution_count": 14,
     "metadata": {},
     "output_type": "execute_result"
    },
    {
     "data": {
      "image/png": "[encoded data removed]",
      "text/plain": [
       "<Figure size 432x288 with 1 Axes>"
      ]
     },
     "metadata": {
      "needs_background": "light"
     },
     "output_type": "display_data"
    }
   ],
   "source": [
    "#Import Required Libraries for Linear Regression\n",
    "\n",
    "from sklearn import linear_model\n",
    "from sklearn.metrics import r2_score\n",
    "from sklearn.metrics import mean_squared_error\n",
    "from sklearn.model_selection import cross_val_score\n",
    "\n",
    "\n",
    "mlin_regr = linear_model.LinearRegression()\n",
    "mlin_regr.fit(X_train, y_train)\n",
    "\n",
    "#Print the results of intercept and Coefficient values\n",
    "print('Intercept: ', mlin_regr.intercept_)\n",
    "print('Coefficients: ', mlin_regr.coef_)\n",
    "\n",
    "# Prediction step\n",
    "y_pred_mlin = mlin_regr.predict(X_test)  \n",
    "\n",
    "# prediction accuracy score check\n",
    "score=r2_score(y_test,y_pred_mlin)\n",
    "print('R2 socre is',score)\n",
    "print('mean_sqrd_error is==',mean_squared_error(y_test,y_pred_mlin))\n",
    "print('root_mean_squared error of is==',np.sqrt(mean_squared_error(y_test,y_pred_mlin)))\n",
    "\n",
    "# scatter for actual vs predition in MultiLinear Model\n",
    "\n",
    "plt.scatter(x=y_test, y=y_pred_mlin,c='crimson')\n",
    "p1 = max(max(y_pred_mlin), max(y_test))\n",
    "p2 = min(min(y_pred_mlin), min(y_test))\n",
    "plt.plot([p1, p2], [p1, p2], 'b-')\n",
    "plt.xlabel('Actual')\n",
    "plt.ylabel('Prediction')\n",
    "plt.title('Actual vs. Multi-Linear reg Prediction')\n"
   ]
  },
  {
   "cell_type": "code",
   "execution_count": 15,
   "metadata": {},
   "outputs": [
    {
     "data": {
      "text/html": [
       "<table class=\"simpletable\">\n",
       "<caption>OLS Regression Results</caption>\n",
       "<tr>\n",
       "  <th>Dep. Variable:</th>      <td>lastsoldprice</td>  <th>  R-squared:         </th>  <td>   0.765</td>  \n",
       "</tr>\n",
       "<tr>\n",
       "  <th>Model:</th>                   <td>OLS</td>       <th>  Adj. R-squared:    </th>  <td>   0.765</td>  \n",
       "</tr>\n",
       "<tr>\n",
       "  <th>Method:</th>             <td>Least Squares</td>  <th>  F-statistic:       </th>  <td>   6135.</td>  \n",
       "</tr>\n",
       "<tr>\n",
       "  <th>Date:</th>             <td>Tue, 05 Apr 2022</td> <th>  Prob (F-statistic):</th>   <td>  0.00</td>   \n",
       "</tr>\n",
       "<tr>\n",
       "  <th>Time:</th>                 <td>00:24:36</td>     <th>  Log-Likelihood:    </th> <td>-1.6338e+05</td>\n",
       "</tr>\n",
       "<tr>\n",
       "  <th>No. Observations:</th>      <td> 11306</td>      <th>  AIC:               </th>  <td>3.268e+05</td> \n",
       "</tr>\n",
       "<tr>\n",
       "  <th>Df Residuals:</th>          <td> 11299</td>      <th>  BIC:               </th>  <td>3.268e+05</td> \n",
       "</tr>\n",
       "<tr>\n",
       "  <th>Df Model:</th>              <td>     6</td>      <th>                     </th>      <td> </td>     \n",
       "</tr>\n",
       "<tr>\n",
       "  <th>Covariance Type:</th>      <td>nonrobust</td>    <th>                     </th>      <td> </td>     \n",
       "</tr>\n",
       "</table>\n",
       "<table class=\"simpletable\">\n",
       "<tr>\n",
       "    <td></td>       <th>coef</th>     <th>std err</th>      <th>t</th>      <th>P>|t|</th>  <th>[0.025</th>    <th>0.975]</th>  \n",
       "</tr>\n",
       "<tr>\n",
       "  <th>const</th> <td> 1.223e+05</td> <td> 1.16e+04</td> <td>   10.582</td> <td> 0.000</td> <td> 9.96e+04</td> <td> 1.45e+05</td>\n",
       "</tr>\n",
       "<tr>\n",
       "  <th>x1</th>    <td> 8.881e+04</td> <td> 6938.169</td> <td>   12.800</td> <td> 0.000</td> <td> 7.52e+04</td> <td> 1.02e+05</td>\n",
       "</tr>\n",
       "<tr>\n",
       "  <th>x2</th>    <td> -4.39e+04</td> <td> 5419.200</td> <td>   -8.101</td> <td> 0.000</td> <td>-5.45e+04</td> <td>-3.33e+04</td>\n",
       "</tr>\n",
       "<tr>\n",
       "  <th>x3</th>    <td> -126.9979</td> <td>  359.297</td> <td>   -0.353</td> <td> 0.724</td> <td> -831.282</td> <td>  577.287</td>\n",
       "</tr>\n",
       "<tr>\n",
       "  <th>x4</th>    <td>  -61.2846</td> <td>    9.193</td> <td>   -6.666</td> <td> 0.000</td> <td>  -79.305</td> <td>  -43.264</td>\n",
       "</tr>\n",
       "<tr>\n",
       "  <th>x5</th>    <td> 1073.4277</td> <td>  124.535</td> <td>    8.620</td> <td> 0.000</td> <td>  829.318</td> <td> 1317.538</td>\n",
       "</tr>\n",
       "<tr>\n",
       "  <th>x6</th>    <td>    0.7051</td> <td>    0.006</td> <td>  123.669</td> <td> 0.000</td> <td>    0.694</td> <td>    0.716</td>\n",
       "</tr>\n",
       "</table>\n",
       "<table class=\"simpletable\">\n",
       "<tr>\n",
       "  <th>Omnibus:</th>       <td>3872.549</td> <th>  Durbin-Watson:     </th>  <td>   1.745</td> \n",
       "</tr>\n",
       "<tr>\n",
       "  <th>Prob(Omnibus):</th>  <td> 0.000</td>  <th>  Jarque-Bera (JB):  </th> <td>476456.853</td>\n",
       "</tr>\n",
       "<tr>\n",
       "  <th>Skew:</th>           <td> 0.607</td>  <th>  Prob(JB):          </th>  <td>    0.00</td> \n",
       "</tr>\n",
       "<tr>\n",
       "  <th>Kurtosis:</th>       <td>34.779</td>  <th>  Cond. No.          </th>  <td>5.37e+06</td> \n",
       "</tr>\n",
       "</table><br/><br/>Notes:<br/>[1] Standard Errors assume that the covariance matrix of the errors is correctly specified.<br/>[2] The condition number is large, 5.37e+06. This might indicate that there are<br/>strong multicollinearity or other numerical problems."
      ],
      "text/plain": [
       "<class 'statsmodels.iolib.summary.Summary'>\n",
       "\"\"\"\n",
       "                            OLS Regression Results                            \n",
       "==============================================================================\n",
       "Dep. Variable:          lastsoldprice   R-squared:                       0.765\n",
       "Model:                            OLS   Adj. R-squared:                  0.765\n",
       "Method:                 Least Squares   F-statistic:                     6135.\n",
       "Date:                Tue, 05 Apr 2022   Prob (F-statistic):               0.00\n",
       "Time:                        00:24:36   Log-Likelihood:            -1.6338e+05\n",
       "No. Observations:               11306   AIC:                         3.268e+05\n",
       "Df Residuals:                   11299   BIC:                         3.268e+05\n",
       "Df Model:                           6                                         \n",
       "Covariance Type:            nonrobust                                         \n",
       "==============================================================================\n",
       "                 coef    std err          t      P>|t|      [0.025      0.975]\n",
       "------------------------------------------------------------------------------\n",
       "const       1.223e+05   1.16e+04     10.582      0.000    9.96e+04    1.45e+05\n",
       "x1          8.881e+04   6938.169     12.800      0.000    7.52e+04    1.02e+05\n",
       "x2          -4.39e+04   5419.200     -8.101      0.000   -5.45e+04   -3.33e+04\n",
       "x3          -126.9979    359.297     -0.353      0.724    -831.282     577.287\n",
       "x4           -61.2846      9.193     -6.666      0.000     -79.305     -43.264\n",
       "x5          1073.4277    124.535      8.620      0.000     829.318    1317.538\n",
       "x6             0.7051      0.006    123.669      0.000       0.694       0.716\n",
       "==============================================================================\n",
       "Omnibus:                     3872.549   Durbin-Watson:                   1.745\n",
       "Prob(Omnibus):                  0.000   Jarque-Bera (JB):           476456.853\n",
       "Skew:                           0.607   Prob(JB):                         0.00\n",
       "Kurtosis:                      34.779   Cond. No.                     5.37e+06\n",
       "==============================================================================\n",
       "\n",
       "Notes:\n",
       "[1] Standard Errors assume that the covariance matrix of the errors is correctly specified.\n",
       "[2] The condition number is large, 5.37e+06. This might indicate that there are\n",
       "strong multicollinearity or other numerical problems.\n",
       "\"\"\""
      ]
     },
     "execution_count": 15,
     "metadata": {},
     "output_type": "execute_result"
    }
   ],
   "source": [
    "'''\n",
    "Backward Substitution Method for Linear Regression\n",
    "'''\n",
    "\n",
    "import statsmodels.api as sm\n",
    "x = np.append(arr=np.ones((11306,1)).astype(int),values=X, axis =  1)\n",
    "\n",
    "def backwardElimination(x, sl):\n",
    "    numVars = len(x[0])\n",
    "    for i in range(0, numVars):\n",
    "        regressor_OLS = sm.OLS(y, x).fit()\n",
    "        maxVar = max(regressor_OLS.pvalues)\n",
    "        if maxVar > sl:\n",
    "            for j in range(0, numVars - i):\n",
    "                if (regressor_OLS.pvalues[j] == maxVar):\n",
    "                    x = np.delete(x, j, 1)\n",
    "    regressor_OLS.summary()\n",
    "    return x\n",
    "\n",
    "\n",
    "sl = 0.05\n",
    "X_opt = x[:, [0, 1, 2, 3, 4, 5, 6]]\n",
    "X_Modeled = backwardElimination(X_opt, sl)\n",
    "\n",
    "regressor_OLS = sm.OLS(y,X_opt).fit()\n",
    "regressor_OLS.summary()"
   ]
  },
  {
   "cell_type": "code",
   "execution_count": 16,
   "metadata": {},
   "outputs": [
    {
     "data": {
      "text/html": [
       "<table class=\"simpletable\">\n",
       "<caption>OLS Regression Results</caption>\n",
       "<tr>\n",
       "  <th>Dep. Variable:</th>      <td>lastsoldprice</td>  <th>  R-squared:         </th>  <td>   0.765</td>  \n",
       "</tr>\n",
       "<tr>\n",
       "  <th>Model:</th>                   <td>OLS</td>       <th>  Adj. R-squared:    </th>  <td>   0.765</td>  \n",
       "</tr>\n",
       "<tr>\n",
       "  <th>Method:</th>             <td>Least Squares</td>  <th>  F-statistic:       </th>  <td>   7363.</td>  \n",
       "</tr>\n",
       "<tr>\n",
       "  <th>Date:</th>             <td>Tue, 05 Apr 2022</td> <th>  Prob (F-statistic):</th>   <td>  0.00</td>   \n",
       "</tr>\n",
       "<tr>\n",
       "  <th>Time:</th>                 <td>00:24:37</td>     <th>  Log-Likelihood:    </th> <td>-1.6338e+05</td>\n",
       "</tr>\n",
       "<tr>\n",
       "  <th>No. Observations:</th>      <td> 11306</td>      <th>  AIC:               </th>  <td>3.268e+05</td> \n",
       "</tr>\n",
       "<tr>\n",
       "  <th>Df Residuals:</th>          <td> 11300</td>      <th>  BIC:               </th>  <td>3.268e+05</td> \n",
       "</tr>\n",
       "<tr>\n",
       "  <th>Df Model:</th>              <td>     5</td>      <th>                     </th>      <td> </td>     \n",
       "</tr>\n",
       "<tr>\n",
       "  <th>Covariance Type:</th>      <td>nonrobust</td>    <th>                     </th>      <td> </td>     \n",
       "</tr>\n",
       "</table>\n",
       "<table class=\"simpletable\">\n",
       "<tr>\n",
       "    <td></td>       <th>coef</th>     <th>std err</th>      <th>t</th>      <th>P>|t|</th>  <th>[0.025</th>    <th>0.975]</th>  \n",
       "</tr>\n",
       "<tr>\n",
       "  <th>const</th> <td> 1.221e+05</td> <td> 1.15e+04</td> <td>   10.579</td> <td> 0.000</td> <td> 9.94e+04</td> <td> 1.45e+05</td>\n",
       "</tr>\n",
       "<tr>\n",
       "  <th>x1</th>    <td> 8.879e+04</td> <td> 6937.661</td> <td>   12.798</td> <td> 0.000</td> <td> 7.52e+04</td> <td> 1.02e+05</td>\n",
       "</tr>\n",
       "<tr>\n",
       "  <th>x2</th>    <td>  -4.4e+04</td> <td> 5412.202</td> <td>   -8.129</td> <td> 0.000</td> <td>-5.46e+04</td> <td>-3.34e+04</td>\n",
       "</tr>\n",
       "<tr>\n",
       "  <th>x3</th>    <td>  -61.4409</td> <td>    9.182</td> <td>   -6.691</td> <td> 0.000</td> <td>  -79.440</td> <td>  -43.442</td>\n",
       "</tr>\n",
       "<tr>\n",
       "  <th>x4</th>    <td> 1073.0262</td> <td>  124.525</td> <td>    8.617</td> <td> 0.000</td> <td>  828.936</td> <td> 1317.116</td>\n",
       "</tr>\n",
       "<tr>\n",
       "  <th>x5</th>    <td>    0.7051</td> <td>    0.006</td> <td>  123.677</td> <td> 0.000</td> <td>    0.694</td> <td>    0.716</td>\n",
       "</tr>\n",
       "</table>\n",
       "<table class=\"simpletable\">\n",
       "<tr>\n",
       "  <th>Omnibus:</th>       <td>3872.670</td> <th>  Durbin-Watson:     </th>  <td>   1.745</td> \n",
       "</tr>\n",
       "<tr>\n",
       "  <th>Prob(Omnibus):</th>  <td> 0.000</td>  <th>  Jarque-Bera (JB):  </th> <td>476437.454</td>\n",
       "</tr>\n",
       "<tr>\n",
       "  <th>Skew:</th>           <td> 0.607</td>  <th>  Prob(JB):          </th>  <td>    0.00</td> \n",
       "</tr>\n",
       "<tr>\n",
       "  <th>Kurtosis:</th>       <td>34.779</td>  <th>  Cond. No.          </th>  <td>5.36e+06</td> \n",
       "</tr>\n",
       "</table><br/><br/>Notes:<br/>[1] Standard Errors assume that the covariance matrix of the errors is correctly specified.<br/>[2] The condition number is large, 5.36e+06. This might indicate that there are<br/>strong multicollinearity or other numerical problems."
      ],
      "text/plain": [
       "<class 'statsmodels.iolib.summary.Summary'>\n",
       "\"\"\"\n",
       "                            OLS Regression Results                            \n",
       "==============================================================================\n",
       "Dep. Variable:          lastsoldprice   R-squared:                       0.765\n",
       "Model:                            OLS   Adj. R-squared:                  0.765\n",
       "Method:                 Least Squares   F-statistic:                     7363.\n",
       "Date:                Tue, 05 Apr 2022   Prob (F-statistic):               0.00\n",
       "Time:                        00:24:37   Log-Likelihood:            -1.6338e+05\n",
       "No. Observations:               11306   AIC:                         3.268e+05\n",
       "Df Residuals:                   11300   BIC:                         3.268e+05\n",
       "Df Model:                           5                                         \n",
       "Covariance Type:            nonrobust                                         \n",
       "==============================================================================\n",
       "                 coef    std err          t      P>|t|      [0.025      0.975]\n",
       "------------------------------------------------------------------------------\n",
       "const       1.221e+05   1.15e+04     10.579      0.000    9.94e+04    1.45e+05\n",
       "x1          8.879e+04   6937.661     12.798      0.000    7.52e+04    1.02e+05\n",
       "x2           -4.4e+04   5412.202     -8.129      0.000   -5.46e+04   -3.34e+04\n",
       "x3           -61.4409      9.182     -6.691      0.000     -79.440     -43.442\n",
       "x4          1073.0262    124.525      8.617      0.000     828.936    1317.116\n",
       "x5             0.7051      0.006    123.677      0.000       0.694       0.716\n",
       "==============================================================================\n",
       "Omnibus:                     3872.670   Durbin-Watson:                   1.745\n",
       "Prob(Omnibus):                  0.000   Jarque-Bera (JB):           476437.454\n",
       "Skew:                           0.607   Prob(JB):                         0.00\n",
       "Kurtosis:                      34.779   Cond. No.                     5.36e+06\n",
       "==============================================================================\n",
       "\n",
       "Notes:\n",
       "[1] Standard Errors assume that the covariance matrix of the errors is correctly specified.\n",
       "[2] The condition number is large, 5.36e+06. This might indicate that there are\n",
       "strong multicollinearity or other numerical problems.\n",
       "\"\"\""
      ]
     },
     "execution_count": 16,
     "metadata": {},
     "output_type": "execute_result"
    }
   ],
   "source": [
    "# Remove x3 which has p value more than 0.05\n",
    "X_opt = x[:, [0, 1, 2, 4, 5, 6]] \n",
    "X_Modeled = backwardElimination(X_opt, sl)\n",
    "regressor_OLS = sm.OLS(y,X_opt).fit()\n",
    "regressor_OLS.summary()"
   ]
  },
  {
   "cell_type": "markdown",
   "metadata": {},
   "source": [
    "## 4. Method 2: Least Absolute Shrinkage and Selection Operator(Lasso)"
   ]
  },
  {
   "cell_type": "code",
   "execution_count": 17,
   "metadata": {
    "collapsed": true
   },
   "outputs": [
    {
     "name": "stderr",
     "output_type": "stream",
     "text": [
      "C:\\Users\\Pratik\\AppData\\Roaming\\Python\\Python39\\site-packages\\sklearn\\linear_model\\_coordinate_descent.py:647: ConvergenceWarning: Objective did not converge. You might want to increase the number of iterations, check the scale of the features or consider increasing regularisation. Duality gap: 7.596e+14, tolerance: 6.216e+11\n",
      "  model = cd_fast.enet_coordinate_descent(\n",
      "C:\\Users\\Pratik\\AppData\\Roaming\\Python\\Python39\\site-packages\\sklearn\\linear_model\\_coordinate_descent.py:647: ConvergenceWarning: Objective did not converge. You might want to increase the number of iterations, check the scale of the features or consider increasing regularisation. Duality gap: 7.472e+14, tolerance: 6.209e+11\n",
      "  model = cd_fast.enet_coordinate_descent(\n",
      "C:\\Users\\Pratik\\AppData\\Roaming\\Python\\Python39\\site-packages\\sklearn\\linear_model\\_coordinate_descent.py:647: ConvergenceWarning: Objective did not converge. You might want to increase the number of iterations, check the scale of the features or consider increasing regularisation. Duality gap: 7.571e+14, tolerance: 6.124e+11\n",
      "  model = cd_fast.enet_coordinate_descent(\n",
      "C:\\Users\\Pratik\\AppData\\Roaming\\Python\\Python39\\site-packages\\sklearn\\linear_model\\_coordinate_descent.py:647: ConvergenceWarning: Objective did not converge. You might want to increase the number of iterations, check the scale of the features or consider increasing regularisation. Duality gap: 7.349e+14, tolerance: 6.397e+11\n",
      "  model = cd_fast.enet_coordinate_descent(\n",
      "C:\\Users\\Pratik\\AppData\\Roaming\\Python\\Python39\\site-packages\\sklearn\\linear_model\\_coordinate_descent.py:647: ConvergenceWarning: Objective did not converge. You might want to increase the number of iterations, check the scale of the features or consider increasing regularisation. Duality gap: 7.448e+14, tolerance: 6.297e+11\n",
      "  model = cd_fast.enet_coordinate_descent(\n",
      "C:\\Users\\Pratik\\AppData\\Roaming\\Python\\Python39\\site-packages\\sklearn\\linear_model\\_coordinate_descent.py:647: ConvergenceWarning: Objective did not converge. You might want to increase the number of iterations, check the scale of the features or consider increasing regularisation. Duality gap: 7.596e+14, tolerance: 6.216e+11\n",
      "  model = cd_fast.enet_coordinate_descent(\n",
      "C:\\Users\\Pratik\\AppData\\Roaming\\Python\\Python39\\site-packages\\sklearn\\linear_model\\_coordinate_descent.py:647: ConvergenceWarning: Objective did not converge. You might want to increase the number of iterations, check the scale of the features or consider increasing regularisation. Duality gap: 7.472e+14, tolerance: 6.209e+11\n",
      "  model = cd_fast.enet_coordinate_descent(\n",
      "C:\\Users\\Pratik\\AppData\\Roaming\\Python\\Python39\\site-packages\\sklearn\\linear_model\\_coordinate_descent.py:647: ConvergenceWarning: Objective did not converge. You might want to increase the number of iterations, check the scale of the features or consider increasing regularisation. Duality gap: 7.571e+14, tolerance: 6.124e+11\n",
      "  model = cd_fast.enet_coordinate_descent(\n",
      "C:\\Users\\Pratik\\AppData\\Roaming\\Python\\Python39\\site-packages\\sklearn\\linear_model\\_coordinate_descent.py:647: ConvergenceWarning: Objective did not converge. You might want to increase the number of iterations, check the scale of the features or consider increasing regularisation. Duality gap: 7.349e+14, tolerance: 6.397e+11\n",
      "  model = cd_fast.enet_coordinate_descent(\n",
      "C:\\Users\\Pratik\\AppData\\Roaming\\Python\\Python39\\site-packages\\sklearn\\linear_model\\_coordinate_descent.py:647: ConvergenceWarning: Objective did not converge. You might want to increase the number of iterations, check the scale of the features or consider increasing regularisation. Duality gap: 7.448e+14, tolerance: 6.297e+11\n",
      "  model = cd_fast.enet_coordinate_descent(\n",
      "C:\\Users\\Pratik\\AppData\\Roaming\\Python\\Python39\\site-packages\\sklearn\\linear_model\\_coordinate_descent.py:647: ConvergenceWarning: Objective did not converge. You might want to increase the number of iterations, check the scale of the features or consider increasing regularisation. Duality gap: 7.594e+14, tolerance: 6.216e+11\n",
      "  model = cd_fast.enet_coordinate_descent(\n",
      "C:\\Users\\Pratik\\AppData\\Roaming\\Python\\Python39\\site-packages\\sklearn\\linear_model\\_coordinate_descent.py:647: ConvergenceWarning: Objective did not converge. You might want to increase the number of iterations, check the scale of the features or consider increasing regularisation. Duality gap: 7.471e+14, tolerance: 6.209e+11\n",
      "  model = cd_fast.enet_coordinate_descent(\n",
      "C:\\Users\\Pratik\\AppData\\Roaming\\Python\\Python39\\site-packages\\sklearn\\linear_model\\_coordinate_descent.py:647: ConvergenceWarning: Objective did not converge. You might want to increase the number of iterations, check the scale of the features or consider increasing regularisation. Duality gap: 7.525e+14, tolerance: 6.124e+11\n",
      "  model = cd_fast.enet_coordinate_descent(\n",
      "C:\\Users\\Pratik\\AppData\\Roaming\\Python\\Python39\\site-packages\\sklearn\\linear_model\\_coordinate_descent.py:647: ConvergenceWarning: Objective did not converge. You might want to increase the number of iterations, check the scale of the features or consider increasing regularisation. Duality gap: 7.221e+14, tolerance: 6.397e+11\n",
      "  model = cd_fast.enet_coordinate_descent(\n",
      "C:\\Users\\Pratik\\AppData\\Roaming\\Python\\Python39\\site-packages\\sklearn\\linear_model\\_coordinate_descent.py:647: ConvergenceWarning: Objective did not converge. You might want to increase the number of iterations, check the scale of the features or consider increasing regularisation. Duality gap: 3.797e+13, tolerance: 6.209e+11\n",
      "  model = cd_fast.enet_coordinate_descent(\n"
     ]
    },
    {
     "name": "stdout",
     "output_type": "stream",
     "text": [
      "{'alpha': 10000.0}\n",
      "-222418254828.28778\n"
     ]
    }
   ],
   "source": [
    "from sklearn.linear_model import Lasso\n",
    "from sklearn.model_selection import GridSearchCV\n",
    "lasso = Lasso()\n",
    "parameters = {'alpha':[1e-15,1e-10,1e-8,1e-3,1e-2,1,5,10,20,30,35,40,45,50,55,100,1e3,5e3,1e4]}\n",
    "lasso_regressor = GridSearchCV(lasso, parameters,scoring='neg_mean_squared_error', cv=5)\n",
    "lasso_regressor.fit(X_train,y_train)\n",
    "print(lasso_regressor.best_params_)\n",
    "print(lasso_regressor.best_score_)"
   ]
  },
  {
   "cell_type": "code",
   "execution_count": 18,
   "metadata": {},
   "outputs": [
    {
     "name": "stderr",
     "output_type": "stream",
     "text": [
      "C:\\Users\\Pratik\\AppData\\Roaming\\Python\\Python39\\site-packages\\seaborn\\distributions.py:2619: FutureWarning: `distplot` is a deprecated function and will be removed in a future version. Please adapt your code to use either `displot` (a figure-level function with similar flexibility) or `histplot` (an axes-level function for histograms).\n",
      "  warnings.warn(msg, FutureWarning)\n"
     ]
    },
    {
     "data": {
      "text/plain": [
       "<AxesSubplot:xlabel='lastsoldprice', ylabel='Density'>"
      ]
     },
     "execution_count": 18,
     "metadata": {},
     "output_type": "execute_result"
    },
    {
     "data": {
      "image/png": "[encoded data removed]",
      "text/plain": [
       "<Figure size 432x288 with 1 Axes>"
      ]
     },
     "metadata": {
      "needs_background": "light"
     },
     "output_type": "display_data"
    }
   ],
   "source": [
    "prediction_lasso = lasso_regressor.predict(X_test)\n",
    "sns.distplot(y_test-prediction_lasso)"
   ]
  },
  {
   "cell_type": "code",
   "execution_count": 19,
   "metadata": {},
   "outputs": [
    {
     "name": "stdout",
     "output_type": "stream",
     "text": [
      "R2 socre is 0.7805171387358291\n",
      "mean_sqrd_error is== 216887444959.5183\n",
      "root_mean_squared error of is== 465711.76167187176\n"
     ]
    },
    {
     "data": {
      "text/plain": [
       "Text(0.5, 1.0, 'Actual vs. LASSO Prediction')"
      ]
     },
     "execution_count": 19,
     "metadata": {},
     "output_type": "execute_result"
    },
    {
     "data": {
      "image/png": "[encoded data removed]",
      "text/plain": [
       "<Figure size 432x288 with 1 Axes>"
      ]
     },
     "metadata": {
      "needs_background": "light"
     },
     "output_type": "display_data"
    }
   ],
   "source": [
    "# predicting the accuracy score\n",
    "score=r2_score(y_test,prediction_lasso)\n",
    "print('R2 socre is',score)\n",
    "print('mean_sqrd_error is==',mean_squared_error(y_test,prediction_lasso))\n",
    "print('root_mean_squared error of is==',np.sqrt(mean_squared_error(y_test,prediction_lasso)))\n",
    "\n",
    "\n",
    "# scatter for actual vs predition in LASSO\n",
    "\n",
    "plt.scatter(x=y_test, y=prediction_lasso,c='crimson')\n",
    "p1 = max(max(prediction_lasso), max(y_test))\n",
    "p2 = min(min(prediction_lasso), min(y_test))\n",
    "plt.plot([p1, p2], [p1, p2], 'b-')\n",
    "plt.xlabel('Actual')\n",
    "plt.ylabel('LASSO Prediction')\n",
    "plt.title('Actual vs. LASSO Prediction')"
   ]
  },
  {
   "cell_type": "markdown",
   "metadata": {},
   "source": [
    "## 5. Method 3: Decision Tree"
   ]
  },
  {
   "cell_type": "code",
   "execution_count": 20,
   "metadata": {
    "collapsed": true
   },
   "outputs": [],
   "source": [
    "# Decision Tree Regressor\n",
    "\n",
    "from sklearn.tree import DecisionTreeRegressor\n",
    "decision_Tree_reg =DecisionTreeRegressor()\n",
    "decision_Tree_reg.fit(X_train,y_train)\n",
    "\n",
    "# Model Prediction\n",
    "predictin_tree = decision_Tree_reg.predict(X_test)"
   ]
  },
  {
   "cell_type": "code",
   "execution_count": 21,
   "metadata": {},
   "outputs": [
    {
     "name": "stdout",
     "output_type": "stream",
     "text": [
      "R2 socre is 0.6735407478286703\n",
      "mean_sqrd_error is== 322598824705.5588\n",
      "root_mean_squared error of is== 567977.8382169139\n"
     ]
    },
    {
     "data": {
      "text/plain": [
       "Text(0.5, 1.0, 'Actual vs. Decision Tree Prediction')"
      ]
     },
     "execution_count": 21,
     "metadata": {},
     "output_type": "execute_result"
    },
    {
     "data": {
      "image/png": "[encoded data removed]",
      "text/plain": [
       "<Figure size 432x288 with 1 Axes>"
      ]
     },
     "metadata": {
      "needs_background": "light"
     },
     "output_type": "display_data"
    }
   ],
   "source": [
    "# predicting the accuracy score\n",
    "score=r2_score(y_test,predictin_tree)\n",
    "print('R2 socre is',score)\n",
    "print('mean_sqrd_error is==',mean_squared_error(y_test,predictin_tree))\n",
    "print('root_mean_squared error of is==',np.sqrt(mean_squared_error(y_test,predictin_tree)))\n",
    "\n",
    "\n",
    "# find scatter plot for prediction and actual\n",
    "\n",
    "plt.scatter(x=y_test, y=predictin_tree, c= 'crimson')\n",
    "p1 = max(max(predictin_tree), max(y_test))\n",
    "p2 = min(min(predictin_tree), min(y_test))\n",
    "plt.plot([p1, p2], [p1, p2], 'b-')\n",
    "plt.xlabel('Actual')\n",
    "plt.ylabel('Decision Tree Prediction')\n",
    "plt.title('Actual vs. Decision Tree Prediction')"
   ]
  },
  {
   "cell_type": "markdown",
   "metadata": {},
   "source": [
    "## 6. Method 4: Random Forest"
   ]
  },
  {
   "cell_type": "code",
   "execution_count": 22,
   "metadata": {
    "collapsed": true
   },
   "outputs": [],
   "source": [
    "from sklearn.ensemble import RandomForestRegressor\n",
    "#random_forrest_regressor = RandomForestRegressor(n_estimators = 100, random_state = 0)\n",
    " \n",
    "# fit the regressor with X_train and y_test data\n",
    "#random_forrest_regressor.fit(X_train, y_train)\n"
   ]
  },
  {
   "cell_type": "code",
   "execution_count": 23,
   "metadata": {},
   "outputs": [
    {
     "name": "stdout",
     "output_type": "stream",
     "text": [
      "R2 socre is 0.8119281049988631\n",
      "mean_sqrd_error is = 185847917876.3564\n",
      "root_mean_squared error of is = 431100.82101099787\n"
     ]
    },
    {
     "data": {
      "image/png": "[encoded data removed]",
      "text/plain": [
       "<Figure size 432x288 with 1 Axes>"
      ]
     },
     "metadata": {
      "needs_background": "light"
     },
     "output_type": "display_data"
    }
   ],
   "source": [
    "Rand_FR = RandomForestRegressor(n_estimators=500, n_jobs=-1)\n",
    "\n",
    "Rand_FR.fit(X_train, y_train)\n",
    "y_pred_rf = Rand_FR.predict(X_test)\n",
    "\n",
    "# Plot a scatter between predicted and actual\n",
    "plt.scatter(y_test, y_pred_rf, s=20, c='crimson')\n",
    "plt.title('Actual vs Predictions in Random Forest')\n",
    "plt.xlabel('Actual')\n",
    "plt.ylabel('Predicted in RF')\n",
    "\n",
    "plt.plot([min(y_test), max(y_test)], [min(y_test), max(y_test)])\n",
    "plt.tight_layout()\n",
    "\n",
    "\n",
    "# predicting the accuracy score\n",
    "score=r2_score(y_test,y_pred_rf)\n",
    "print('R2 socre is',score)\n",
    "print('mean_sqrd_error is =',mean_squared_error(y_test,y_pred_rf))\n",
    "print('root_mean_squared error of is =',np.sqrt(mean_squared_error(y_test,y_pred_rf)))"
   ]
  },
  {
   "cell_type": "markdown",
   "metadata": {},
   "source": [
    "### 7. Test Data Set Prediction Results Comparison Table of Method 1, Method 2, Method 3 and Method 4\n"
   ]
  },
  {
   "cell_type": "markdown",
   "metadata": {},
   "source": [
    "<table>\n",
    "<thead>\n",
    "    <tr>\n",
    "    <th colspan=\"4\">Predict The Bay Area’s Home Prices</th>\n",
    "    </tr>\n",
    "    <tr>\n",
    "    <th> </th>\n",
    "    <th>Multiple Linear Regression</th>\n",
    "    <th>Lasso</th>\n",
    "    <th>Decision Tree</th>\n",
    "    <th>Random Forest</th>\n",
    "    </tr>\n",
    "</thead>\n",
    "<tbody>\n",
    "    <tr>\n",
    "        <th>R Squared Score</th>\n",
    "        <td> 0.7824834514475509 </td>\n",
    "        <td> 0.7805171387358291 </td>\n",
    "        <td> 0.6822598497007799 </td>\n",
    "        <td> 0.8102098778623044 </td>\n",
    "    </tr>\n",
    "     <tr>\n",
    "         <th>RMSE</th>\n",
    "        <td> 463620.9488122266 </td>\n",
    "        <td> 465711.7616718717 </td>\n",
    "        <td> 560341.7059823958 </td>\n",
    "        <td> 433065.6148098809 </td>\n",
    "    </tr>\n",
    "</tbody>\n",
    "</table>"
   ]
  }
 ],
 "metadata": {
  "kernelspec": {
   "display_name": "Python 3 (ipykernel)",
   "language": "python",
   "name": "python3"
  },
  "language_info": {
   "codemirror_mode": {
    "name": "ipython",
    "version": 3
   },
   "file_extension": ".py",
   "mimetype": "text/x-python",
   "name": "python",
   "nbconvert_exporter": "python",
   "pygments_lexer": "ipython3",
   "version": "3.9.5"
  }
 },
 "nbformat": 4,
 "nbformat_minor": 2
}
